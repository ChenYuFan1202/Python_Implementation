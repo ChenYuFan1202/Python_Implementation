{
 "cells": [
  {
   "cell_type": "code",
   "execution_count": 1,
   "id": "c226968a",
   "metadata": {},
   "outputs": [],
   "source": [
    "import smtplib\n",
    "\n",
    "def send_email(gmail_addr, gmail_pwd, to_addrs, msg):\n",
    "    smtp_gmail = smtplib.SMTP(\"smtp.gmail.com\", 587)\n",
    "    print(smtp_gmail.ehlo())\n",
    "    print(smtp_gmail.starttls())\n",
    "    print(smtp_gmail.login(gmail_addr, gmail_pwd))\n",
    "    status = smtp_gmail.sendmail(from_addr = gmail_addr, to_addrs = to_addrs, msg = msg)\n",
    "    if not status:\n",
    "        print(\"寄信成功\")\n",
    "    else:\n",
    "        print(\"寄信失敗\", status)\n",
    "    smtp_gmail.quit()"
   ]
  }
 ],
 "metadata": {
  "kernelspec": {
   "display_name": "Python 3 (ipykernel)",
   "language": "python",
   "name": "python3"
  },
  "language_info": {
   "codemirror_mode": {
    "name": "ipython",
    "version": 3
   },
   "file_extension": ".py",
   "mimetype": "text/x-python",
   "name": "python",
   "nbconvert_exporter": "python",
   "pygments_lexer": "ipython3",
   "version": "3.9.7"
  }
 },
 "nbformat": 4,
 "nbformat_minor": 5
}
