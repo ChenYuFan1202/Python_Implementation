{
 "cells": [
  {
   "cell_type": "markdown",
   "id": "3d6c8c69",
   "metadata": {},
   "source": [
    "# 2-1list:可儲存一串資料的串列容器"
   ]
  },
  {
   "cell_type": "code",
   "execution_count": 1,
   "id": "9c4a5441",
   "metadata": {},
   "outputs": [
    {
     "data": {
      "text/plain": [
       "('蘋果', '芭樂')"
      ]
     },
     "execution_count": 1,
     "metadata": {},
     "output_type": "execute_result"
    }
   ],
   "source": [
    "fruit = [\"蘋果\",\"香蕉\",\"芭樂\"]\n",
    "fruit[0],fruit[2]"
   ]
  },
  {
   "cell_type": "code",
   "execution_count": 2,
   "id": "65de7f7d",
   "metadata": {},
   "outputs": [
    {
     "data": {
      "text/plain": [
       "['P', 'y', 't', 'h', 'o', 'n', ' ', '你', '好', '!']"
      ]
     },
     "execution_count": 2,
     "metadata": {},
     "output_type": "execute_result"
    }
   ],
   "source": [
    "s = list(\"Python 你好!\")\n",
    "s"
   ]
  },
  {
   "cell_type": "markdown",
   "id": "5bb32bbd",
   "metadata": {},
   "source": [
    "**list[-1] = list[len(list) - 1]**"
   ]
  },
  {
   "cell_type": "code",
   "execution_count": 7,
   "id": "ea1664f2",
   "metadata": {},
   "outputs": [
    {
     "name": "stdout",
     "output_type": "stream",
     "text": [
      "3 6\n"
     ]
    },
    {
     "data": {
      "text/plain": [
       "[[1, 2], [3, 4], [5, [6, 'string']]]"
      ]
     },
     "execution_count": 7,
     "metadata": {},
     "output_type": "execute_result"
    }
   ],
   "source": [
    "a = [[1,2],[3,4],[5,[6,7]]]\n",
    "print(a[1][0],a[2][1][0])\n",
    "a[2][1][1] = \"string\"\n",
    "a"
   ]
  },
  {
   "cell_type": "code",
   "execution_count": 8,
   "id": "1fa4c1a5",
   "metadata": {},
   "outputs": [
    {
     "data": {
      "text/plain": [
       "[[[0, 1, 2], [2, 0, 2], [0, 2, 1]],\n",
       " [[0, 1, 1], [2, 0, 2], [0, 2, 1]],\n",
       " [[0, 1, 1], [0, 0, 2], [0, 2, 1]]]"
      ]
     },
     "execution_count": 8,
     "metadata": {},
     "output_type": "execute_result"
    }
   ],
   "source": [
    "s = [[[0,1,2],[2,0,2],[0,2,1]],\n",
    "     [[0,1,1],[2,0,2],[0,2,1]],\n",
    "     [[0,1,1],[0,0,2],[0,2,1]]]\n",
    "s"
   ]
  },
  {
   "cell_type": "code",
   "execution_count": 12,
   "id": "47893b1a",
   "metadata": {},
   "outputs": [
    {
     "name": "stdout",
     "output_type": "stream",
     "text": [
      "[1, 3, 5]\n",
      "[4, 3, 2]\n",
      "[6, 5, 4, 3, 2, 1, 0]\n"
     ]
    },
    {
     "data": {
      "text/plain": [
       "[0, 1, 2, 3, 4, 5, 6]"
      ]
     },
     "execution_count": 12,
     "metadata": {},
     "output_type": "execute_result"
    }
   ],
   "source": [
    "s = [0,1,2,3,4,5,6]\n",
    "print(s[1:6:2])\n",
    "print(s[4:1:-1])\n",
    "print(s[::-1])\n",
    "s"
   ]
  },
  {
   "cell_type": "code",
   "execution_count": 2,
   "id": "eeb2f7bb",
   "metadata": {},
   "outputs": [
    {
     "name": "stdout",
     "output_type": "stream",
     "text": [
      "[0, 5, 'AB', 3]\n",
      "[0, 1]\n",
      "[0, 8, 9, 1, 2, 3]\n"
     ]
    },
    {
     "data": {
      "text/plain": [
       "[0, [9], 2, 3]"
      ]
     },
     "execution_count": 2,
     "metadata": {},
     "output_type": "execute_result"
    }
   ],
   "source": [
    "a = [0,1,2,3]\n",
    "a[1:3] = [5,\"AB\"]\n",
    "print(a)\n",
    "a = [0,1,2,3]\n",
    "a[2:] = []\n",
    "print(a)\n",
    "a = [0,1,2,3]\n",
    "a[1:1] = [8,9]\n",
    "print(a)\n",
    "a = [0,1,2,3]\n",
    "a[1] = [9]\n",
    "a"
   ]
  },
  {
   "cell_type": "code",
   "execution_count": 23,
   "id": "e776b5f4",
   "metadata": {},
   "outputs": [
    {
     "name": "stdout",
     "output_type": "stream",
     "text": [
      "[0, 'a', 'b', 'c']\n",
      "[0, 'a', 2, 'b']\n"
     ]
    }
   ],
   "source": [
    "a = [0,1,2,3]\n",
    "a[1:] = \"abc\"\n",
    "print(a)\n",
    "a = [0,1,2,3]\n",
    "a[1:4:2] = \"ab\"\n",
    "print(a)"
   ]
  },
  {
   "cell_type": "code",
   "execution_count": 28,
   "id": "ede41391",
   "metadata": {},
   "outputs": [
    {
     "name": "stdout",
     "output_type": "stream",
     "text": [
      "[0, 2, 3, 4, 5]\n",
      "[0, 1, 5]\n",
      "[0, 2, 4]\n"
     ]
    }
   ],
   "source": [
    "a = [0,1,2,3,4,5]\n",
    "del a[1]\n",
    "print(a)\n",
    "a = [0,1,2,3,4,5]\n",
    "del a[2:5]#等同於a[2:5] = []\n",
    "print(a)\n",
    "a = [0,1,2,3,4,5]\n",
    "del a[1:6:2]\n",
    "print(a)\n",
    "a = [0,1,2,3,4,5]\n",
    "del a\n",
    "#print(a)"
   ]
  },
  {
   "cell_type": "code",
   "execution_count": 29,
   "id": "0d1de9ee",
   "metadata": {},
   "outputs": [
    {
     "data": {
      "text/plain": [
       "True"
      ]
     },
     "execution_count": 29,
     "metadata": {},
     "output_type": "execute_result"
    }
   ],
   "source": [
    "[\"a\",\"b\"] < [\"c\"]"
   ]
  },
  {
   "cell_type": "markdown",
   "id": "a7a9457e",
   "metadata": {},
   "source": [
    "# 2-2tuple:不可更改的串列"
   ]
  },
  {
   "cell_type": "code",
   "execution_count": 33,
   "id": "80a47eb2",
   "metadata": {},
   "outputs": [
    {
     "name": "stdout",
     "output_type": "stream",
     "text": [
      "(0, 1, 2, 3)\n"
     ]
    },
    {
     "data": {
      "text/plain": [
       "[0, 1, 2, 3]"
      ]
     },
     "execution_count": 33,
     "metadata": {},
     "output_type": "execute_result"
    }
   ],
   "source": [
    "grade = (\"甲\",\"乙\",\"丙\",\"丁\");order = [0,1,2,3]\n",
    "order2 = tuple(order)\n",
    "print(order2)\n",
    "order"
   ]
  },
  {
   "cell_type": "code",
   "execution_count": 35,
   "id": "d4578753",
   "metadata": {},
   "outputs": [
    {
     "name": "stdout",
     "output_type": "stream",
     "text": [
      "<class 'int'>\n"
     ]
    },
    {
     "data": {
      "text/plain": [
       "tuple"
      ]
     },
     "execution_count": 35,
     "metadata": {},
     "output_type": "execute_result"
    }
   ],
   "source": [
    "a = (1)\n",
    "print(type(a))\n",
    "a = (1,)\n",
    "type(a)"
   ]
  },
  {
   "cell_type": "code",
   "execution_count": 37,
   "id": "6d50e4b6",
   "metadata": {},
   "outputs": [
    {
     "data": {
      "text/plain": [
       "tuple"
      ]
     },
     "execution_count": 37,
     "metadata": {},
     "output_type": "execute_result"
    }
   ],
   "source": [
    "a = (1,2)\n",
    "type(a)"
   ]
  },
  {
   "cell_type": "code",
   "execution_count": 41,
   "id": "b9bf7cf6",
   "metadata": {},
   "outputs": [
    {
     "name": "stdout",
     "output_type": "stream",
     "text": [
      "(0, 1, 2)\n",
      "(1,)\n"
     ]
    },
    {
     "data": {
      "text/plain": [
       "tuple"
      ]
     },
     "execution_count": 41,
     "metadata": {},
     "output_type": "execute_result"
    }
   ],
   "source": [
    "a = 0,1,2\n",
    "print(a)\n",
    "b = 1,\n",
    "print(b)\n",
    "type(b)"
   ]
  },
  {
   "cell_type": "code",
   "execution_count": 42,
   "id": "a4d1d8c4",
   "metadata": {},
   "outputs": [
    {
     "name": "stdout",
     "output_type": "stream",
     "text": [
      "1 2\n",
      "(1, 2)\n"
     ]
    }
   ],
   "source": [
    "print(1,2)\n",
    "print((1,2))"
   ]
  },
  {
   "cell_type": "code",
   "execution_count": 49,
   "id": "297907d9",
   "metadata": {},
   "outputs": [
    {
     "data": {
      "text/plain": [
       "([9, 1], 2)"
      ]
     },
     "execution_count": 49,
     "metadata": {},
     "output_type": "execute_result"
    }
   ],
   "source": [
    "t = ([0,1],2)\n",
    "t[0][0] = 9\n",
    "t"
   ]
  },
  {
   "cell_type": "code",
   "execution_count": 9,
   "id": "a2b46b0c",
   "metadata": {},
   "outputs": [
    {
     "name": "stdout",
     "output_type": "stream",
     "text": [
      "[3, 2]\n",
      "1986362692864 1986362789184\n"
     ]
    },
    {
     "data": {
      "text/plain": [
       "[1, 2]"
      ]
     },
     "execution_count": 9,
     "metadata": {},
     "output_type": "execute_result"
    }
   ],
   "source": [
    "x = [1,2]\n",
    "y = x + []\n",
    "x[0] = 3\n",
    "print(x)\n",
    "print(id(x),id(y))\n",
    "y"
   ]
  },
  {
   "cell_type": "code",
   "execution_count": 17,
   "id": "b20e99c8",
   "metadata": {},
   "outputs": [
    {
     "name": "stdout",
     "output_type": "stream",
     "text": [
      "[[1, 4], 3]\n"
     ]
    },
    {
     "data": {
      "text/plain": [
       "[[1, 4], 3]"
      ]
     },
     "execution_count": 17,
     "metadata": {},
     "output_type": "execute_result"
    }
   ],
   "source": [
    "a = [[1,2],3]\n",
    "b = a\n",
    "b[0][1] = 4\n",
    "print(b)\n",
    "a"
   ]
  },
  {
   "cell_type": "markdown",
   "id": "291640a2",
   "metadata": {},
   "source": [
    "# 2-3set:一堆資料的集合"
   ]
  },
  {
   "cell_type": "code",
   "execution_count": 58,
   "id": "b9769327",
   "metadata": {},
   "outputs": [
    {
     "name": "stdout",
     "output_type": "stream",
     "text": [
      "{0, 1, 2}\n",
      "{'c', 'b', 'd', 'a'}\n"
     ]
    },
    {
     "data": {
      "text/plain": [
       "'abcd'"
      ]
     },
     "execution_count": 58,
     "metadata": {},
     "output_type": "execute_result"
    }
   ],
   "source": [
    "myset = {0,1,2,1};mystr = \"abcd\"\n",
    "print(myset)\n",
    "newset = set(mystr)\n",
    "print(newset)\n",
    "mystr"
   ]
  },
  {
   "cell_type": "code",
   "execution_count": 18,
   "id": "715335a5",
   "metadata": {},
   "outputs": [
    {
     "name": "stdout",
     "output_type": "stream",
     "text": [
      "-2201116994560365978\n"
     ]
    },
    {
     "data": {
      "text/plain": [
       "1986318785328"
      ]
     },
     "execution_count": 18,
     "metadata": {},
     "output_type": "execute_result"
    }
   ],
   "source": [
    "print(hash(\"ab\"))\n",
    "#print(hash([1,2]))\n",
    "id(\"ab\")"
   ]
  },
  {
   "cell_type": "code",
   "execution_count": 65,
   "id": "d7bfdeeb",
   "metadata": {},
   "outputs": [
    {
     "name": "stdout",
     "output_type": "stream",
     "text": [
      "True\n"
     ]
    },
    {
     "data": {
      "text/plain": [
       "True"
      ]
     },
     "execution_count": 65,
     "metadata": {},
     "output_type": "execute_result"
    }
   ],
   "source": [
    "print({1,2} == {2,1})\n",
    "{\"a\",\"b\"} < {\"a\",\"b\",\"c\"}"
   ]
  },
  {
   "cell_type": "markdown",
   "id": "ea8345fd",
   "metadata": {},
   "source": [
    "# 2-4dict:以鍵查值的字典"
   ]
  },
  {
   "cell_type": "code",
   "execution_count": 66,
   "id": "35e9f6a9",
   "metadata": {},
   "outputs": [
    {
     "data": {
      "text/plain": [
       "{'A': 3, 'B': 2}"
      ]
     },
     "execution_count": 66,
     "metadata": {},
     "output_type": "execute_result"
    }
   ],
   "source": [
    "{\"A\":1,\"B\":2,\"A\":3}"
   ]
  },
  {
   "cell_type": "code",
   "execution_count": 20,
   "id": "64b477dc",
   "metadata": {},
   "outputs": [
    {
     "name": "stdout",
     "output_type": "stream",
     "text": [
      "{'A': 1, 'B': 2}\n"
     ]
    },
    {
     "data": {
      "text/plain": [
       "{'c': 'd', 'a': 'b'}"
      ]
     },
     "execution_count": 20,
     "metadata": {},
     "output_type": "execute_result"
    }
   ],
   "source": [
    "print(dict([(\"A\",1),[\"B\",2]]))\n",
    "dict({\"ab\",\"cd\"})"
   ]
  },
  {
   "cell_type": "code",
   "execution_count": 70,
   "id": "8d68ca54",
   "metadata": {},
   "outputs": [
    {
     "ename": "TypeError",
     "evalue": "unhashable type: 'list'",
     "output_type": "error",
     "traceback": [
      "\u001b[1;31m---------------------------------------------------------------------------\u001b[0m",
      "\u001b[1;31mTypeError\u001b[0m                                 Traceback (most recent call last)",
      "Cell \u001b[1;32mIn[70], line 1\u001b[0m\n\u001b[1;32m----> 1\u001b[0m \u001b[38;5;28mdict\u001b[39m({[\u001b[38;5;124m\"\u001b[39m\u001b[38;5;124mA\u001b[39m\u001b[38;5;124m\"\u001b[39m,\u001b[38;5;241m1\u001b[39m]})\n",
      "\u001b[1;31mTypeError\u001b[0m: unhashable type: 'list'"
     ]
    }
   ],
   "source": [
    "#dict({[\"A\",1]})"
   ]
  },
  {
   "cell_type": "code",
   "execution_count": 71,
   "id": "ed14c041",
   "metadata": {},
   "outputs": [
    {
     "name": "stdout",
     "output_type": "stream",
     "text": [
      "['A', 'B']\n"
     ]
    },
    {
     "data": {
      "text/plain": [
       "{'A', 'B'}"
      ]
     },
     "execution_count": 71,
     "metadata": {},
     "output_type": "execute_result"
    }
   ],
   "source": [
    "print(list({\"A\":1,\"B\":2}))\n",
    "set({\"A\":1,\"B\":2})"
   ]
  },
  {
   "cell_type": "code",
   "execution_count": 72,
   "id": "5a8775c7",
   "metadata": {},
   "outputs": [
    {
     "data": {
      "text/plain": [
       "{'紅茶': 30, '拿鐵': 50}"
      ]
     },
     "execution_count": 72,
     "metadata": {},
     "output_type": "execute_result"
    }
   ],
   "source": [
    "d = {\"紅茶\":25,\"果汁\":45}\n",
    "d[\"紅茶\"] = 30\n",
    "d[\"拿鐵\"] = 50\n",
    "del d[\"果汁\"]\n",
    "d"
   ]
  },
  {
   "cell_type": "code",
   "execution_count": 75,
   "id": "87fef631",
   "metadata": {},
   "outputs": [
    {
     "name": "stdout",
     "output_type": "stream",
     "text": [
      "True\n",
      "True\n"
     ]
    }
   ],
   "source": [
    "print(1 in {1:3,2:4})\n",
    "print(3 not in {1:3,2:4})"
   ]
  },
  {
   "cell_type": "code",
   "execution_count": 79,
   "id": "e6d5fd99",
   "metadata": {},
   "outputs": [
    {
     "name": "stdout",
     "output_type": "stream",
     "text": [
      "True\n"
     ]
    }
   ],
   "source": [
    "print({1:3,2:4} == {2:4,1:3})"
   ]
  },
  {
   "cell_type": "code",
   "execution_count": 82,
   "id": "a41bf58d",
   "metadata": {},
   "outputs": [
    {
     "name": "stdout",
     "output_type": "stream",
     "text": [
      "202\n"
     ]
    },
    {
     "data": {
      "text/plain": [
       "{('王', '小明'): 201, ('陳', '美美'): 202, ('張', '天才'): 203}"
      ]
     },
     "execution_count": 82,
     "metadata": {},
     "output_type": "execute_result"
    }
   ],
   "source": [
    "extno = {(\"王\",\"小明\"):201,(\"陳\",\"美美\"):202}\n",
    "print(extno[(\"陳\",\"美美\")])#有無()都可以\n",
    "extno[\"張\",\"天才\"] = 203\n",
    "extno"
   ]
  },
  {
   "cell_type": "markdown",
   "id": "d3ca7bce",
   "metadata": {},
   "source": [
    "# 2-5字串也是一種資料結構"
   ]
  },
  {
   "cell_type": "code",
   "execution_count": 2,
   "id": "ebf1303e",
   "metadata": {},
   "outputs": [
    {
     "name": "stdout",
     "output_type": "stream",
     "text": [
      "1\n",
      "01\n",
      "3456\n",
      "\n",
      "135\n"
     ]
    },
    {
     "data": {
      "text/plain": [
       "''"
      ]
     },
     "execution_count": 2,
     "metadata": {},
     "output_type": "execute_result"
    }
   ],
   "source": [
    "s = \"0123456\"\n",
    "print(s[1])\n",
    "#s[1] = 4\n",
    "print(s[:2])\n",
    "print(s[3:])\n",
    "print(s[2:1])\n",
    "print(s[1:6:2])\n",
    "s[2:1]"
   ]
  },
  {
   "cell_type": "code",
   "execution_count": 27,
   "id": "c6cdf569",
   "metadata": {},
   "outputs": [
    {
     "data": {
      "text/plain": [
       "'[1, 2, 3]'"
      ]
     },
     "execution_count": 27,
     "metadata": {},
     "output_type": "execute_result"
    }
   ],
   "source": [
    "str([1,2,3])"
   ]
  },
  {
   "cell_type": "markdown",
   "id": "d403e258",
   "metadata": {},
   "source": [
    "# 2-6容器常用的函式(Function)"
   ]
  },
  {
   "cell_type": "code",
   "execution_count": 30,
   "id": "e61e3860",
   "metadata": {},
   "outputs": [
    {
     "name": "stdout",
     "output_type": "stream",
     "text": [
      "6\n",
      "2\n",
      "3\n"
     ]
    }
   ],
   "source": [
    "print(len(\"string\"))\n",
    "print(len([\"string\",\"statement\"]))\n",
    "print(len({1:\"abc\",2:\"def\",3:\"123\"}))"
   ]
  },
  {
   "cell_type": "code",
   "execution_count": 33,
   "id": "6ad192e5",
   "metadata": {},
   "outputs": [
    {
     "data": {
      "text/plain": [
       "11"
      ]
     },
     "execution_count": 33,
     "metadata": {},
     "output_type": "execute_result"
    }
   ],
   "source": [
    "a = [0,3,2,1]\n",
    "sum(a,5)"
   ]
  },
  {
   "cell_type": "code",
   "execution_count": 34,
   "id": "11a6e812",
   "metadata": {},
   "outputs": [
    {
     "data": {
      "text/plain": [
       "(3, 1, 6)"
      ]
     },
     "execution_count": 34,
     "metadata": {},
     "output_type": "execute_result"
    }
   ],
   "source": [
    "d = {1:4,2:5,3:6}\n",
    "max(d),min(d),sum(d)    "
   ]
  },
  {
   "cell_type": "code",
   "execution_count": 35,
   "id": "dd9ed026",
   "metadata": {},
   "outputs": [
    {
     "name": "stdout",
     "output_type": "stream",
     "text": [
      "A\n",
      "人\n"
     ]
    }
   ],
   "source": [
    "print(min(\"Abc人\"))\n",
    "print(max(\"Abc人\"))"
   ]
  },
  {
   "cell_type": "code",
   "execution_count": 38,
   "id": "c059de6f",
   "metadata": {},
   "outputs": [
    {
     "name": "stdout",
     "output_type": "stream",
     "text": [
      "[1, 2, 3]\n",
      "[1, 2, 3]\n",
      "[1, 2, 3]\n"
     ]
    },
    {
     "data": {
      "text/plain": [
       "['c', 'b', 'a']"
      ]
     },
     "execution_count": 38,
     "metadata": {},
     "output_type": "execute_result"
    }
   ],
   "source": [
    "print(sorted([3,1,2]))\n",
    "print(sorted({3,1,2}))\n",
    "print(sorted({3:7,1:8,2:9}))\n",
    "sorted(\"bac\",reverse = True)"
   ]
  },
  {
   "cell_type": "code",
   "execution_count": 45,
   "id": "28381dd8",
   "metadata": {},
   "outputs": [
    {
     "name": "stdout",
     "output_type": "stream",
     "text": [
      "[0, 3, 2, 1]\n",
      "('c', 'a', 'd', 'b')\n"
     ]
    }
   ],
   "source": [
    "print(list(reversed([1,2,3,0])))\n",
    "print(tuple(reversed(\"bdac\")))\n",
    "#print(tuple(reversed({0,1,2})))"
   ]
  },
  {
   "cell_type": "markdown",
   "id": "8df7b7e0",
   "metadata": {},
   "source": [
    "# 2-7容器相關的方法(Method)"
   ]
  },
  {
   "cell_type": "code",
   "execution_count": 51,
   "id": "4fd82d14",
   "metadata": {},
   "outputs": [
    {
     "name": "stdout",
     "output_type": "stream",
     "text": [
      "['a', 'abc', 'k', 'v']\n",
      "['v', 'a', 'k', 'abc']\n",
      "['a', 'abc', 'k', 'v']\n",
      "['v', 'k', 'abc', 'a']\n"
     ]
    }
   ],
   "source": [
    "mylist = [\"v\",\"a\",\"k\",\"abc\"]\n",
    "newlist = sorted(mylist)\n",
    "print(newlist)\n",
    "print(mylist)\n",
    "mylist.sort()\n",
    "print(mylist)\n",
    "mylist.reverse()\n",
    "print(mylist)"
   ]
  },
  {
   "cell_type": "code",
   "execution_count": 54,
   "id": "951e1a37",
   "metadata": {},
   "outputs": [
    {
     "name": "stdout",
     "output_type": "stream",
     "text": [
      "[0, 9, 1, 2]\n",
      "[0, 1, 2, 4, 5]\n"
     ]
    }
   ],
   "source": [
    "s = [0,1,2]\n",
    "s.insert(1,9)\n",
    "print(s)\n",
    "s = [0,1,2]\n",
    "s += [4,5]#跟s.extend([4,5])一樣\n",
    "print(s)"
   ]
  },
  {
   "cell_type": "code",
   "execution_count": 62,
   "id": "0a035c25",
   "metadata": {},
   "outputs": [
    {
     "name": "stdout",
     "output_type": "stream",
     "text": [
      "1\n",
      "2\n",
      "[0, 2, 1]\n"
     ]
    },
    {
     "data": {
      "text/plain": [
       "[]"
      ]
     },
     "execution_count": 62,
     "metadata": {},
     "output_type": "execute_result"
    }
   ],
   "source": [
    "s = [0,1,2,1]\n",
    "print(s.index(1))\n",
    "print(s.count(1))\n",
    "s.remove(1)\n",
    "print(s)\n",
    "s.clear()\n",
    "s"
   ]
  },
  {
   "cell_type": "code",
   "execution_count": 64,
   "id": "5490bca4",
   "metadata": {},
   "outputs": [
    {
     "data": {
      "text/plain": [
       "[]"
      ]
     },
     "execution_count": 64,
     "metadata": {},
     "output_type": "execute_result"
    }
   ],
   "source": [
    "s = [0,1,2,1]\n",
    "del s[:]#如果是del s，變數都被收走了\n",
    "s"
   ]
  },
  {
   "cell_type": "code",
   "execution_count": 3,
   "id": "913ca7c9",
   "metadata": {},
   "outputs": [
    {
     "data": {
      "text/plain": [
       "[]"
      ]
     },
     "execution_count": 3,
     "metadata": {},
     "output_type": "execute_result"
    }
   ],
   "source": [
    "s = [0,1,2,1]\n",
    "s[:] = []\n",
    "s"
   ]
  },
  {
   "cell_type": "code",
   "execution_count": 66,
   "id": "a7004b1f",
   "metadata": {},
   "outputs": [
    {
     "name": "stdout",
     "output_type": "stream",
     "text": [
      "[0, 2, 3]\n"
     ]
    },
    {
     "data": {
      "text/plain": [
       "[0, 1, 2]"
      ]
     },
     "execution_count": 66,
     "metadata": {},
     "output_type": "execute_result"
    }
   ],
   "source": [
    "s = [0,1,2,3]\n",
    "s.pop(1)\n",
    "print(s)\n",
    "s = [0,1,2,3]\n",
    "s.pop()\n",
    "s"
   ]
  },
  {
   "cell_type": "code",
   "execution_count": 67,
   "id": "cfc296ba",
   "metadata": {},
   "outputs": [
    {
     "data": {
      "text/plain": [
       "['abc', 1, 2, 3]"
      ]
     },
     "execution_count": 67,
     "metadata": {},
     "output_type": "execute_result"
    }
   ],
   "source": [
    "a = [0,1,2,3]\n",
    "b = a\n",
    "b[0] = \"abc\"\n",
    "a"
   ]
  },
  {
   "cell_type": "code",
   "execution_count": 68,
   "id": "bae5cb6a",
   "metadata": {},
   "outputs": [
    {
     "name": "stdout",
     "output_type": "stream",
     "text": [
      "[0, 1, 2, 3]\n"
     ]
    },
    {
     "data": {
      "text/plain": [
       "['abc', 1, 2, 3]"
      ]
     },
     "execution_count": 68,
     "metadata": {},
     "output_type": "execute_result"
    }
   ],
   "source": [
    "a = [0,1,2,3]\n",
    "b = a.copy()\n",
    "b[0] = \"abc\"\n",
    "print(a)\n",
    "b"
   ]
  },
  {
   "cell_type": "code",
   "execution_count": 72,
   "id": "c0ec7ebc",
   "metadata": {},
   "outputs": [
    {
     "name": "stdout",
     "output_type": "stream",
     "text": [
      "AB5\n",
      "False\n"
     ]
    },
    {
     "data": {
      "text/plain": [
       "True"
      ]
     },
     "execution_count": 72,
     "metadata": {},
     "output_type": "execute_result"
    }
   ],
   "source": [
    "print(\"ab5\".upper())\n",
    "print(\"ab5\".isalpha())\n",
    "\"ab5\".isalnum()"
   ]
  },
  {
   "cell_type": "code",
   "execution_count": 74,
   "id": "ad7ced4a",
   "metadata": {},
   "outputs": [
    {
     "name": "stdout",
     "output_type": "stream",
     "text": [
      "1\n"
     ]
    },
    {
     "data": {
      "text/plain": [
       "4"
      ]
     },
     "execution_count": 74,
     "metadata": {},
     "output_type": "execute_result"
    }
   ],
   "source": [
    "print(\"ab5ab5a\".find(\"b5\"))\n",
    "\"ab5ab5a\".rfind(\"b5\")"
   ]
  },
  {
   "cell_type": "code",
   "execution_count": 76,
   "id": "cabc363f",
   "metadata": {},
   "outputs": [
    {
     "data": {
      "text/plain": [
       "'--ab5'"
      ]
     },
     "execution_count": 76,
     "metadata": {},
     "output_type": "execute_result"
    }
   ],
   "source": [
    "\"--ab5--\".rstrip(\"-\")"
   ]
  },
  {
   "cell_type": "code",
   "execution_count": 4,
   "id": "c038bd07",
   "metadata": {},
   "outputs": [
    {
     "name": "stdout",
     "output_type": "stream",
     "text": [
      "['1', '2', '', '3', '']\n",
      "['1', '2', '3']\n"
     ]
    },
    {
     "data": {
      "text/plain": [
       "['1', '2', '3']"
      ]
     },
     "execution_count": 4,
     "metadata": {},
     "output_type": "execute_result"
    }
   ],
   "source": [
    "print(\"1,2,,3,\".split(\",\"))\n",
    "print(\"1 2  3\".split())\n",
    "\" 1 2 3 \".split()"
   ]
  },
  {
   "cell_type": "code",
   "execution_count": 83,
   "id": "207986ec",
   "metadata": {},
   "outputs": [
    {
     "name": "stdout",
     "output_type": "stream",
     "text": [
      "1,2,3\n"
     ]
    },
    {
     "data": {
      "text/plain": [
       "'b or c or a'"
      ]
     },
     "execution_count": 83,
     "metadata": {},
     "output_type": "execute_result"
    }
   ],
   "source": [
    "print(\",\".join([\"1\",\"2\",\"3\"]))\n",
    "\" or \".join({\"a\",\"b\",\"c\"})"
   ]
  },
  {
   "cell_type": "code",
   "execution_count": 5,
   "id": "50e519c8",
   "metadata": {},
   "outputs": [
    {
     "name": "stdout",
     "output_type": "stream",
     "text": [
      "{0, 1, 2, 3}\n",
      "{0, 1}\n",
      "0\n",
      "{1, 2}\n"
     ]
    }
   ],
   "source": [
    "s = {0,1,2}\n",
    "s.add(3)\n",
    "print(s)\n",
    "s = {0,1,2}\n",
    "s.remove(2)\n",
    "print(s)\n",
    "s = {0,1,2}\n",
    "x = s.pop()\n",
    "print(x,s,sep = \"\\n\")"
   ]
  },
  {
   "cell_type": "code",
   "execution_count": 96,
   "id": "48538d64",
   "metadata": {},
   "outputs": [
    {
     "name": "stdout",
     "output_type": "stream",
     "text": [
      "False\n"
     ]
    },
    {
     "data": {
      "text/plain": [
       "True"
      ]
     },
     "execution_count": 96,
     "metadata": {},
     "output_type": "execute_result"
    }
   ],
   "source": [
    "s = {1,2,3}\n",
    "t = {1,2}\n",
    "print(s.issubset(t))\n",
    "s.issuperset(t)"
   ]
  },
  {
   "cell_type": "code",
   "execution_count": 100,
   "id": "d21b291d",
   "metadata": {},
   "outputs": [
    {
     "name": "stdout",
     "output_type": "stream",
     "text": [
      "4\n",
      "8 {1: 3, 2: 4, 7: 8}\n",
      "None {1: 3, 2: 4, 7: None}\n"
     ]
    }
   ],
   "source": [
    "d = {1:3,2:4}\n",
    "print(d.setdefault(2,8))\n",
    "print(d.setdefault(7,8),d)\n",
    "d = {1:3,2:4}\n",
    "print(d.setdefault(7),d)"
   ]
  },
  {
   "cell_type": "code",
   "execution_count": 8,
   "id": "07cba855",
   "metadata": {},
   "outputs": [
    {
     "data": {
      "text/plain": [
       "4"
      ]
     },
     "execution_count": 8,
     "metadata": {},
     "output_type": "execute_result"
    }
   ],
   "source": [
    "d = {1:3,2:4}\n",
    "d.get(3,4)"
   ]
  },
  {
   "cell_type": "code",
   "execution_count": 103,
   "id": "4a719d55",
   "metadata": {},
   "outputs": [
    {
     "name": "stdout",
     "output_type": "stream",
     "text": [
      "4 {1: 3}\n",
      "8 {1: 3, 2: 4}\n"
     ]
    },
    {
     "ename": "KeyError",
     "evalue": "7",
     "output_type": "error",
     "traceback": [
      "\u001b[1;31m---------------------------------------------------------------------------\u001b[0m",
      "\u001b[1;31mKeyError\u001b[0m                                  Traceback (most recent call last)",
      "Cell \u001b[1;32mIn[103], line 6\u001b[0m\n\u001b[0;32m      4\u001b[0m \u001b[38;5;28mprint\u001b[39m(d\u001b[38;5;241m.\u001b[39mpop(\u001b[38;5;241m7\u001b[39m,\u001b[38;5;241m8\u001b[39m),d)\n\u001b[0;32m      5\u001b[0m d \u001b[38;5;241m=\u001b[39m {\u001b[38;5;241m1\u001b[39m:\u001b[38;5;241m3\u001b[39m,\u001b[38;5;241m2\u001b[39m:\u001b[38;5;241m4\u001b[39m}\n\u001b[1;32m----> 6\u001b[0m \u001b[38;5;28mprint\u001b[39m(\u001b[43md\u001b[49m\u001b[38;5;241;43m.\u001b[39;49m\u001b[43mpop\u001b[49m\u001b[43m(\u001b[49m\u001b[38;5;241;43m7\u001b[39;49m\u001b[43m)\u001b[49m)\n",
      "\u001b[1;31mKeyError\u001b[0m: 7"
     ]
    }
   ],
   "source": [
    "d = {1:3,2:4}\n",
    "print(d.pop(2,8),d)\n",
    "d = {1:3,2:4}\n",
    "print(d.pop(7,8),d)\n",
    "d = {1:3,2:4}\n",
    "print(d.pop(7))"
   ]
  },
  {
   "cell_type": "code",
   "execution_count": 104,
   "id": "9811d783",
   "metadata": {},
   "outputs": [
    {
     "name": "stdout",
     "output_type": "stream",
     "text": [
      "(2, 4) {1: 3}\n"
     ]
    }
   ],
   "source": [
    "d = {1:3,2:4}\n",
    "print(d.popitem(),d)"
   ]
  },
  {
   "cell_type": "code",
   "execution_count": 9,
   "id": "e77f20d1",
   "metadata": {},
   "outputs": [
    {
     "name": "stdout",
     "output_type": "stream",
     "text": [
      "<class 'dict_items'>\n"
     ]
    },
    {
     "data": {
      "text/plain": [
       "[(1, 3), (2, 4)]"
      ]
     },
     "execution_count": 9,
     "metadata": {},
     "output_type": "execute_result"
    }
   ],
   "source": [
    "d = {1:3,2:4}\n",
    "print(type(d.items()))\n",
    "list(d.items())"
   ]
  },
  {
   "cell_type": "code",
   "execution_count": 10,
   "id": "9fcae227",
   "metadata": {},
   "outputs": [
    {
     "name": "stdout",
     "output_type": "stream",
     "text": [
      "1\n",
      "2\n"
     ]
    }
   ],
   "source": [
    "for key in d:\n",
    "    print(key)"
   ]
  },
  {
   "cell_type": "markdown",
   "id": "7f2c345e",
   "metadata": {},
   "source": [
    "# 補充學習"
   ]
  },
  {
   "cell_type": "code",
   "execution_count": 109,
   "id": "441a0e55",
   "metadata": {},
   "outputs": [
    {
     "name": "stdout",
     "output_type": "stream",
     "text": [
      "張天才外號老張,ID:22\n",
      "張天才外號老張,ID:22\n"
     ]
    }
   ],
   "source": [
    "a = (22,(\"張天才\",\"老張\"))\n",
    "print(a[1][0] + \"外號\" + a[1][1] + \",ID:\" + str(a[0]))\n",
    "(person_id, (name, nick)) = (22, (\"張天才\", \"老張\"))\n",
    "print(name + \"外號\" + nick + \",ID:\" + str(person_id))"
   ]
  },
  {
   "cell_type": "code",
   "execution_count": 111,
   "id": "5732c545",
   "metadata": {},
   "outputs": [
    {
     "name": "stdout",
     "output_type": "stream",
     "text": [
      "1 2 [3, 4, 5]\n",
      "1 [2, 3, 4] 5\n"
     ]
    }
   ],
   "source": [
    "x, y, *z = 1,2,3,4,5\n",
    "print(x, y, z)\n",
    "x, *y, z = 1,2,3,4,5\n",
    "print(x, y, z)"
   ]
  },
  {
   "cell_type": "code",
   "execution_count": 113,
   "id": "e62f35cd",
   "metadata": {},
   "outputs": [
    {
     "name": "stdout",
     "output_type": "stream",
     "text": [
      "2 1\n"
     ]
    }
   ],
   "source": [
    "a, b = 1, 2\n",
    "a, b = (b, a)\n",
    "print(a, b)"
   ]
  }
 ],
 "metadata": {
  "kernelspec": {
   "display_name": "Python 3 (ipykernel)",
   "language": "python",
   "name": "python3"
  },
  "language_info": {
   "codemirror_mode": {
    "name": "ipython",
    "version": 3
   },
   "file_extension": ".py",
   "mimetype": "text/x-python",
   "name": "python",
   "nbconvert_exporter": "python",
   "pygments_lexer": "ipython3",
   "version": "3.10.9"
  }
 },
 "nbformat": 4,
 "nbformat_minor": 5
}
