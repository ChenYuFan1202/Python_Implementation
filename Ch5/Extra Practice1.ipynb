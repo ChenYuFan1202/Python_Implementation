{
 "cells": [
  {
   "cell_type": "code",
   "execution_count": 2,
   "id": "8ec2a7ca",
   "metadata": {},
   "outputs": [],
   "source": [
    "from selenium import webdriver\n",
    "browser = webdriver.Chrome()\n",
    "browser.get(\"https://www.google.com\")\n",
    "browser.close()"
   ]
  },
  {
   "cell_type": "code",
   "execution_count": 1,
   "id": "7e5aaba8",
   "metadata": {},
   "outputs": [],
   "source": [
    "from selenium import webdriver\n",
    "from time import sleep\n",
    "from selenium.webdriver.common.by import By\n",
    "from selenium.webdriver.support.select import Select # 使用 Select 對應下拉選單\n",
    "\n",
    "driver = webdriver.Chrome()\n",
    "driver.get(\"https://example.oxxostudio.tw/python/selenium/demo.html\")\n",
    "a = driver.find_element(By.ID, \"a\")\n",
    "b = driver.find_element(By.CLASS_NAME, \"btn\")\n",
    "c = driver.find_element(By.CSS_SELECTOR, \".test\")\n",
    "d = driver.find_element(By.NAME, \"dog\")\n",
    "h1 = driver.find_element(By.TAG_NAME, \"h1\")# 取得 tag h1 的網頁元素\n",
    "link1 = driver.find_element(By.LINK_TEXT, \"我是超連結，點擊會開啟 Google 網站\")# 取得指定超連結文字的網頁元素\n",
    "link2 = driver.find_element(By.PARTIAL_LINK_TEXT, \"Google\")# 取得超連結文字包含 Google 的網頁元素\n",
    "select = Select(driver.find_element(By.XPATH, \"/html/body/select\"))# 取得 html > body > select 這個網頁元素\n",
    "a.click()\n",
    "print(a.text)\n",
    "sleep(0.5)\n",
    "b.click()\n",
    "print(b.text)\n",
    "sleep(0.5)\n",
    "c.click()\n",
    "print(c.text)\n",
    "sleep(0.5)\n",
    "d.click()\n",
    "print(d.text)\n",
    "sleep(0.5)\n",
    "select.select_by_index(2) # 下拉選單選擇第三項 ( 第一項為 0 )\n",
    "sleep(0.5)\n",
    "h1.click()\n",
    "sleep(0.5)\n",
    "link1.click()\n",
    "sleep(0.5)\n",
    "link2.click()\n",
    "print(link2.get_attribute(\"href\")) # 印出 link2 元素的 href 屬性"
   ]
  },
  {
   "cell_type": "code",
   "execution_count": 6,
   "id": "12096e14",
   "metadata": {},
   "outputs": [],
   "source": [
    "from selenium import webdriver\n",
    "from selenium.webdriver.common.by import By\n",
    "from time import sleep\n",
    "\n",
    "driver = webdriver.Chrome()\n",
    "driver.get(\"https://example.oxxostudio.tw/python/selenium/demo.html\")\n",
    "a = driver.find_element(By.ID, \"a\")\n",
    "add = driver.find_element(By.ID, \"add\")\n",
    "a.click()\n",
    "sleep(1)\n",
    "add.click()\n",
    "add.click()\n",
    "sleep(1)\n",
    "add.click()\n",
    "sleep(1)\n",
    "add.click()"
   ]
  },
  {
   "cell_type": "code",
   "execution_count": 7,
   "id": "49700925",
   "metadata": {},
   "outputs": [],
   "source": [
    "from selenium import webdriver\n",
    "from selenium.webdriver.common.by import By\n",
    "from selenium.webdriver.common.action_chains import ActionChains\n",
    "\n",
    "driver = webdriver.Chrome()\n",
    "driver.get(\"https://example.oxxostudio.tw/python/selenium/demo.html\")\n",
    "a = driver.find_element(By.ID, \"a\")\n",
    "add = driver.find_element(By.ID, \"add\")\n",
    "actions = ActionChains(driver) # 使用 ActionChains 的show方式\n",
    "actions.click(a).pause(1) # 點擊按鈕 A，出現 a 文字後，暫停一秒\n",
    "actions.double_click(add).pause(1).click(add).pause(1).click(add)\n",
    "actions.perform()"
   ]
  },
  {
   "cell_type": "code",
   "execution_count": 2,
   "id": "ec2a47fb",
   "metadata": {},
   "outputs": [],
   "source": [
    "from selenium import webdriver\n",
    "from selenium.webdriver.common.by import By\n",
    "from selenium.webdriver.common.action_chains import ActionChains\n",
    "\n",
    "driver = webdriver.Chrome()\n",
    "driver.get(\"https://example.oxxostudio.tw/python/selenium/demo.html\")\n",
    "a = driver.find_element(By.ID, \"a\")\n",
    "show = driver.find_element(By.ID, \"show\")\n",
    "actions = ActionChains(driver)\n",
    "actions.click(show).send_keys([\"1\", \"2\", \"3\", \"4\", \"5\"]) # 輸入 1～5 的鍵盤值 ( 必須是字串 )\n",
    "actions.pause(1)\n",
    "actions.click(a)\n",
    "actions.pause(1)\n",
    "actions.send_keys_to_element(show, [\"A\", \"B\", \"C\", \"D\", \"E\"])\n",
    "actions.perform()"
   ]
  },
  {
   "cell_type": "code",
   "execution_count": 6,
   "id": "9bd1882c",
   "metadata": {},
   "outputs": [
    {
     "name": "stdout",
     "output_type": "stream",
     "text": [
      "874492228EE26647478B80199FDEA3E8_element_3\n",
      "B ( class=\"btn\" )\n",
      "button\n",
      "{'height': 42, 'width': 146}\n",
      "https://www.google.com/\n",
      "_blank\n"
     ]
    },
    {
     "data": {
      "text/plain": [
       "True"
      ]
     },
     "execution_count": 6,
     "metadata": {},
     "output_type": "execute_result"
    }
   ],
   "source": [
    "from selenium import webdriver\n",
    "from selenium.webdriver.common.by import By\n",
    "\n",
    "driver = webdriver.Chrome()\n",
    "driver.get(\"https://example.oxxostudio.tw/python/selenium/demo.html\")\n",
    "body = driver.find_element(By.TAG_NAME, \"body\")\n",
    "a = driver.find_element(By.ID, \"a\")\n",
    "b = driver.find_element(By.CLASS_NAME, \"btn\")\n",
    "c = driver.find_element(By.CSS_SELECTOR, \".test\")#CLASS_NAME, \"test\"也可以\n",
    "d = driver.find_element(By.NAME, \"dog\")\n",
    "link1 = driver.find_element(By.LINK_TEXT, \"我是超連結，點擊會開啟 Google 網站\")\n",
    "link2 = driver.find_element(By.PARTIAL_LINK_TEXT, \"Google\")\n",
    "\n",
    "print(a.id)\n",
    "print(b.text)\n",
    "print(c.tag_name)\n",
    "print(d.size)\n",
    "print(link1.get_attribute(\"href\"))\n",
    "print(link2.get_attribute(\"target\"))\n",
    "body.screenshot(\"./test1.png\")"
   ]
  },
  {
   "cell_type": "code",
   "execution_count": 10,
   "id": "ccc19cf7",
   "metadata": {},
   "outputs": [],
   "source": [
    "from selenium import webdriver\n",
    "from selenium.webdriver.common.by import By\n",
    "from selenium.webdriver.common.alert import Alert\n",
    "from time import sleep\n",
    "\n",
    "driver = webdriver.Chrome()\n",
    "driver.get(\"https://www.selenium.dev/selenium/docs/api/py/webdriver_remote/selenium.webdriver.remote.webelement.html\")\n",
    "\n",
    "sleep(1)\n",
    "driver.execute_script(\"window.scrollTo(0, 500)\") #捲動到 500px 位置\n",
    "sleep(1)\n",
    "driver.execute_script(\"window.scrollTo(0, 2500)\")\n",
    "sleep(1)\n",
    "driver.execute_script(\"window.scrollTo(0, 0)\")\n",
    "\n",
    "h1 = driver.find_element(By.TAG_NAME, \"h1\")\n",
    "h3 = driver.find_element(By.TAG_NAME, \"h3\")\n",
    "h3.screenshot(\"./test2.png\")\n",
    "\n",
    "script = '''\n",
    "  let h1 = arguments[0];\n",
    "  let h3 = arguments[1];\n",
    "  alert(h1, h3)\n",
    "'''\n",
    "driver.execute_script(script, h1, h3) # 執行 JavaScript，印出元素\n",
    "sleep(2)\n",
    "Alert(driver).accept()  # 點擊提示視窗的確認按鈕，關閉提示視窗"
   ]
  }
 ],
 "metadata": {
  "kernelspec": {
   "display_name": "Python 3 (ipykernel)",
   "language": "python",
   "name": "python3"
  },
  "language_info": {
   "codemirror_mode": {
    "name": "ipython",
    "version": 3
   },
   "file_extension": ".py",
   "mimetype": "text/x-python",
   "name": "python",
   "nbconvert_exporter": "python",
   "pygments_lexer": "ipython3",
   "version": "3.9.7"
  }
 },
 "nbformat": 4,
 "nbformat_minor": 5
}
