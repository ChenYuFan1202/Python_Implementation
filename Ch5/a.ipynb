{
 "cells": [
  {
   "cell_type": "markdown",
   "id": "b12cfd69",
   "metadata": {},
   "source": [
    "# 5-1用現成類別與物件讓程式起飛!"
   ]
  },
  {
   "cell_type": "code",
   "execution_count": 3,
   "id": "26ed7d03",
   "metadata": {},
   "outputs": [],
   "source": [
    "from tkinter import Tk\n",
    "win = Tk()\n",
    "win.mainloop()"
   ]
  },
  {
   "cell_type": "code",
   "execution_count": 9,
   "id": "27c6d2d8",
   "metadata": {},
   "outputs": [
    {
     "name": "stdout",
     "output_type": "stream",
     "text": [
      "<title>旗標科技</title>\n"
     ]
    }
   ],
   "source": [
    "import requests\n",
    "from bs4 import BeautifulSoup as BS\n",
    "#page = requests.get(\"http://www.flag.com.tw/\")\n",
    "soup = BS(page.text, features = \"html.parser\")\n",
    "print(soup.title)"
   ]
  },
  {
   "cell_type": "markdown",
   "id": "5367030a",
   "metadata": {},
   "source": [
    "# 5-2用import來匯入外部資源"
   ]
  },
  {
   "cell_type": "markdown",
   "id": "ab3daa99",
   "metadata": {},
   "source": [
    "# 5-3用requests套件存取網路Web資源"
   ]
  },
  {
   "cell_type": "code",
   "execution_count": 3,
   "id": "521423f8",
   "metadata": {},
   "outputs": [
    {
     "name": "stdout",
     "output_type": "stream",
     "text": [
      "<!doctype html>\n",
      "<html>\n",
      "\t<head>\n",
      "\t<meta charset=\"utf-8\">\n",
      "\t<meta name=\"viewport\" content=\"width=device-width,initial-scale=1.0,minimum-scale=1.0\">\n",
      "\t<title>旗標科技</title>\n",
      "\t<link rel=\"stylesheet\" href=\"https://www.flag.com.tw/assets/css/home/normalize.css\">\n",
      "  <link rel=\"stylesheet\" type=\"text/css\" href=\"https://www.flag.com.tw/assets/css/home/style.css\">\n",
      "\t<link rel=\"stylesheet\" href=\"https://www.flag.com.tw/assets/css/home/animate.css\">\n",
      "\t<link rel=\"stylesheet\" href=\"https://www.flag.com.tw/assets/css/home/font-awesome.css\">\n",
      "  <link rel=\"stylesheet\" href=\"https://www.flag.com.tw/assets/css/home/bigvideo.css\">\n",
      "  <meta property=\"og:image\" content=\"https://www.flag.com.tw/assets/img/flag-32.png\">\n",
      "  <link href=\"https://www.flag.com.tw/assets/css/home/applauncher.css\" rel=\"stylesheet\" type=\"text/css\">\n",
      "\t<script type=\"text/javascript\" src=\"https://www.flag.com.tw/assets/js/jquery-3.2.1.min.js\"></script>\n",
      "    <script src=\"https://www.flag.com.tw/assets/js/jquery-ui.min.js\"></script>\n",
      "\t<script src=\"//vjs.zencdn.net/4.3/video.js\"></script>\n",
      "  <script src=\"https://www.flag.com.tw/assets/js/bigvideo.js\"></script>\n",
      "  <script src=\"https://ajax.googleapis.com/ajax/libs/jquery/1.11.1/jquery.min.js\"></script> \n",
      "  <script src=\"https://www.flag.com.tw/assets/js/applauncher.js\"></script>\n",
      "\n",
      "<link rel=\"icon\" href=\"https://www.flag.com.tw/assets/img/flag.png\" sizes=\"32x32\" />\n",
      "\n",
      "<!-- Google tag (gtag.js) -->\n",
      "<script async src=\"https://www.googletagmanager.com/gtag/js?id=G-Q8GVC727K2%22></script>\n",
      "\n",
      "<!-- Google Tag Manager -->\n",
      "<script>(function(w,d,s,l,i){w[l]=w[l]||[];w[l].push({'gtm.start':\n",
      "new Date().getTime(),event:'gtm.js'});var f=d.getElementsByTagName(s)[0],\n",
      "j=d.createElement(s),dl=l!='dataLayer'?'&l='+l:'';j.async=true;j.src=\n",
      "'https://www.googletagmanager.com/gtm.js?id='+i+dl;f.parentNode.insertBefore(j,f);\n",
      "})(window,document,'script','dataLayer','GTM-M259Z3Z');</script>\n",
      "<!-- End Google Tag Manager -->\n",
      "<script>\n",
      "  window.dataLayer = window.dataLayer || [];\n",
      "  function gtag(){dataLayer.push(arguments);}\n",
      "  gtag('js', new Date());\n",
      "\n",
      "  gtag('config', 'G-Q8GVC727K2');\n",
      "</script>\n",
      "<!-- Microsoft Clarity Web Analytics -->\n",
      "<script type=\"text/javascript\">\n",
      "    (function(c,l,a,r,i,t,y){\n",
      "        c[a]=c[a]||function(){(c[a].q=c[a].q||[]).push(arguments)};\n",
      "        t=l.createElement(r);t.async=1;t.src=\"https://www.clarity.ms/tag/\"+i;\n",
      "        y=l.getElementsByTagName(r)[0];y.parentNode.insertBefore(t,y);\n",
      "    })(window, document, \"clarity\", \"script\", \"4hfmycs491\");\n",
      "</script>\n",
      "<!-- 亂數出現底圖1101013新增 -->\n",
      "<script type=\"text/javascript\">\n",
      "    //<!CDATA[\n",
      "        var bodyBgs = [];\n",
      "        bodyBgs[0] = \"https://www.flag.com.tw/assets/img/home/01.jpg\";\n",
      "        bodyBgs[1] = \"https://www.flag.com.tw/assets/img/home/02.jpg\";\n",
      "        bodyBgs[2] = \"https://www.flag.com.tw/assets/img/home/03.jpg\";\n",
      "        bodyBgs[3] = \"https://www.flag.com.tw/assets/img/home/04.jpg\";\n",
      "        bodyBgs[4] = \"https://www.flag.com.tw/assets/img/home/05.jpg\";\n",
      "        var randomBgIndex = Math.round( Math.random() * 4 );\n",
      "\n",
      "    //輸出隨機的背景圖\n",
      "        document.write('<style>body{background:url(' + bodyBgs[randomBgIndex] + ') no-repeat 100% 0}</style>');\n",
      "    //]]>\n",
      "    </script>\n",
      "\n",
      "<!-- 亂數出現底圖結束 -->\n",
      "\n",
      "\t</head>\n",
      "\t<body class=\"homepage\">\n",
      "\n",
      "<!-- Google Tag Manager (noscript) -->\n",
      "<noscript><iframe src=\"https://www.googletagmanager.com/ns.html?id=GTM-M259Z3Z\"\n",
      "height=\"0\" width=\"0\" style=\"display:none;visibility:hidden\"></iframe></noscript>\n",
      "<!-- End Google Tag Manager (noscript) -->    \n",
      "  <div id=\"BackgroundArea\"> \n",
      "\n",
      "  <!-- Demo applauncher -->\n",
      "  <div class=\"container\">\n",
      "        <div class=\"launcher\">\n",
      "          <div class=\"button icon\"><img src=\"https://www.flag.com.tw/assets/img/applauncher_white.png\"></div>\n",
      "          <div class=\"app-launcher\">\n",
      "            <div class=\"apps\">\n",
      "              <ul class=\"first-set\">        \n",
      "                <li class=\"icon\"><a href=\"https://www.flag.com.tw/flag/activity\"><img src=\"https://www.flag.com.tw/assets/img/4-1.svg\" title=\"活動\"></a></li>\n",
      "                <li class=\"icon\"><a href=\"https://www.flag.com.tw/VIP/Bonus\"><img src=\"https://www.flag.com.tw/assets/img/5-1.svg\" title=\"會員Bonus\"></a></li>                            \n",
      "                <li class=\"icon\"><a href=\"https://www.flag.com.tw/flag/recruit\"><img src=\"https://www.flag.com.tw/assets/img/6-1.svg\" title=\"徵才資訊\"></a></li> \n",
      "                <li class=\"icon\"><a href=\"https://www.flag.com.tw/flag/contact\"><img src=\"https://www.flag.com.tw/assets/img/2-1.svg\" title=\"聯絡我們\"></a></li>  \n",
      "                <li class=\"icon\"><a href=\"https://www.flag.com.tw/flag/aboutflag\"><img src=\"https://www.flag.com.tw/assets/img/1-1.svg\" title=\"關於旗標\"></a></li>\n",
      "                <!--                \n",
      "                <li class=\"icon\"><a href=\"https://www.flag.com.tw/flag/privacy\"><img src=\"https://www.flag.com.tw/assets/img/3-1.svg\" title=\"隱私權規約\"></a></li>\n",
      "                -->\n",
      "                <!--\n",
      "                <li><a href=\"#\"><img src=\"https://www.flag.com.tw/assets/img/bookpic/F0753.jpg\" width=\"50px\" title=\"關於旗標\"></a> </li>          \n",
      "                -->\n",
      "              </ul>\n",
      "            </div>\n",
      "          </div>\n",
      "        </div>\n",
      "      </div>\n",
      "  <!-- Demo applauncher -->\n",
      "  </div>\n",
      "  </div>\n",
      "<div >\n",
      "</div>\n",
      "<section class=\"homeheader\">\n",
      "      <div class=\"home\">\n",
      "     \n",
      "\t  \t  <!--  <div class=\"home-title\"><img src=\"https://www.flag.com.tw/assets/img/home/F0318_title.png\" alt=\"Logo\"></div> -->  \n",
      "       \n",
      "   \n",
      "          \n",
      "        <form action=\"https://www.flag.com.tw/books/book_searching\" method=\"post\" class=\"search\" role=\"search\">\n",
      "          <div class=\"form__field\">\n",
      "           <input type=\"text\" name=\"book_search\" placeholder=\"關鍵字搜尋\" class=\"form__input\" value=\"\"  autofocus>\n",
      "          </div>\n",
      "        </form>\n",
      "       <!--  <div class=\"home-logo\"><img class=\"home-loc\" src=\"https://www.flag.com.tw/assets/img/home/flag-logo-black-nologo.png\"></div>--> \n",
      "      </div>\n",
      "\n",
      "<div class=\"mainbtn\">\n",
      "<!-- \n",
      "    <div class=\"sub-main\">\n",
      "      <button class=\"button-four greenplebtn\"  onclick=\"location.href='https://www.flag.com.tw/activity/edm/1120999/'\" ><p>TiBE</p><h4>台北<br>國際書展</h4></button>\n",
      "    </div>  \n",
      "-->    \n",
      "    <div class=\"sub-main\">\n",
      "      <button class=\"button-three bluebtn\"  onclick=\"location.href='https://www.flag.com.tw/books'\" ><p>Books</p><h4>圖書</h4></button>\n",
      "    </div>\n",
      "    <div class=\"sub-main\">\n",
      "      <button class=\"button-three orangebtn\" onclick=\"location.href='https://www.flag.com.tw/maker'\"><p>Maker</p><h4>創客</h4></button>\n",
      "    </div>\n",
      "    <div class=\"sub-main\">\n",
      "      <button class=\"button-three pinkbtn\" onclick=\"location.href='https://www.flag.com.tw/books/school'\"><p>Textbooks</p><h4>教科書</h4></button>\n",
      "    </div>\n",
      "   \n",
      "\t <div class=\"sub-main\">\n",
      "      <button class=\"button-three purplebtn\" onclick=\"location.href='https://www.flag.com.tw/teachaid/'\"><p>Teach Aid</p><h4>教具</h4></button>\n",
      "    </div>\n",
      "  </div>\n",
      "    \n",
      "</section>\n",
      "\n",
      "<!--\t\t<footer role=\"contentinfo\">\n",
      "    <table class=\"clmtable\">\n",
      "      <tr>\n",
      "        <td><a href=\"https://www.flag.com.tw/flag/contact\">聯絡我們</a></td>\n",
      "\t\t<td><a href=\"https://www.flag.com.tw/flag/aboutflag\">關於旗標</a></td>\n",
      "        <td><a href=\"https://www.flag.com.tw/flag/privacy\">隱私權規約</a></td>\n",
      "      </tr>\n",
      "    </table>\n",
      " <div class=\"footer-bottom\">\n",
      "    <p class=\"footer-left\"> <strong>旗標科技股份有限公司</strong></p><p>台北市中正區\n",
      "      杭州南路一段15-1號19樓 </p>\n",
      "    <p class=\"footer-right\">© Flag Technology CO.,LTD.\n",
      "      All rights reserved.</p>\n",
      "  </div>\n",
      "</footer>-->\n",
      "</body>\n",
      "\n",
      "</html>\n",
      "\n"
     ]
    }
   ],
   "source": [
    "import requests\n",
    "response = requests.get(\"http://www.flag.com.tw/\")\n",
    "if response.status_code == requests.codes.ok:#就是200\n",
    "    print(response.text)\n",
    "else:\n",
    "    print(response.status_code, response.reason)"
   ]
  },
  {
   "cell_type": "code",
   "execution_count": 5,
   "id": "f652e07d",
   "metadata": {},
   "outputs": [
    {
     "name": "stdout",
     "output_type": "stream",
     "text": [
      "{\n",
      "  \"args\": {\n",
      "    \"id\": \"1023\", \n",
      "    \"name\": \"joe\"\n",
      "  }, \n",
      "  \"headers\": {\n",
      "    \"Accept\": \"*/*\", \n",
      "    \"Accept-Encoding\": \"gzip, deflate, br\", \n",
      "    \"Host\": \"httpbin.org\", \n",
      "    \"User-Agent\": \"python-requests/2.26.0\", \n",
      "    \"User-Key\": \"7ADGS9S\", \n",
      "    \"X-Amzn-Trace-Id\": \"Root=1-64d77602-2e2e4a0b62fcd0d65c782199\"\n",
      "  }, \n",
      "  \"origin\": \"123.110.247.76\", \n",
      "  \"url\": \"https://httpbin.org/get?id=1023&name=joe\"\n",
      "}\n",
      "\n"
     ]
    }
   ],
   "source": [
    "import requests\n",
    "url = \"https://httpbin.org/get\"\n",
    "hd = {\"user-key\": \"7ADGS9S\"}\n",
    "pm = {\"id\": 1023, \"name\": \"joe\"}\n",
    "r = requests.get(url, headers = hd, params = pm)\n",
    "print(r.text)"
   ]
  },
  {
   "cell_type": "code",
   "execution_count": 12,
   "id": "c69f534b",
   "metadata": {},
   "outputs": [
    {
     "name": "stdout",
     "output_type": "stream",
     "text": [
      "{\n",
      "  \"args\": {}, \n",
      "  \"data\": \"\", \n",
      "  \"files\": {}, \n",
      "  \"form\": {\n",
      "    \"id\": \"123\", \n",
      "    \"name\": \"Joe\"\n",
      "  }, \n",
      "  \"headers\": {\n",
      "    \"Accept\": \"*/*\", \n",
      "    \"Accept-Encoding\": \"gzip, deflate, br\", \n",
      "    \"Content-Length\": \"15\", \n",
      "    \"Content-Type\": \"application/x-www-form-urlencoded\", \n",
      "    \"Host\": \"httpbin.org\", \n",
      "    \"User-Agent\": \"python-requests/2.26.0\", \n",
      "    \"X-Amzn-Trace-Id\": \"Root=1-64d77939-09fd719069b89e807e5f67b3\"\n",
      "  }, \n",
      "  \"json\": null, \n",
      "  \"origin\": \"123.110.247.76\", \n",
      "  \"url\": \"https://httpbin.org/post\"\n",
      "}\n",
      "\n"
     ]
    }
   ],
   "source": [
    "import requests\n",
    "url = 'https://httpbin.org/post'\n",
    "# r = requests.post(url, data = \"Hello\")\n",
    "# print(r.text)\n",
    "r = requests.post(url, data = {\"id\": \"123\", \"name\": \"Joe\"})\n",
    "print(r.text)"
   ]
  },
  {
   "cell_type": "code",
   "execution_count": 14,
   "id": "2b56c19a",
   "metadata": {},
   "outputs": [
    {
     "name": "stdout",
     "output_type": "stream",
     "text": [
      "{\n",
      "  \"args\": {}, \n",
      "  \"data\": \"\", \n",
      "  \"files\": {}, \n",
      "  \"form\": {\n",
      "    \"key\": \"abc\"\n",
      "  }, \n",
      "  \"headers\": {\n",
      "    \"Accept\": \"*/*\", \n",
      "    \"Accept-Encoding\": \"gzip, deflate, br\", \n",
      "    \"Content-Length\": \"7\", \n",
      "    \"Content-Type\": \"application/x-www-form-urlencoded\", \n",
      "    \"Host\": \"httpbin.org\", \n",
      "    \"User-Agent\": \"python-requests/2.26.0\", \n",
      "    \"X-Amzn-Trace-Id\": \"Root=1-64d77afb-155bf4b740f70312730be171\"\n",
      "  }, \n",
      "  \"json\": null, \n",
      "  \"origin\": \"123.110.247.76\", \n",
      "  \"url\": \"https://httpbin.org/put\"\n",
      "}\n",
      "\n",
      "{\n",
      "  \"args\": {}, \n",
      "  \"data\": \"\", \n",
      "  \"files\": {}, \n",
      "  \"form\": {\n",
      "    \"key\": \"xyz\"\n",
      "  }, \n",
      "  \"headers\": {\n",
      "    \"Accept\": \"*/*\", \n",
      "    \"Accept-Encoding\": \"gzip, deflate, br\", \n",
      "    \"Content-Length\": \"7\", \n",
      "    \"Content-Type\": \"application/x-www-form-urlencoded\", \n",
      "    \"Host\": \"httpbin.org\", \n",
      "    \"User-Agent\": \"python-requests/2.26.0\", \n",
      "    \"X-Amzn-Trace-Id\": \"Root=1-64d77b32-26a3d4400188f8b47b265c1b\"\n",
      "  }, \n",
      "  \"json\": null, \n",
      "  \"origin\": \"123.110.247.76\", \n",
      "  \"url\": \"https://httpbin.org/patch\"\n",
      "}\n",
      "\n"
     ]
    }
   ],
   "source": [
    "import requests\n",
    "r = requests.put(\"https://httpbin.org/put\", data = {\"key\": \"abc\"})\n",
    "print(r.text)\n",
    "r = requests.patch(\"https://httpbin.org/patch\", data = {\"key\": \"xyz\"})\n",
    "print(r.text)"
   ]
  },
  {
   "cell_type": "code",
   "execution_count": 16,
   "id": "0851aec5",
   "metadata": {},
   "outputs": [
    {
     "name": "stdout",
     "output_type": "stream",
     "text": [
      "{\n",
      "  \"args\": {}, \n",
      "  \"data\": \"\", \n",
      "  \"files\": {}, \n",
      "  \"form\": {}, \n",
      "  \"headers\": {\n",
      "    \"Accept\": \"*/*\", \n",
      "    \"Accept-Encoding\": \"gzip, deflate, br\", \n",
      "    \"Content-Length\": \"0\", \n",
      "    \"Host\": \"httpbin.org\", \n",
      "    \"User-Agent\": \"python-requests/2.26.0\", \n",
      "    \"X-Amzn-Trace-Id\": \"Root=1-64d77bad-1b471e8a4cc76a8d4ca141cb\"\n",
      "  }, \n",
      "  \"json\": null, \n",
      "  \"origin\": \"123.110.247.76\", \n",
      "  \"url\": \"https://httpbin.org/delete\"\n",
      "}\n",
      "\n"
     ]
    }
   ],
   "source": [
    "r = requests.delete(\"https://httpbin.org/delete\")\n",
    "print(r.text)"
   ]
  },
  {
   "cell_type": "markdown",
   "id": "2ac4570a",
   "metadata": {},
   "source": [
    "# 5-4用BeautifulSoup套件解析網頁內容"
   ]
  },
  {
   "cell_type": "code",
   "execution_count": 2,
   "id": "c78cf214",
   "metadata": {},
   "outputs": [
    {
     "name": "stdout",
     "output_type": "stream",
     "text": [
      "<html>\n",
      "<head><title>旗標科技</title></head>\n",
      "<body>\n",
      "<div class=\"section\" id=\"main\">\n",
      "<img alt=\"旗標圖示\" src=\"http://flag.tw/logo.png\"/>\n",
      "<p>產品類別</p>\n",
      "<button id=\"books\"><h4 class=\"bk\">圖書</h4></button>\n",
      "<button id=\"maker\"><h4 class=\"pk\">創客</h4></button>\n",
      "<button id=\"teach\"><h4 class=\"pk\">教具</h4></button>\n",
      "</div>\n",
      "<div class=\"section\" id=\"footer\">\n",
      "<p>杭州南路一段15-1號19樓</p>\n",
      "<a href=\"http://flag.tw/contact\">聯絡我們</a>\n",
      "</div>\n",
      "</body>\n",
      "</html>\n",
      "\n"
     ]
    }
   ],
   "source": [
    "# import requests\n",
    "# response = requests.get(\"http://www.flag.com.tw/\")\n",
    "# response.text\n",
    "page = \"\"\"\n",
    "<html>\n",
    "  <head><title>旗標科技</title></head>\n",
    "  <body>\n",
    "    <div class=\"section\" id=\"main\">\n",
    "      <img alt=\"旗標圖示\" src=\"http://flag.tw/logo.png\">\n",
    "      <p>產品類別</p>\n",
    "      <button id=\"books\"><h4 class=\"bk\">圖書</h4></button>\n",
    "      <button id=\"maker\"><h4 class=\"pk\">創客</h4></button>\n",
    "      <button id=\"teach\"><h4 class=\"pk\">教具</h4></button>\n",
    "    </div>\n",
    "    <div class=\"section\" id=\"footer\">\n",
    "      <p>杭州南路一段15-1號19樓</p>\n",
    "      <a href=\"http://flag.tw/contact\">聯絡我們</a>\n",
    "    </div>\n",
    "  </body>\n",
    "</html>\n",
    "\"\"\"\n",
    "from bs4 import BeautifulSoup as BS\n",
    "bs = BS(page, \"lxml\")\n",
    "print(bs)"
   ]
  },
  {
   "cell_type": "code",
   "execution_count": 7,
   "id": "3696e189",
   "metadata": {},
   "outputs": [
    {
     "name": "stdout",
     "output_type": "stream",
     "text": [
      "<title>旗標科技</title>\n",
      "<a href=\"http://flag.tw/contact\">聯絡我們</a>\n"
     ]
    }
   ],
   "source": [
    "print(bs.title)\n",
    "print(bs.a)"
   ]
  },
  {
   "cell_type": "code",
   "execution_count": 8,
   "id": "b07bfbfd",
   "metadata": {},
   "outputs": [
    {
     "name": "stdout",
     "output_type": "stream",
     "text": [
      "<a href=\"http://flag.tw/contact\">聯絡我們</a>\n",
      "聯絡我們\n",
      "http://flag.tw/contact\n",
      "http://flag.tw/contact\n"
     ]
    }
   ],
   "source": [
    "print(bs.a)\n",
    "print(bs.a.text)\n",
    "print(bs.a.get(\"href\"))\n",
    "print(bs.a[\"href\"])"
   ]
  },
  {
   "cell_type": "code",
   "execution_count": 12,
   "id": "0db37e57",
   "metadata": {},
   "outputs": [
    {
     "name": "stdout",
     "output_type": "stream",
     "text": [
      "<h4 class=\"bk\">圖書</h4>\n",
      "<h4 class=\"pk\">創客</h4>\n",
      "圖書\n"
     ]
    }
   ],
   "source": [
    "print(bs.find(\"h4\"))\n",
    "print(bs.find(\"h4\", attrs = {\"class\": \"pk\"}))#有沒有attrs是一樣的\n",
    "print(bs.find(\"h4\").text)"
   ]
  },
  {
   "cell_type": "code",
   "execution_count": 14,
   "id": "802219b1",
   "metadata": {},
   "outputs": [
    {
     "name": "stdout",
     "output_type": "stream",
     "text": [
      "[<h4 class=\"bk\">圖書</h4>, <h4 class=\"pk\">創客</h4>, <h4 class=\"pk\">教具</h4>]\n",
      "[<h4 class=\"pk\">創客</h4>, <h4 class=\"pk\">教具</h4>]\n"
     ]
    }
   ],
   "source": [
    "print(bs.find_all(\"h4\"))\n",
    "print(bs.find_all(\"h4\", attrs = {\"class\": \"pk\"}))"
   ]
  },
  {
   "cell_type": "code",
   "execution_count": 17,
   "id": "f3347695",
   "metadata": {},
   "outputs": [
    {
     "name": "stdout",
     "output_type": "stream",
     "text": [
      "[<title>旗標科技</title>, <p>產品類別</p>, <p>杭州南路一段15-1號19樓</p>]\n",
      "產品類別\n"
     ]
    }
   ],
   "source": [
    "print(bs.find_all([\"title\", \"p\"]))\n",
    "print(bs.find_all([\"title\", \"p\"])[1].text)"
   ]
  },
  {
   "cell_type": "code",
   "execution_count": 4,
   "id": "796820a8",
   "metadata": {},
   "outputs": [
    {
     "name": "stdout",
     "output_type": "stream",
     "text": [
      "h4: [<h4 class=\"bk\">圖書</h4>, <h4 class=\"pk\">創客</h4>, <h4 class=\"pk\">教具</h4>]\n",
      "#book: [<button id=\"books\"><h4 class=\"bk\">圖書</h4></button>]\n",
      ".pk: [<h4 class=\"pk\">創客</h4>, <h4 class=\"pk\">教具</h4>]\n",
      "h4.bk: [<h4 class=\"bk\">圖書</h4>]\n"
     ]
    }
   ],
   "source": [
    "print(\"h4:\", bs.select(\"h4\"))#和print(bs.find_all(\"h4\"))一樣，但不能用list選多個標籤\n",
    "print(\"#book:\", bs.select(\"#books\"))\n",
    "print(\".pk:\", bs.select(\".pk\"))\n",
    "print(\"h4.bk:\", bs.select(\"h4.bk\"))"
   ]
  },
  {
   "cell_type": "code",
   "execution_count": 23,
   "id": "693b3da9",
   "metadata": {},
   "outputs": [
    {
     "name": "stdout",
     "output_type": "stream",
     "text": [
      "[<h4 class=\"pk\">創客</h4>, <h4 class=\"pk\">教具</h4>]\n",
      "教具\n",
      "http://flag.tw/contact\n"
     ]
    }
   ],
   "source": [
    "print(bs.select(\"#main button .pk\"))\n",
    "print(bs.select(\"#main button .pk\")[1].text)\n",
    "print(bs.select(\"#footer a\")[0].get(\"href\"))"
   ]
  },
  {
   "cell_type": "markdown",
   "id": "b8030d9b",
   "metadata": {},
   "source": [
    "# 5-5用re模組以「常規表達式」來搜尋字串"
   ]
  },
  {
   "cell_type": "code",
   "execution_count": 10,
   "id": "0ad981c6",
   "metadata": {},
   "outputs": [
    {
     "data": {
      "text/plain": [
       "['abdc']"
      ]
     },
     "execution_count": 10,
     "metadata": {},
     "output_type": "execute_result"
    }
   ],
   "source": [
    "import re\n",
    "string = \"abdc\"\n",
    "regexp = re.compile(r\"a.+?c\")\n",
    "regexp.findall(string)"
   ]
  },
  {
   "cell_type": "code",
   "execution_count": 11,
   "id": "077d439a",
   "metadata": {},
   "outputs": [
    {
     "name": "stdout",
     "output_type": "stream",
     "text": [
      "<re.Match object; span=(0, 3), match='pyt'>\n",
      "None\n",
      "<re.Match object; span=(1, 4), match='yth'>\n"
     ]
    }
   ],
   "source": [
    "import re\n",
    "print(re.match(r\"pyt\", \"python\"))\n",
    "print(re.match(r\"yth\", \"python\"))\n",
    "print(re.search(r\"yth\", \"python\"))"
   ]
  },
  {
   "cell_type": "code",
   "execution_count": 12,
   "id": "ee312f2c",
   "metadata": {},
   "outputs": [
    {
     "name": "stdout",
     "output_type": "stream",
     "text": [
      "<re.Match object; span=(1, 5), match='pple'>\n",
      "pple\n",
      "1\n",
      "5\n",
      "(1, 5)\n"
     ]
    }
   ],
   "source": [
    "import re\n",
    "m = re.search(r\"p[a-z]+e\", \"apples\")\n",
    "print(m)\n",
    "print(m.group())\n",
    "print(m.start())\n",
    "print(m.end())\n",
    "print(m.span())"
   ]
  },
  {
   "cell_type": "code",
   "execution_count": 15,
   "id": "a6f39a81",
   "metadata": {},
   "outputs": [
    {
     "name": "stdout",
     "output_type": "stream",
     "text": [
      "[]\n",
      "['dog', 'cat']\n"
     ]
    }
   ],
   "source": [
    "import re\n",
    "print(re.findall(r\"[a-z]+\", \"123456\"))\n",
    "print(re.findall(r\"[a-z]+\", \"1dog2cat3\"))"
   ]
  },
  {
   "cell_type": "code",
   "execution_count": 16,
   "id": "0cfee0e6",
   "metadata": {},
   "outputs": [
    {
     "name": "stdout",
     "output_type": "stream",
     "text": [
      "a#b#c#d\n"
     ]
    }
   ],
   "source": [
    "import re\n",
    "print(re.sub(r\"[0-9]+\", \"#\", \"a1b23c456d\"))"
   ]
  },
  {
   "cell_type": "code",
   "execution_count": 17,
   "id": "504ceae5",
   "metadata": {},
   "outputs": [
    {
     "name": "stdout",
     "output_type": "stream",
     "text": [
      "1\n",
      "['1', '23', '456']\n",
      "a#b#c#d\n"
     ]
    }
   ],
   "source": [
    "import re\n",
    "\n",
    "regex = re.compile(r\"[0-9]+\")\n",
    "print(regex.search(\"a1b23c456d\").group())\n",
    "print(regex.findall(\"a1b23c456d\"))\n",
    "print(regex.sub(\"#\", \"a1b23c456d\"))"
   ]
  },
  {
   "cell_type": "markdown",
   "id": "76382d18",
   "metadata": {},
   "source": [
    "# 5-6用Chrome來檢視網頁各部分的HTML碼"
   ]
  },
  {
   "cell_type": "markdown",
   "id": "fdaf04ea",
   "metadata": {},
   "source": [
    "# 5-7用Selenium套件來操控瀏覽器\n",
    "## 目前的連結: https://sites.google.com/a/chromium.org/chromedriver/downloads\n",
    "## 之後的連結?: https://sites.google.com/chromium.org/driver/?pli=1\n",
    "## Selenium官網: https://www.seleniumhq.org/download"
   ]
  },
  {
   "cell_type": "code",
   "execution_count": 2,
   "id": "578682f3",
   "metadata": {},
   "outputs": [],
   "source": [
    "from selenium import webdriver\n",
    "from time import sleep\n",
    "\n",
    "browser = webdriver.Chrome()\n",
    "browser.get(\"http://www.flag.com.tw\")\n",
    "sleep(5)\n",
    "browser.close()"
   ]
  },
  {
   "cell_type": "code",
   "execution_count": 3,
   "id": "66d00b92",
   "metadata": {},
   "outputs": [
    {
     "name": "stdout",
     "output_type": "stream",
     "text": [
      "標題:Google\n",
      "網址:https://www.google.com/?hl=zh_tw\n",
      "內容:<html itemscope=\"\" itemtype=\"http://schema.org/Web\n",
      "視窗: {'height': 806, 'width': 1051, 'x': 9, 'y': 9}\n"
     ]
    }
   ],
   "source": [
    "from selenium import webdriver\n",
    "from time import sleep\n",
    "\n",
    "browser = webdriver.Chrome()\n",
    "browser.get(\"https://www.google.com/?hl=zh_tw\")\n",
    "print(\"標題:\" + browser.title)\n",
    "print(\"網址:\" + browser.current_url)\n",
    "print(\"內容:\" + browser.page_source[0:50])\n",
    "print(\"視窗:\", browser.get_window_rect())\n",
    "browser.save_screenshot(\"C:/Users/Vick/Python3實踐/Ch5/scrcap.png\")\n",
    "sleep(3)\n",
    "browser.set_window_rect(200, 100, 500, 250)\n",
    "sleep(3)\n",
    "browser.fullscreen_window()\n",
    "sleep(3)\n",
    "browser.quit()"
   ]
  },
  {
   "cell_type": "code",
   "execution_count": 11,
   "id": "e12f3dc5",
   "metadata": {},
   "outputs": [
    {
     "name": "stdout",
     "output_type": "stream",
     "text": [
      "<selenium.webdriver.remote.webelement.WebElement (session=\"03f0e26239c972c331467d72ce339f16\", element=\"803FA613212D8FD772FD20A222D1DB23_element_19\")>\n",
      "head\n",
      "title\n"
     ]
    }
   ],
   "source": [
    "from selenium import webdriver\n",
    "browser = webdriver.Chrome()\n",
    "browser.get(\"http://www.google.com\")\n",
    "e1 = browser.find_element(\"tag name\", \"head\")\n",
    "print(e1)\n",
    "print(e1.tag_name)\n",
    "e2 = e1.find_element(\"tag name\", \"title\")\n",
    "print(e2.tag_name)\n",
    "browser.quit()"
   ]
  },
  {
   "cell_type": "code",
   "execution_count": 2,
   "id": "b5f105cc",
   "metadata": {},
   "outputs": [],
   "source": [
    "from selenium import webdriver\n",
    "browser = webdriver.Chrome()\n",
    "\n",
    "browser.get(\"https://www.facebook.com/\")\n",
    "# print(browser.find_element(\"id\", \"email\").tag_name)\n",
    "# print(browser.find_element(\"id\", \"pass\").tag_name)\n",
    "# print(browser.find_element(\"name\", \"login\").tag_name)\n",
    "# browser.quit()\n",
    "browser.find_element(\"id\", \"email\").send_keys(\"vike1202@yahoo.com.tw\")\n",
    "browser.find_element(\"id\", \"pass\").send_keys(\"91*1202\")\n",
    "browser.find_element(\"name\", \"login\").click()"
   ]
  },
  {
   "cell_type": "code",
   "execution_count": 1,
   "id": "194e32b1",
   "metadata": {},
   "outputs": [],
   "source": [
    "from selenium import webdriver\n",
    "\n",
    "opt = webdriver.ChromeOptions()\n",
    "opt.add_experimental_option(\"prefs\",\n",
    "                           {\"profile.default_content_setting_values\": {\"notifications\": 2}})\n",
    "browser = webdriver.Chrome(options = opt)\n",
    "browser.get(\"https://www.facebook.com/\")\n",
    "browser.find_element(\"id\", \"email\").send_keys(\"vike1202@yahoo.com.tw\")\n",
    "browser.find_element(\"id\", \"pass\").send_keys(\"91*1202\")\n",
    "browser.find_element(\"name\", \"login\").click()"
   ]
  },
  {
   "cell_type": "code",
   "execution_count": 23,
   "id": "e2e3dda2",
   "metadata": {},
   "outputs": [
    {
     "ename": "NameError",
     "evalue": "name 'Keys' is not defined",
     "output_type": "error",
     "traceback": [
      "\u001b[1;31m---------------------------------------------------------------------------\u001b[0m",
      "\u001b[1;31mNameError\u001b[0m                                 Traceback (most recent call last)",
      "\u001b[1;32m~\\AppData\\Local\\Temp/ipykernel_20776/2871811599.py\u001b[0m in \u001b[0;36m<module>\u001b[1;34m\u001b[0m\n\u001b[0;32m     12\u001b[0m \u001b[0mactions\u001b[0m\u001b[1;33m.\u001b[0m\u001b[0mclick\u001b[0m\u001b[1;33m(\u001b[0m\u001b[0memail\u001b[0m\u001b[1;33m)\u001b[0m\u001b[1;33m.\u001b[0m\u001b[0msend_keys\u001b[0m\u001b[1;33m(\u001b[0m\u001b[1;34m\"vike1202@yahoo.com.tw\"\u001b[0m\u001b[1;33m)\u001b[0m\u001b[1;33m\u001b[0m\u001b[1;33m\u001b[0m\u001b[0m\n\u001b[0;32m     13\u001b[0m \u001b[0mactions\u001b[0m\u001b[1;33m.\u001b[0m\u001b[0mpause\u001b[0m\u001b[1;33m(\u001b[0m\u001b[1;36m1\u001b[0m\u001b[1;33m)\u001b[0m\u001b[1;33m\u001b[0m\u001b[1;33m\u001b[0m\u001b[0m\n\u001b[1;32m---> 14\u001b[1;33m \u001b[0mactions\u001b[0m\u001b[1;33m.\u001b[0m\u001b[0mkey_down\u001b[0m\u001b[1;33m(\u001b[0m\u001b[0mKeys\u001b[0m\u001b[1;33m.\u001b[0m\u001b[0mSHIFT\u001b[0m\u001b[1;33m)\u001b[0m\u001b[1;33m.\u001b[0m\u001b[0msend_keys_to_element\u001b[0m\u001b[1;33m(\u001b[0m\u001b[0mpassword\u001b[0m\u001b[1;33m,\u001b[0m \u001b[1;34m\"91*1202\"\u001b[0m\u001b[1;33m)\u001b[0m\u001b[1;33m\u001b[0m\u001b[1;33m\u001b[0m\u001b[0m\n\u001b[0m\u001b[0;32m     15\u001b[0m \u001b[0mactions\u001b[0m\u001b[1;33m.\u001b[0m\u001b[0mkey_up\u001b[0m\u001b[1;33m(\u001b[0m\u001b[0mKeys\u001b[0m\u001b[1;33m.\u001b[0m\u001b[0mSHIFT\u001b[0m\u001b[1;33m)\u001b[0m\u001b[1;33m\u001b[0m\u001b[1;33m\u001b[0m\u001b[0m\n\u001b[0;32m     16\u001b[0m \u001b[1;31m#login.click()\u001b[0m\u001b[1;33m\u001b[0m\u001b[1;33m\u001b[0m\u001b[0m\n",
      "\u001b[1;31mNameError\u001b[0m: name 'Keys' is not defined"
     ]
    }
   ],
   "source": [
    "from selenium import webdriver\n",
    "from selenium.webdriver.common.by import By\n",
    "from selenium.webdriver.common.action_chains import ActionChains\n",
    "\n",
    "driver = webdriver.Chrome()\n",
    "driver.get(\"https://www.facebook.com/\")\n",
    "\n",
    "email = driver.find_element(By.ID, \"email\")\n",
    "password = driver.find_element(By.ID, \"pass\")\n",
    "login = driver.find_element(By.NAME, \"login\")\n",
    "actions = ActionChains(driver)\n",
    "actions.click(email).send_keys(\"vike1202@yahoo.com.tw\")\n",
    "actions.pause(1)\n",
    "actions.key_down(Keys.SHIFT).send_keys_to_element(password, \"91*1202\")\n",
    "actions.key_up(Keys.SHIFT)\n",
    "#login.click()\n",
    "\n",
    "actions.perform()"
   ]
  },
  {
   "cell_type": "markdown",
   "id": "7ca69388",
   "metadata": {},
   "source": [
    "# Google按鈕似乎無法按"
   ]
  },
  {
   "cell_type": "code",
   "execution_count": 7,
   "id": "f7fb843b",
   "metadata": {},
   "outputs": [
    {
     "data": {
      "text/plain": [
       "'span'"
      ]
     },
     "execution_count": 7,
     "metadata": {},
     "output_type": "execute_result"
    }
   ],
   "source": [
    "from selenium import webdriver  # 匯入 selenium 的 webdriver\n",
    "from time import sleep          # 匯入內建的 time 模組的 sleep() 函式\n",
    "\n",
    "opt =  webdriver.ChromeOptions()      #建立選項物件\n",
    "opt.add_experimental_option('prefs',  #加入「禁止顯示訊息框」的選項\n",
    "    {'profile.default_content_setting_values': {'notifications' : 2}})\n",
    "browser = webdriver.Chrome() #以 options 參數來建立瀏覽器物件\n",
    "\n",
    "browser.get('http://www.google.com')    #←開啟 Chrome 並連到 Google 網站\n",
    "browser.maximize_window()  #←將視窗最大化以避免最右邊的登入鈕沒顯示出來\n",
    "browser.find_element(\"class name\", 'gb_Ad').tag_name\n",
    "# browser.find_element(\"class\", 'gb_Ad').click()   #←按登入鈕\n",
    "# sleep(3)       #←暫停 3 秒等待進入下一頁\n",
    "# browser.find_element(\"id\", 'identifierId').send_keys('vike11107@gmail.com') #}←輸入帳號\n",
    "# browser.find_element(\"class name\", 'VfPpkd-vQzf8d').click()   #←按繼續鈕\n",
    "# sleep(3)       #←暫停 3 秒等待進入下一頁\n",
    "# browser.find_element(\"name\", 'Passwd').send_keys('vike911202')  #←輸入帳密\n",
    "# browser.find_element(\"class name\", 'VfPpkd-RLmnJb').click()   #←按繼續鈕"
   ]
  },
  {
   "cell_type": "code",
   "execution_count": 10,
   "id": "eaf192ee",
   "metadata": {},
   "outputs": [],
   "source": [
    "from selenium import webdriver  # 匯入 selenium 的 webdriver\n",
    "from time import sleep          # 匯入內建的 time 模組的 sleep() 函式\n",
    "\n",
    "opt =  webdriver.ChromeOptions()      #建立選項物件\n",
    "opt.add_experimental_option('prefs',  #加入「禁止顯示訊息框」的選項\n",
    "    {'profile.default_content_setting_values': {'notifications' : 2}})\n",
    "browser = webdriver.Chrome() #以 options 參數來建立瀏覽器物件\n",
    "browser.get(\"https://accounts.google.com/o/oauth2/v2/auth/oauthchooseaccount?redirect_uri=https%3A%2F%2Fdevelopers.google.com%2Foauthplayground&prompt=consent&response_type=code&client_id=407408718192.apps.googleusercontent.com&scope=email&access_type=offline&flowName=GeneralOAuthFlow\")\n",
    "browser.maximize_window()\n",
    "browser.find_element(\"id\", 'identifierId').send_keys('vike11107@gmail.com') #}←輸入帳號\n",
    "#browser.find_element(\"class name\", 'VfPpkd-LgbsSe VfPpkd-LgbsSe-OWXEXe-k8QpJ VfPpkd-LgbsSe-OWXEXe-dgl2Hf nCP5yc AjY5Oe DuMIQc LQeN7 qIypjc TrZEUc lw1w4b').click()  \n",
    "# sleep(3)       #←暫停 3 秒等待進入下一頁\n",
    "# browser.find_element(\"name\", 'Passwd').send_keys('vike911202')  #←輸入帳密\n",
    "# browser.find_element(\"class\", 'VfPpkd-RLmnJb').click()   #←按繼續鈕"
   ]
  }
 ],
 "metadata": {
  "kernelspec": {
   "display_name": "Python 3 (ipykernel)",
   "language": "python",
   "name": "python3"
  },
  "language_info": {
   "codemirror_mode": {
    "name": "ipython",
    "version": 3
   },
   "file_extension": ".py",
   "mimetype": "text/x-python",
   "name": "python",
   "nbconvert_exporter": "python",
   "pygments_lexer": "ipython3",
   "version": "3.9.7"
  }
 },
 "nbformat": 4,
 "nbformat_minor": 5
}
