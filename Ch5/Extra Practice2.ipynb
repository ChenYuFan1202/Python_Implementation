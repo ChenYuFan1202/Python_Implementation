{
 "cells": [
  {
   "cell_type": "markdown",
   "id": "cb9d78be",
   "metadata": {},
   "source": [
    "# 加入瀏覽器 headers 資訊"
   ]
  },
  {
   "cell_type": "code",
   "execution_count": null,
   "id": "bac31a8b",
   "metadata": {},
   "outputs": [],
   "source": [
    "import requests\n",
    "url = '要爬的網址'\n",
    "headers = \"Mozilla/5.0 (Windows NT 6.1) AppleWebKit/537.36 (KHTML, like Gecko) Chrome/52.0.2743.116 Safari/537.36\"\n",
    "\n",
    "r = requests.get(url, headers = headers)\n",
    "r.text"
   ]
  },
  {
   "cell_type": "code",
   "execution_count": null,
   "id": "84699356",
   "metadata": {},
   "outputs": [],
   "source": [
    "from selenium import webdriver\n",
    "\n",
    "user_agent = \"Mozilla/5.0 (Windows NT 6.1) AppleWebKit/537.36 (KHTML, like Gecko) Chrome/52.0.2743.116 Safari/537.36\"\n",
    "opt = webdriver.ChromeOptions()\n",
    "opt.add_argument(\"--user-agent=%s\" % user_agent)\n",
    "driver = webdriver.Chrome(options = opt)\n",
    "driver.get(\"要爬的網址\")"
   ]
  },
  {
   "cell_type": "markdown",
   "id": "8054161c",
   "metadata": {},
   "source": [
    "# 清空 window.navigator"
   ]
  },
  {
   "cell_type": "code",
   "execution_count": null,
   "id": "48c65d73",
   "metadata": {},
   "outputs": [],
   "source": [
    "from selenium import webdriver\n",
    "driver = webdriver.Chrome()\n",
    "driver.execute_cdp_cmd(\"Page.addScriptToEvaluateOnNewDocument\", {\n",
    "  \"source\": \"\"\"\n",
    "    Object.defineProperty(navigator, 'webdriver', {\n",
    "      get: () => undefined\n",
    "    })\n",
    "  \"\"\"\n",
    "})"
   ]
  },
  {
   "cell_type": "markdown",
   "id": "f194fa19",
   "metadata": {},
   "source": [
    "# 解析動態頁面\n",
    "針對「使用動態頁面」的網頁，只要確認動態頁面的架構，就能進行破解\n",
    "\n",
    "「檢視網頁原始碼」時看到的結構往往會很簡單，通常都只會是一些簡單的 HTML、CSS 和壓縮過的 js 文件"
   ]
  },
  {
   "cell_type": "code",
   "execution_count": null,
   "id": "5ba3e089",
   "metadata": {},
   "outputs": [],
   "source": [
    "from selenium import webdriver\n",
    "\n",
    "driver = webdriver.Chrome()\n",
    "driver.get('爬取的網址')\n",
    "# 從載入後的動態網頁裡，找到指定的元素\n",
    "imgCount = driver.find_element(By.CSS_SELECTOR, 'CSS 選擇器')"
   ]
  },
  {
   "cell_type": "markdown",
   "id": "8f1293d4",
   "metadata": {},
   "source": [
    "# 判斷使用者行為"
   ]
  },
  {
   "cell_type": "code",
   "execution_count": null,
   "id": "2bd669f8",
   "metadata": {},
   "outputs": [],
   "source": [
    "from selenium import webdriver\n",
    "from selenium.webdriver.common.action_chains import ActionChains\n",
    "submitBtn = driver.find_element(By.CSS_SELECTOR, '#submitBtn')\n",
    "actions = ActionChains(driver)\n",
    "# 滑鼠先移到 submitBtn 上，然後再點擊 submitBtn\n",
    "actions.move_to_element(submitBtn).click(submitBtn)\n",
    "actions.perform()"
   ]
  },
  {
   "cell_type": "code",
   "execution_count": null,
   "id": "48c7b0fd",
   "metadata": {},
   "outputs": [],
   "source": [
    "from selenium import webdriver\n",
    "from time import sleep\n",
    "submitBtn = driver.find_element(By.CSS_SELECTOR, '#submitBtn')\n",
    "sleep(1)     # 等待一秒\n",
    "submitBtn.click()\n",
    "sleep(0.5)   # 等待 0.5 秒\n",
    "submitBtn.click()"
   ]
  },
  {
   "cell_type": "markdown",
   "id": "b98eb830",
   "metadata": {},
   "source": [
    "# 提交使用者授權"
   ]
  },
  {
   "cell_type": "code",
   "execution_count": null,
   "id": "764581e5",
   "metadata": {},
   "outputs": [],
   "source": [
    "import requests\n",
    "cookies = {'over18':'1'}\n",
    "# 加入 Cookies 資訊\n",
    "web = requests.get('https://www.ptt.cc/bbs/Gossiping/index.html', cookies=cookies)\n",
    "print(web.text)"
   ]
  },
  {
   "cell_type": "markdown",
   "id": "4f74d506",
   "metadata": {},
   "source": [
    "# 破解驗證碼"
   ]
  },
  {
   "cell_type": "markdown",
   "id": "b78dbb83",
   "metadata": {},
   "source": [
    "# 破解代理伺服器與第三方 IP 封鎖"
   ]
  },
  {
   "cell_type": "code",
   "execution_count": null,
   "id": "bcfa58f3",
   "metadata": {},
   "outputs": [
    {
     "name": "stdout",
     "output_type": "stream",
     "text": [
      "195.201.226.34 invalid\n",
      "50.200.12.81 invalid\n"
     ]
    }
   ],
   "source": [
    "import requests\n",
    "\n",
    "proxy_ips = [\"195.201.226.34\",\n",
    "             \"50.200.12.81\",\n",
    "             \"209.79.65.132\",\n",
    "             \"34.87.84.105\"]\n",
    "\n",
    "for ip in proxy_ips:\n",
    "    try:\n",
    "        result = requests.get(\"https://www.google.com\", proxies = {\"http\": \"ip\", \"https\": ip})\n",
    "        print(result.text)\n",
    "    except:\n",
    "        print(f\"{ip} invalid\")"
   ]
  }
 ],
 "metadata": {
  "kernelspec": {
   "display_name": "Python 3 (ipykernel)",
   "language": "python",
   "name": "python3"
  },
  "language_info": {
   "codemirror_mode": {
    "name": "ipython",
    "version": 3
   },
   "file_extension": ".py",
   "mimetype": "text/x-python",
   "name": "python",
   "nbconvert_exporter": "python",
   "pygments_lexer": "ipython3",
   "version": "3.9.7"
  }
 },
 "nbformat": 4,
 "nbformat_minor": 5
}
