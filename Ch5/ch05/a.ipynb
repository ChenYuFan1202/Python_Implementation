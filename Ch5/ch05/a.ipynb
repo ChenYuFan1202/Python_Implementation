{
 "cells": [
  {
   "cell_type": "code",
   "execution_count": null,
   "id": "a7351616",
   "metadata": {},
   "outputs": [],
   "source": [
    "from mdu import fun\n",
    "from pkg.mdp import fun"
   ]
  },
  {
   "cell_type": "code",
   "execution_count": null,
   "id": "0602c119",
   "metadata": {},
   "outputs": [],
   "source": [
    "from mdu import fun\n",
    "from pkg.mdp import fun as fun2"
   ]
  },
  {
   "cell_type": "code",
   "execution_count": 4,
   "id": "3c140c82",
   "metadata": {},
   "outputs": [
    {
     "name": "stdout",
     "output_type": "stream",
     "text": [
      "3\n"
     ]
    }
   ],
   "source": [
    "from pkg import mdp\n",
    "#print(mdp.var)"
   ]
  }
 ],
 "metadata": {
  "kernelspec": {
   "display_name": "Python 3 (ipykernel)",
   "language": "python",
   "name": "python3"
  },
  "language_info": {
   "codemirror_mode": {
    "name": "ipython",
    "version": 3
   },
   "file_extension": ".py",
   "mimetype": "text/x-python",
   "name": "python",
   "nbconvert_exporter": "python",
   "pygments_lexer": "ipython3",
   "version": "3.9.7"
  }
 },
 "nbformat": 4,
 "nbformat_minor": 5
}
