{
 "cells": [
  {
   "cell_type": "markdown",
   "id": "f7718aca",
   "metadata": {},
   "source": [
    "# 11-1 高斯模糊"
   ]
  },
  {
   "cell_type": "code",
   "execution_count": 1,
   "id": "90befe9f",
   "metadata": {},
   "outputs": [],
   "source": [
    "import cv2\n",
    "\n",
    "img = cv2.imread(\"road.jpg\")\n",
    "gray = cv2.cvtColor(img, cv2.COLOR_BGR2GRAY)\n",
    "blur = cv2.GaussianBlur(gray, (3, 3), 0)\n",
    "cv2.imshow(\"Normal\", img)\n",
    "cv2.imshow(\"Gray\", gray)\n",
    "cv2.imshow(\"Blur\", blur)\n",
    "cv2.waitKey(0)\n",
    "cv2.destroyAllWindows()"
   ]
  },
  {
   "cell_type": "markdown",
   "id": "24d82f31",
   "metadata": {},
   "source": [
    "# 11-2 Canny邊緣偵測"
   ]
  },
  {
   "cell_type": "code",
   "execution_count": 1,
   "id": "6ce3bd53",
   "metadata": {},
   "outputs": [],
   "source": [
    "import cv2\n",
    "\n",
    "def get_edge(img):\n",
    "    gray = cv2.cvtColor(img, cv2.COLOR_BGR2GRAY)\n",
    "    blur = cv2.GaussianBlur(gray, (13, 13), 0)\n",
    "    canny = cv2.Canny(blur, 50, 150)\n",
    "    return canny\n",
    "\n",
    "img = cv2.imread(\"road.jpg\")\n",
    "edge = get_edge(img)\n",
    "cv2.imshow(\"Edge\", edge)\n",
    "cv2.waitKey(0)\n",
    "cv2.destroyAllWindows()"
   ]
  },
  {
   "cell_type": "markdown",
   "id": "82ae47b1",
   "metadata": {},
   "source": [
    "# 11-3 Region of Interest：以管窺天"
   ]
  },
  {
   "cell_type": "code",
   "execution_count": 3,
   "id": "85f8ffc1",
   "metadata": {},
   "outputs": [
    {
     "data": {
      "image/png": "[encoded data removed]",
      "text/plain": [
       "<Figure size 432x288 with 1 Axes>"
      ]
     },
     "metadata": {
      "needs_background": "light"
     },
     "output_type": "display_data"
    }
   ],
   "source": [
    "import cv2\n",
    "import matplotlib.pyplot as plt\n",
    "import autocar_module as m\n",
    "\n",
    "try:\n",
    "    img = cv2.imread(\"road.jpg\")\n",
    "    edge = m.get_edge(img)\n",
    "    plt.imshow(edge)\n",
    "    plt.show()\n",
    "except:\n",
    "    print(\"error\")"
   ]
  },
  {
   "cell_type": "code",
   "execution_count": 3,
   "id": "249b8076",
   "metadata": {},
   "outputs": [
    {
     "name": "stdout",
     "output_type": "stream",
     "text": [
      "<class 'numpy.ndarray'>\n",
      "(720, 1280)\n"
     ]
    }
   ],
   "source": [
    "print(type(gray))\n",
    "print(gray.shape)"
   ]
  },
  {
   "cell_type": "code",
   "execution_count": 1,
   "id": "d8dc0e07",
   "metadata": {},
   "outputs": [
    {
     "data": {
      "text/plain": [
       "(720, 1280, 3)"
      ]
     },
     "execution_count": 1,
     "metadata": {},
     "output_type": "execute_result"
    }
   ],
   "source": [
    "import cv2\n",
    "\n",
    "img = cv2.imread(\"road.jpg\")\n",
    "img.shape"
   ]
  },
  {
   "cell_type": "code",
   "execution_count": 2,
   "id": "c52d5791",
   "metadata": {},
   "outputs": [
    {
     "data": {
      "text/plain": [
       "array([[255, 255, 255],\n",
       "       [200, 200, 200]])"
      ]
     },
     "execution_count": 2,
     "metadata": {},
     "output_type": "execute_result"
    }
   ],
   "source": [
    "import numpy as np\n",
    "np.array([[255, 255, 255], [200, 200, 200]])"
   ]
  },
  {
   "cell_type": "code",
   "execution_count": 5,
   "id": "c5a33861",
   "metadata": {},
   "outputs": [
    {
     "data": {
      "text/plain": [
       "array([255, 255, 255])"
      ]
     },
     "execution_count": 5,
     "metadata": {},
     "output_type": "execute_result"
    }
   ],
   "source": [
    "import numpy as np\n",
    "\n",
    "np.array((255, 255, 255)) # () [] 的結果是一樣的"
   ]
  },
  {
   "cell_type": "code",
   "execution_count": 8,
   "id": "feeec793",
   "metadata": {},
   "outputs": [
    {
     "data": {
      "text/plain": [
       "array([0, 0, 0, 0, 0, 0, 0, 0, 0, 0])"
      ]
     },
     "execution_count": 8,
     "metadata": {},
     "output_type": "execute_result"
    }
   ],
   "source": [
    "np.zeros(10, int)"
   ]
  },
  {
   "cell_type": "code",
   "execution_count": 14,
   "id": "a856460d",
   "metadata": {},
   "outputs": [],
   "source": [
    "import cv2\n",
    "import autocar_module as m\n",
    "import numpy as np\n",
    "\n",
    "img = cv2.imread(\"road.jpg\")\n",
    "edge = m.get_edge(img)\n",
    "mask = np.zeros_like(edge) # img會變藍色\n",
    "points = np.array([[[146, 539], \n",
    "                    [781, 539], \n",
    "                    [515, 417], \n",
    "                    [296, 397]]])\n",
    "cv2.fillPoly(mask, points, 255)\n",
    "cv2.imshow(\"Mask\", mask)\n",
    "cv2.waitKey(0)\n",
    "cv2.destroyAllWindows()"
   ]
  },
  {
   "cell_type": "code",
   "execution_count": 10,
   "id": "664c7b7b",
   "metadata": {},
   "outputs": [],
   "source": [
    "import cv2\n",
    "import autocar_module as m\n",
    "import numpy as np\n",
    "\n",
    "def get_roi(img):\n",
    "    mask = np.zeros_like(img)\n",
    "    points = np.array([[[146, 539],\n",
    "                        [781, 539],\n",
    "                        [515, 417],\n",
    "                        [296, 397]]])\n",
    "    cv2.fillPoly(mask, points, 255)\n",
    "    roi = cv2.bitwise_and(img, mask) # 調換也可以\n",
    "    return roi\n",
    "    \n",
    "img = cv2.imread(\"road.jpg\")\n",
    "edge = m.get_edge(img)\n",
    "roi = get_roi(edge)\n",
    "cv2.imshow(\"ROI\", roi)\n",
    "cv2.waitKey(0)\n",
    "cv2.destroyAllWindows()"
   ]
  },
  {
   "cell_type": "code",
   "execution_count": 1,
   "id": "16e4b452",
   "metadata": {},
   "outputs": [],
   "source": [
    "import cv2\n",
    "import autocar_module as m\n",
    "\n",
    "img = cv2.imread(\"road.jpg\")\n",
    "edge = m.get_edge(img)\n",
    "roi = m.get_roi(edge)\n",
    "\n",
    "cv2.imshow(\"ROI\", roi)\n",
    "cv2.waitKey(0)\n",
    "cv2.destroyAllWindows()"
   ]
  },
  {
   "cell_type": "markdown",
   "id": "d4258dcb",
   "metadata": {},
   "source": [
    "# 11-4 Hough轉換"
   ]
  },
  {
   "cell_type": "code",
   "execution_count": 24,
   "id": "9474ccec",
   "metadata": {},
   "outputs": [],
   "source": [
    "import cv2\n",
    "img = cv2.imread(\"road.jpg\")\n",
    "cv2.imshow(\"img\", img)\n",
    "cv2.waitKey(0)\n",
    "cv2.destroyAllWindows()"
   ]
  },
  {
   "cell_type": "code",
   "execution_count": 2,
   "id": "5959eb3f",
   "metadata": {},
   "outputs": [
    {
     "data": {
      "text/plain": [
       "(1, 4, 1)"
      ]
     },
     "execution_count": 2,
     "metadata": {},
     "output_type": "execute_result"
    }
   ],
   "source": [
    "import numpy as np\n",
    "arr = np.array([[[0],[1],[2],[3]]])\n",
    "arr.shape"
   ]
  },
  {
   "cell_type": "code",
   "execution_count": 5,
   "id": "b011d909",
   "metadata": {},
   "outputs": [
    {
     "name": "stdout",
     "output_type": "stream",
     "text": [
      "(7, 1, 4)\n",
      "[556 454 756 539]\n",
      "[511 439 590 475]\n",
      "[470 413 547 450]\n",
      "[454 411 719 535]\n",
      "[208 488 302 415]\n",
      "[490 429 655 506]\n",
      "[238 491 315 416]\n"
     ]
    }
   ],
   "source": [
    "import numpy as np\n",
    "arr = [[[556, 454, 756, 539]],\n",
    "\n",
    " [[511, 439, 590, 475]],\n",
    "\n",
    " [[470, 413, 547, 450]],\n",
    "\n",
    " [[454, 411, 719, 535]],\n",
    "\n",
    " [[208, 488, 302, 415]],\n",
    "\n",
    " [[490, 429, 655, 506]],\n",
    "\n",
    " [[238, 491, 315, 416]]]\n",
    "arr = np.array(arr)\n",
    "print(arr.shape)\n",
    "for a in arr:\n",
    "    print(a.reshape(4, ))"
   ]
  },
  {
   "cell_type": "code",
   "execution_count": 42,
   "id": "388f43a7",
   "metadata": {
    "scrolled": true
   },
   "outputs": [
    {
     "name": "stdout",
     "output_type": "stream",
     "text": [
      "[[[556 454 756 539]]\n",
      "\n",
      " [[511 439 590 475]]\n",
      "\n",
      " [[470 413 547 450]]\n",
      "\n",
      " [[454 411 719 535]]\n",
      "\n",
      " [[208 488 302 415]]\n",
      "\n",
      " [[490 429 655 506]]\n",
      "\n",
      " [[238 491 315 416]]]\n",
      "(7, 1, 4)\n"
     ]
    }
   ],
   "source": [
    "import cv2\n",
    "import autocar_module as m\n",
    "import numpy as np\n",
    "\n",
    "def draw_lines(img, lines):\n",
    "    for line in lines:\n",
    "        #print(line.shape)\n",
    "        points = line.reshape(4, )\n",
    "        x1, y1, x2, y2 = points\n",
    "        cv2.line(img, \n",
    "                 (x1, y1), (x2, y2), \n",
    "                 (0, 0, 255), 3)\n",
    "    return img\n",
    "    \n",
    "img = cv2.imread(\"road.jpg\")\n",
    "edge = m.get_edge(img)\n",
    "roi = m.get_roi(edge)\n",
    "lines = cv2.HoughLinesP(image = roi,\n",
    "                        rho = 3,\n",
    "                        theta = np.pi / 180,\n",
    "                        threshold = 60,\n",
    "                        minLineLength = 40,\n",
    "                        maxLineGap = 50)\n",
    "print(lines)\n",
    "print(lines.shape)\n",
    "if lines is not None:\n",
    "    img = m.draw_lines(img, lines) # draw_lines(img, lines)\n",
    "else:\n",
    "    print(\"偵測不到直線線段\")\n",
    "cv2.imshow(\"Line\", img)\n",
    "cv2.waitKey(0)\n",
    "cv2.destroyAllWindows()"
   ]
  },
  {
   "cell_type": "markdown",
   "id": "b7e8c10b",
   "metadata": {},
   "source": [
    "# 11-5 最小平方法：取得最佳直線"
   ]
  },
  {
   "cell_type": "code",
   "execution_count": 2,
   "id": "aabe2968",
   "metadata": {},
   "outputs": [
    {
     "name": "stdout",
     "output_type": "stream",
     "text": [
      "y = 0.9999999999999998x + 2.0000000000000004\n"
     ]
    }
   ],
   "source": [
    "import numpy as np\n",
    "\n",
    "a, b = np.polyfit((1, 2), (3, 4), deg = 1)\n",
    "print(f\"y = {a}x + {b}\")"
   ]
  },
  {
   "cell_type": "code",
   "execution_count": 36,
   "id": "3d174bfe",
   "metadata": {},
   "outputs": [
    {
     "data": {
      "text/plain": [
       "array([1, 2, 3, 4])"
      ]
     },
     "execution_count": 36,
     "metadata": {},
     "output_type": "execute_result"
    }
   ],
   "source": [
    "import numpy as np\n",
    "arr = np.array([1, 2, 3, 4])\n",
    "arr.reshape(4, )"
   ]
  },
  {
   "cell_type": "code",
   "execution_count": 39,
   "id": "79e5e321",
   "metadata": {},
   "outputs": [
    {
     "name": "stdout",
     "output_type": "stream",
     "text": [
      "-0.9740259740259742 722.8181818181818\n"
     ]
    }
   ],
   "source": [
    "import numpy as np\n",
    "\n",
    "m, b = np.polyfit((238, 315), (491, 416), deg = 1)\n",
    "print(m, b)"
   ]
  },
  {
   "cell_type": "code",
   "execution_count": 3,
   "id": "26a01ca5",
   "metadata": {},
   "outputs": [],
   "source": [
    "import cv2\n",
    "import autocar_module as m\n",
    "import numpy as np\n",
    "\n",
    "def get_avglines(lines):\n",
    "    if lines is None:\n",
    "        print(\"偵測不到直線線段\")\n",
    "        return None\n",
    "    lefts = []\n",
    "    rights = []\n",
    "    for line in lines:\n",
    "        points = line.reshape(4, )\n",
    "        x1, y1, x2, y2 = points\n",
    "        slope, b = np.polyfit((x1, x2), (y1, y2), deg = 1)\n",
    "#         print(f\"y = {slope}x + {b}\")\n",
    "        if slope > 0:\n",
    "            rights.append([slope, b])\n",
    "        else:\n",
    "            lefts.append([slope, b])\n",
    "    \n",
    "    if rights and lefts:\n",
    "#         print(rights, lefts, sep = \"\\n\")\n",
    "        right_avg = np.average(rights, axis = 0)\n",
    "        left_avg = np.average(lefts, axis = 0)\n",
    "        return np.array([right_avg, left_avg])    \n",
    "    else:\n",
    "        print(\"無法同時偵測到左右邊緣\")\n",
    "        return None\n",
    "    \n",
    "def get_sublines(img, avglines):\n",
    "    sublines = []\n",
    "    for line in avglines:\n",
    "        slope, b = line\n",
    "        y1 = img.shape[0]\n",
    "        y2 = int(y1 * (3 / 5))\n",
    "        x1 = int((y1 - b) / slope)\n",
    "        x2 = int((y2 - b) / slope)\n",
    "        sublines.append([x1, y1, x2, y2])\n",
    "    return np.array(sublines)\n",
    "        \n",
    "img = cv2.imread(\"road.jpg\")\n",
    "edge = m.get_edge(img)\n",
    "roi = m.get_roi(edge)\n",
    "lines = cv2.HoughLinesP(image = roi,\n",
    "                        rho = 3,\n",
    "                        theta = np.pi / 180,\n",
    "                        threshold = 60,\n",
    "                        minLineLength = 40,\n",
    "                        maxLineGap = 50)\n",
    "avglines = get_avglines(lines)\n",
    "if avglines is not None:\n",
    "    lines = get_sublines(img, avglines)\n",
    "    img = m.draw_lines(img, lines)\n",
    "    cv2.imshow(\"Line\", img)\n",
    "    cv2.waitKey(0)\n",
    "    cv2.destroyAllWindows()"
   ]
  },
  {
   "cell_type": "markdown",
   "id": "0430c961",
   "metadata": {},
   "source": [
    "# 11-6 實戰：讀取行車紀錄器，模擬開車情況"
   ]
  },
  {
   "cell_type": "code",
   "execution_count": 4,
   "id": "c9c4f827",
   "metadata": {},
   "outputs": [
    {
     "name": "stdout",
     "output_type": "stream",
     "text": [
      "exit\n"
     ]
    }
   ],
   "source": [
    "import cv2\n",
    "import autocar_module as m\n",
    "import numpy as np\n",
    "\n",
    "capture = cv2.VideoCapture(\"road.mp4\")\n",
    "if capture.isOpened():\n",
    "    while True:\n",
    "        success, img = capture.read()\n",
    "        if success:\n",
    "            edge = m.get_edge(img)\n",
    "            roi = m.get_roi(edge)\n",
    "            lines = cv2.HoughLinesP(image = roi,\n",
    "                                    rho = 3,\n",
    "                                    theta = np.pi / 180,\n",
    "                                    threshold = 30,\n",
    "                                    minLineLength = 50,\n",
    "                                    maxLineGap = 40)\n",
    "            avglines = m.get_avglines(lines)\n",
    "            if avglines is not None:\n",
    "                lines = m.get_sublines(img, avglines)\n",
    "                img = m.draw_lines(img, lines)\n",
    "            cv2.imshow(\"Frame\", img)\n",
    "        k = cv2.waitKey(10)\n",
    "        if k == ord(\"q\") or k == ord(\"Q\"):\n",
    "            print(\"exit\")\n",
    "            cv2.destroyAllWindows()\n",
    "            capture.release()\n",
    "            break\n",
    "else:\n",
    "    print(\"開啟攝影機失敗\")        "
   ]
  }
 ],
 "metadata": {
  "kernelspec": {
   "display_name": "Python 3 (ipykernel)",
   "language": "python",
   "name": "python3"
  },
  "language_info": {
   "codemirror_mode": {
    "name": "ipython",
    "version": 3
   },
   "file_extension": ".py",
   "mimetype": "text/x-python",
   "name": "python",
   "nbconvert_exporter": "python",
   "pygments_lexer": "ipython3",
   "version": "3.9.7"
  }
 },
 "nbformat": 4,
 "nbformat_minor": 5
}
