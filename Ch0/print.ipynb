{
 "cells": [
  {
   "cell_type": "code",
   "execution_count": 2,
   "id": "9ee453ac",
   "metadata": {},
   "outputs": [
    {
     "name": "stdout",
     "output_type": "stream",
     "text": [
      "總和為 3\n"
     ]
    }
   ],
   "source": [
    "a = 1\n",
    "a\n",
    "a + 2\n",
    "print(\"總和為\",a + 2)"
   ]
  },
  {
   "cell_type": "code",
   "execution_count": 7,
   "id": "ba098613",
   "metadata": {},
   "outputs": [
    {
     "name": "stdout",
     "output_type": "stream",
     "text": [
      "5\n"
     ]
    }
   ],
   "source": [
    "print(5)"
   ]
  },
  {
   "cell_type": "markdown",
   "id": "62e84f54",
   "metadata": {},
   "source": [
    "### 有料\n",
    "*以上的結果是* **5**\n"
   ]
  },
  {
   "cell_type": "code",
   "execution_count": 6,
   "id": "296066e7",
   "metadata": {},
   "outputs": [],
   "source": [
    "?print"
   ]
  },
  {
   "cell_type": "markdown",
   "id": "05658780",
   "metadata": {},
   "source": [
    "Python程式是由**敘述**"
   ]
  }
 ],
 "metadata": {
  "kernelspec": {
   "display_name": "Python 3 (ipykernel)",
   "language": "python",
   "name": "python3"
  },
  "language_info": {
   "codemirror_mode": {
    "name": "ipython",
    "version": 3
   },
   "file_extension": ".py",
   "mimetype": "text/x-python",
   "name": "python",
   "nbconvert_exporter": "python",
   "pygments_lexer": "ipython3",
   "version": "3.9.7"
  }
 },
 "nbformat": 4,
 "nbformat_minor": 5
}
