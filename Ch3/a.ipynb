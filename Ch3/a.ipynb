{
 "cells": [
  {
   "cell_type": "markdown",
   "id": "d2e92f16",
   "metadata": {},
   "source": [
    "# 3-0文字輸入與輸出的技巧"
   ]
  },
  {
   "cell_type": "code",
   "execution_count": 1,
   "id": "20f975f7",
   "metadata": {},
   "outputs": [
    {
     "name": "stdout",
     "output_type": "stream",
     "text": [
      "蘋果、柳丁、香蕉很好吃\n"
     ]
    }
   ],
   "source": [
    "print(\"蘋果\",\"柳丁\",\"香蕉\",sep = \"、\",end = \"很好吃\\n\")"
   ]
  },
  {
   "cell_type": "code",
   "execution_count": 28,
   "id": "d0b975e2",
   "metadata": {},
   "outputs": [
    {
     "name": "stdout",
     "output_type": "stream",
     "text": [
      "2 和 3 相乘的結果是 +6.0\n",
      "2 和 3 相乘的結果是  6.0\n"
     ]
    }
   ],
   "source": [
    "a,b = 2,3 \n",
    "print(f\"{a} 和 {b} 相乘的結果是{a * b:+5.1f}\")\n",
    "print(f\"{a} 和 {b} 相乘的結果是{a * b: 5.1f}\")"
   ]
  },
  {
   "cell_type": "markdown",
   "id": "bca04b81",
   "metadata": {},
   "source": [
    "# 3-1if判斷式"
   ]
  },
  {
   "cell_type": "code",
   "execution_count": 5,
   "id": "f59ad67b",
   "metadata": {},
   "outputs": [
    {
     "name": "stdout",
     "output_type": "stream",
     "text": [
      "2\n"
     ]
    }
   ],
   "source": [
    "if a < 1: a += 1\n",
    "print(a)"
   ]
  },
  {
   "cell_type": "code",
   "execution_count": 14,
   "id": "2a9e4d10",
   "metadata": {},
   "outputs": [
    {
     "name": "stdout",
     "output_type": "stream",
     "text": [
      "505\n"
     ]
    },
    {
     "data": {
      "text/plain": [
       "'50.5'"
      ]
     },
     "execution_count": 14,
     "metadata": {},
     "output_type": "execute_result"
    }
   ],
   "source": [
    "t = \"50.5\"\n",
    "print(t.replace(\".\",\"\"))\n",
    "t"
   ]
  },
  {
   "cell_type": "code",
   "execution_count": 11,
   "id": "06001295",
   "metadata": {},
   "outputs": [
    {
     "name": "stdout",
     "output_type": "stream",
     "text": [
      "請輸入溫度: -15.5\n",
      "攝氏 -15.5 度等於華氏  +4.1 度\n",
      "華氏 -15.5 度等於攝氏 -26.4 度\n"
     ]
    }
   ],
   "source": [
    "s = input(\"請輸入溫度: \")\n",
    "if s.count(\".\") > 1:\n",
    "    print(\"只能有一個小數點\")\n",
    "elif s[1:].replace(\".\",\"\").isdigit():\n",
    "    if s[0] == \"-\" or s[0].isdigit():\n",
    "        temp = float(s)\n",
    "        print(f\"攝氏 {temp} 度等於華氏 {(temp * 9 / 5) + 32:+5.1f} 度\")\n",
    "        print(f\"華氏 {temp} 度等於攝氏 {(temp - 32) * 5 / 9:+5.1f} 度\")\n",
    "    else:\n",
    "        print(\"只能以數字或負號開頭\")\n",
    "else:\n",
    "    print(\"輸入的溫度無法轉換!\")"
   ]
  },
  {
   "cell_type": "code",
   "execution_count": 9,
   "id": "16507731",
   "metadata": {},
   "outputs": [],
   "source": [
    "c = 3\n",
    "if c > 5:\n",
    "    a = 1\n",
    "else:\n",
    "    a = 2\n",
    "    \n",
    "a = 1 if c > 5 else 2"
   ]
  },
  {
   "cell_type": "code",
   "execution_count": 15,
   "id": "3f5f9023",
   "metadata": {},
   "outputs": [
    {
     "data": {
      "text/plain": [
       "80.0"
      ]
     },
     "execution_count": 15,
     "metadata": {},
     "output_type": "execute_result"
    }
   ],
   "source": [
    "price = 100\n",
    "price = price * 0.8 if price > 99 else price * 0.9\n",
    "price"
   ]
  },
  {
   "cell_type": "code",
   "execution_count": 16,
   "id": "0d44bd56",
   "metadata": {},
   "outputs": [
    {
     "name": "stdout",
     "output_type": "stream",
     "text": [
      "False\n",
      "3.3000000000000003 3.3\n"
     ]
    }
   ],
   "source": [
    "a = 1.1 * 3\n",
    "b = 3.3 * 1\n",
    "print(a == b)\n",
    "print(a,b)"
   ]
  },
  {
   "cell_type": "markdown",
   "id": "ed030680",
   "metadata": {},
   "source": [
    "# 3-2while迴圈:依條件重複執行"
   ]
  },
  {
   "cell_type": "code",
   "execution_count": 17,
   "id": "06568a8a",
   "metadata": {},
   "outputs": [
    {
     "name": "stdout",
     "output_type": "stream",
     "text": [
      "請輸入一個正整數: 5\n",
      "120\n"
     ]
    }
   ],
   "source": [
    "n = int(input(\"請輸入一個正整數: \"))\n",
    "k = n\n",
    "while (n > 1):\n",
    "    n = n - 1\n",
    "    k = k * n\n",
    "print(k)"
   ]
  },
  {
   "cell_type": "code",
   "execution_count": 20,
   "id": "87654976",
   "metadata": {
    "scrolled": true
   },
   "outputs": [
    {
     "name": "stdout",
     "output_type": "stream",
     "text": [
      "請輸入一個正數: 10000\n",
      "10000.0 的平方根是: 100.00000002054185\n"
     ]
    }
   ],
   "source": [
    "i = float(input(\"請輸入一個正數: \"))\n",
    "j = 0.0\n",
    "while j * j < i:\n",
    "    j = j + 0.00001\n",
    "print(f\"{i} 的平方根是: {j}\")"
   ]
  },
  {
   "cell_type": "code",
   "execution_count": 23,
   "id": "9dd6f1fc",
   "metadata": {},
   "outputs": [
    {
     "name": "stdout",
     "output_type": "stream",
     "text": [
      "1 2 3 4 6 7 8 9 10 結束\n"
     ]
    }
   ],
   "source": [
    "i = 1\n",
    "while True:\n",
    "    if i == 5:\n",
    "        i += 1\n",
    "        continue\n",
    "    print(i,end = \" \")\n",
    "    if i == 10:\n",
    "        break\n",
    "    i += 1\n",
    "print(\"結束\")"
   ]
  },
  {
   "cell_type": "code",
   "execution_count": 10,
   "id": "0b85dc51",
   "metadata": {},
   "outputs": [
    {
     "name": "stdout",
     "output_type": "stream",
     "text": [
      "請輸入通關密語: \"\"\n",
      "不對喔!\n",
      "請輸入通關密語: \n",
      "請輸入通關密語: soga\n",
      "不對喔!\n",
      "請輸入通關密語: out\n",
      "再見!\n"
     ]
    }
   ],
   "source": [
    "s = \"\"\n",
    "while s != \"喵喵\":\n",
    "    if s != \"\":\n",
    "        print(\"不對喔!\")\n",
    "    s = input(\"請輸入通關密語: \")\n",
    "    if s == \"out\":\n",
    "        break\n",
    "else:\n",
    "    print(\"恭喜你過關了\")\n",
    "print(\"再見!\")"
   ]
  },
  {
   "cell_type": "markdown",
   "id": "96c9821b",
   "metadata": {},
   "source": [
    "# 3-3for迴圈:走訪容器的每個元素"
   ]
  },
  {
   "cell_type": "code",
   "execution_count": 29,
   "id": "0ef2a89c",
   "metadata": {},
   "outputs": [
    {
     "name": "stdout",
     "output_type": "stream",
     "text": [
      "a b c in dict\n",
      "0 1 2 in dict.values\n",
      "('a', 0) ('b', 1) ('c', 2) in dict.itmes\n"
     ]
    }
   ],
   "source": [
    "for a in {\"a\":0,\"b\":1,\"c\":2}:\n",
    "    print(a,end = \" \")\n",
    "print(\"in dict\")\n",
    "\n",
    "d = {\"a\":0,\"b\":1,\"c\":2}\n",
    "for a in d.values():\n",
    "    print(a,end = \" \")\n",
    "print(\"in dict.values\")\n",
    "\n",
    "for a in d.items():\n",
    "    print(a, end = \" \")\n",
    "print(\"in dict.itmes\")"
   ]
  },
  {
   "cell_type": "code",
   "execution_count": 33,
   "id": "3d12981b",
   "metadata": {},
   "outputs": [
    {
     "name": "stdout",
     "output_type": "stream",
     "text": [
      "a 0\n",
      "b 1\n",
      "c 2\n",
      "\n",
      "a 0\n",
      "b 1\n",
      "c 2\n"
     ]
    }
   ],
   "source": [
    "d = {\"a\":0,\"b\":1,\"c\":2}\n",
    "for a in d.items():\n",
    "    print(a[0],a[1])\n",
    "print()\n",
    "for key,value in d.items():\n",
    "    print(key,value)"
   ]
  },
  {
   "cell_type": "code",
   "execution_count": 34,
   "id": "025f1f6f",
   "metadata": {},
   "outputs": [
    {
     "name": "stdout",
     "output_type": "stream",
     "text": [
      "9 7 5 3 1 "
     ]
    }
   ],
   "source": [
    "for i in range(9,0,-2):\n",
    "    print(i,end = \" \")"
   ]
  },
  {
   "cell_type": "code",
   "execution_count": 12,
   "id": "f2b31463",
   "metadata": {},
   "outputs": [
    {
     "name": "stdout",
     "output_type": "stream",
     "text": [
      "沒找到k\n"
     ]
    }
   ],
   "source": [
    "s = \"asxldjf;laszdjf\"\n",
    "for c  in s:\n",
    "    if c == \"k\":\n",
    "        print(\"找到k了\")\n",
    "        break\n",
    "else:\n",
    "    print(\"沒找到k\")"
   ]
  },
  {
   "cell_type": "code",
   "execution_count": 13,
   "id": "27554905",
   "metadata": {},
   "outputs": [
    {
     "name": "stdout",
     "output_type": "stream",
     "text": [
      "共有 5 個3\n"
     ]
    }
   ],
   "source": [
    "a = [[1,4,3,2],[5,3,6],[4,7,3,8,3],[8,3]]\n",
    "cnt = 0\n",
    "for s in a:\n",
    "    for n in s:\n",
    "        if n == 3:\n",
    "            cnt += 1\n",
    "print(\"共有\", cnt, \"個3\")"
   ]
  },
  {
   "cell_type": "code",
   "execution_count": 15,
   "id": "e4358c48",
   "metadata": {},
   "outputs": [
    {
     "name": "stdout",
     "output_type": "stream",
     "text": [
      "1x1= 1  2x1= 2  3x1= 3  4x1= 4  5x1= 5  6x1= 6  7x1= 7  8x1= 8  9x1= 9  \n",
      "1x2= 2  2x2= 4  3x2= 6  4x2= 8  5x2=10  6x2=12  7x2=14  8x2=16  9x2=18  \n",
      "1x3= 3  2x3= 6  3x3= 9  4x3=12  5x3=15  6x3=18  7x3=21  8x3=24  9x3=27  \n",
      "1x4= 4  2x4= 8  3x4=12  4x4=16  5x4=20  6x4=24  7x4=28  8x4=32  9x4=36  \n",
      "1x5= 5  2x5=10  3x5=15  4x5=20  5x5=25  6x5=30  7x5=35  8x5=40  9x5=45  \n",
      "1x6= 6  2x6=12  3x6=18  4x6=24  5x6=30  6x6=36  7x6=42  8x6=48  9x6=54  \n",
      "1x7= 7  2x7=14  3x7=21  4x7=28  5x7=35  6x7=42  7x7=49  8x7=56  9x7=63  \n",
      "1x8= 8  2x8=16  3x8=24  4x8=32  5x8=40  6x8=48  7x8=56  8x8=64  9x8=72  \n",
      "1x9= 9  2x9=18  3x9=27  4x9=36  5x9=45  6x9=54  7x9=63  8x9=72  9x9=81  \n"
     ]
    }
   ],
   "source": [
    "for i in range(1, 10):\n",
    "    for j in range(1, 10):\n",
    "        print(f\"{j}x{i}={j*i:2d}\",end = \"  \")\n",
    "    print()"
   ]
  },
  {
   "cell_type": "code",
   "execution_count": 17,
   "id": "7846ca40",
   "metadata": {},
   "outputs": [
    {
     "name": "stdout",
     "output_type": "stream",
     "text": [
      "22號-張天才\n",
      "23號-王子帥\n",
      "24號-陳美美\n"
     ]
    }
   ],
   "source": [
    "person = {22:(\"張\",\"天才\"),23:(\"王\",\"子帥\"),24:(\"陳\",\"美美\")}\n",
    "for person_id, (lastname, firstname) in person.items():\n",
    "    print(str(person_id) + \"號-\" + lastname + firstname)"
   ]
  },
  {
   "cell_type": "code",
   "execution_count": 19,
   "id": "d8cf2045",
   "metadata": {},
   "outputs": [
    {
     "name": "stdout",
     "output_type": "stream",
     "text": [
      "[(5, '紅茶'), (6, '咖啡'), (7, '果汁')]\n",
      "0 紅茶 1 咖啡 2 果汁 "
     ]
    }
   ],
   "source": [
    "drinks = (\"紅茶\", \"咖啡\", \"果汁\")\n",
    "print(list(enumerate(drinks,5)))\n",
    "for sn, drink in enumerate(drinks):\n",
    "    print(sn, drink, end = \" \")"
   ]
  },
  {
   "cell_type": "code",
   "execution_count": 20,
   "id": "e54f80a7",
   "metadata": {},
   "outputs": [
    {
     "name": "stdout",
     "output_type": "stream",
     "text": [
      "紅茶 35 元, 建議甜點:餅乾\n",
      "咖啡 50 元, 建議甜點:蛋糕\n",
      "果汁 65 元, 建議甜點:三明治\n"
     ]
    }
   ],
   "source": [
    "drinks = (\"紅茶\", \"咖啡\", \"果汁\")\n",
    "prices = (35, 50, 65)\n",
    "matches = (\"餅乾\", \"蛋糕\", \"三明治\", \"鬆餅\")\n",
    "\n",
    "for drink, price, match in zip(drinks, prices, matches):\n",
    "    print(drink, price, \"元, 建議甜點:\" + match)"
   ]
  },
  {
   "cell_type": "code",
   "execution_count": 22,
   "id": "54f7ea21",
   "metadata": {},
   "outputs": [
    {
     "name": "stdout",
     "output_type": "stream",
     "text": [
      "{1, 4, 9, 16, 25}\n",
      "{1: 1, 2: 4, 3: 9, 4: 16, 5: 25}\n"
     ]
    }
   ],
   "source": [
    "print({i ** 2 for i in range(1, 6)})\n",
    "print({i : i * i for i in range(1, 6)})"
   ]
  },
  {
   "cell_type": "code",
   "execution_count": 25,
   "id": "fe6c749b",
   "metadata": {},
   "outputs": [
    {
     "name": "stdout",
     "output_type": "stream",
     "text": [
      "<class 'generator'>\n",
      "(1, 4, 9, 16, 25)\n",
      "()\n"
     ]
    }
   ],
   "source": [
    "a = (i * i for i in range(1,6))\n",
    "print(type(a))\n",
    "print(tuple(a))\n",
    "print(tuple(a))"
   ]
  },
  {
   "cell_type": "code",
   "execution_count": 3,
   "id": "3db841af",
   "metadata": {},
   "outputs": [
    {
     "name": "stdout",
     "output_type": "stream",
     "text": [
      "<class 'range'>\n",
      "(0, 1, 2, 3, 4, 5)\n",
      "(0, 1, 2, 3, 4, 5)\n"
     ]
    }
   ],
   "source": [
    "a = range(6)\n",
    "print(type(a))\n",
    "print(tuple(a))\n",
    "print(tuple(a))"
   ]
  },
  {
   "cell_type": "code",
   "execution_count": 28,
   "id": "d6654b5b",
   "metadata": {},
   "outputs": [
    {
     "name": "stdout",
     "output_type": "stream",
     "text": [
      "[1, 2, 3, 5, 6, 7, 8, 9]\n",
      "[1, 2, 3, 5, 6, 7, 8, 9]\n"
     ]
    }
   ],
   "source": [
    "a = [[1, 2, 3], [4, 5, 6], [7, 8, 9]]\n",
    "print([e2 for e1 in a for e2 in e1 if e2 != 4])\n",
    "\n",
    "b = []\n",
    "for e1 in a:\n",
    "    for e2 in e1:\n",
    "        if e2 != 4:\n",
    "            b.append(e2)\n",
    "print(b)"
   ]
  },
  {
   "cell_type": "markdown",
   "id": "09d5bb2b",
   "metadata": {},
   "source": [
    "# 3-4例外處理"
   ]
  },
  {
   "cell_type": "code",
   "execution_count": 32,
   "id": "62f514a7",
   "metadata": {},
   "outputs": [
    {
     "name": "stdout",
     "output_type": "stream",
     "text": [
      "發生例外了!\n",
      "程式結束\n"
     ]
    }
   ],
   "source": [
    "s = \"a\"\n",
    "try:\n",
    "    i = int(s)\n",
    "    print(\"沒發生例外\")\n",
    "except:\n",
    "    print(\"發生例外了!\")\n",
    "print(\"程式結束\")"
   ]
  },
  {
   "cell_type": "code",
   "execution_count": 4,
   "id": "251dde97",
   "metadata": {},
   "outputs": [
    {
     "name": "stdout",
     "output_type": "stream",
     "text": [
      "請輸入100的除數: \n",
      "發生 ValueError 例外: could not convert string to float: ''\n",
      "進入下一迴圈\n",
      "請輸入100的除數: 5\n",
      "100 除 5 = 20.0\n",
      "程式正常結束\n"
     ]
    }
   ],
   "source": [
    "while True:\n",
    "    s = input(\"請輸入100的除數: \")\n",
    "    try:\n",
    "        i = 100 / float(s)\n",
    "        print(\"100 除\", s, \"=\", i)\n",
    "        break\n",
    "    except ValueError as e:\n",
    "        print(\"發生 ValueError 例外:\", e)\n",
    "    except ZeroDivisionError:\n",
    "        print(\"發生 ZeroDivisionError 例外\")\n",
    "    except:\n",
    "        print(\"其他例外\")\n",
    "    print(\"進入下一迴圈\")\n",
    "print(\"程式正常結束\")    "
   ]
  },
  {
   "cell_type": "code",
   "execution_count": 5,
   "id": "cf334bfa",
   "metadata": {},
   "outputs": [
    {
     "name": "stdout",
     "output_type": "stream",
     "text": [
      "請輸入100的除數: 5\n",
      "100 除 5 = 20.0\n",
      "你輸入的值是 5\n",
      "程式正常結束\n"
     ]
    }
   ],
   "source": [
    "while True:\n",
    "    s = input(\"請輸入100的除數: \")\n",
    "    try:\n",
    "        i = 100 / float(s)\n",
    "    except ValueError:\n",
    "        print(\"發生 ValueError 例外\")\n",
    "    else:\n",
    "        print(\"100 除\", s, \"=\", i)\n",
    "        break\n",
    "    finally:\n",
    "        print(\"你輸入的值是\", s)\n",
    "    print(\"進入下一迴圈\")\n",
    "print(\"程式正常結束\")"
   ]
  },
  {
   "cell_type": "markdown",
   "id": "c1c0edd7",
   "metadata": {},
   "source": [
    "# 補充學習"
   ]
  },
  {
   "cell_type": "code",
   "execution_count": 6,
   "id": "60105e46",
   "metadata": {},
   "outputs": [
    {
     "name": "stdout",
     "output_type": "stream",
     "text": [
      "{Hi,JJ.}\n"
     ]
    }
   ],
   "source": [
    "s = \"JJ\"\n",
    "print(f\"{{Hi,{'JJ'}.}}\")"
   ]
  },
  {
   "cell_type": "code",
   "execution_count": 7,
   "id": "b7a5be6f",
   "metadata": {},
   "outputs": [
    {
     "name": "stdout",
     "output_type": "stream",
     "text": [
      "2 和 3 相乘的結果是+6.0 \n",
      "2 和 3 相乘的結果是0+6.0\n",
      "2 和 3 相乘的結果是+6.0 \n",
      "2 和 3 相乘的結果是+ 6.0\n",
      "-$$$5\n"
     ]
    }
   ],
   "source": [
    "a,b = 2,3 \n",
    "print(f\"{a} 和 {b} 相乘的結果是{a * b:<+5.1f}\")\n",
    "print(f\"{a} 和 {b} 相乘的結果是{a * b:0>+5.1f}\")\n",
    "print(f\"{a} 和 {b} 相乘的結果是{a * b:^+5.1f}\")\n",
    "print(f\"{a} 和 {b} 相乘的結果是{a * b:=+5.1f}\")\n",
    "print(f\"{-5:$=5d}\")"
   ]
  },
  {
   "cell_type": "code",
   "execution_count": 33,
   "id": "e836659e",
   "metadata": {},
   "outputs": [
    {
     "name": "stdout",
     "output_type": "stream",
     "text": [
      "+2, 2\n",
      "+1, 2\n"
     ]
    }
   ],
   "source": [
    "print(f\"{2:+d},{2: d}\")\n",
    "print(f\"{0b0001:+d},{2: d}\")"
   ]
  },
  {
   "cell_type": "code",
   "execution_count": 36,
   "id": "d34cd117",
   "metadata": {},
   "outputs": [
    {
     "name": "stdout",
     "output_type": "stream",
     "text": [
      "059.20\n",
      "1,234,567\n"
     ]
    }
   ],
   "source": [
    "print(f\"{59.2:06.2f}\")\n",
    "print(f\"{1234567:,d}\")"
   ]
  },
  {
   "cell_type": "code",
   "execution_count": 12,
   "id": "955cd7f7",
   "metadata": {},
   "outputs": [
    {
     "name": "stdout",
     "output_type": "stream",
     "text": [
      "a  |  a| a \n",
      "9.877e-01\n",
      "+98.77%\n",
      "42,0b101010,0X2A\n"
     ]
    }
   ],
   "source": [
    "print(f\"{'a':<3}|{'a':>3}|{'a':^3}\")\n",
    "print(f\"{0.98765:.3e}\")\n",
    "print(f\"{0.98765:+.2%}\")\n",
    "print(f\"{42:d},{42:#b},{42:#X}\")"
   ]
  },
  {
   "cell_type": "code",
   "execution_count": 49,
   "id": "384e4f0b",
   "metadata": {},
   "outputs": [
    {
     "name": "stdout",
     "output_type": "stream",
     "text": [
      "1 + 2 = 3\n",
      "3 - 1 = 2\n",
      "3 - 1 = 2\n",
      "2,1\n"
     ]
    }
   ],
   "source": [
    "print(\"1 + {} = {}\".format(2, 3))\n",
    "print(\"{1} - 1 = {0}\".format(2, 3))\n",
    "print(\"{b} - 1 = {a}\".format(a = 2, b = 3))\n",
    "print(\"{0[1]},{0[0]}\".format((1,2)))"
   ]
  },
  {
   "cell_type": "code",
   "execution_count": 14,
   "id": "8805b597",
   "metadata": {},
   "outputs": [
    {
     "name": "stdout",
     "output_type": "stream",
     "text": [
      "a  |  a| a \n",
      "9.877e-01\n",
      "+98.77%\n",
      "42,101010,0X2A\n",
      "005\n"
     ]
    }
   ],
   "source": [
    "print(\"{0:<3}|{0:>3}|{0:^3}\".format(\"a\"))\n",
    "print(\"{:.3e}\".format(0.98765))\n",
    "print(\"{:+.2%}\".format(0.98765))\n",
    "print(\"{0:d},{0:b},{0:#X}\".format(42))\n",
    "print(format(5,\"03d\"))"
   ]
  },
  {
   "cell_type": "code",
   "execution_count": 57,
   "id": "5175d5f4",
   "metadata": {},
   "outputs": [
    {
     "name": "stdout",
     "output_type": "stream",
     "text": [
      "價格: 59.20\n"
     ]
    }
   ],
   "source": [
    "print(\"%s:%6.2f\" % (\"價格\", 59.2))"
   ]
  },
  {
   "cell_type": "code",
   "execution_count": 15,
   "id": "b82204e9",
   "metadata": {},
   "outputs": [
    {
     "name": "stdout",
     "output_type": "stream",
     "text": [
      "   可是\n",
      "可是   \n"
     ]
    }
   ],
   "source": [
    "print(\"%5s\" % (\"可是\"))\n",
    "print(f\"{'可是':5s}\")"
   ]
  }
 ],
 "metadata": {
  "kernelspec": {
   "display_name": "Python 3 (ipykernel)",
   "language": "python",
   "name": "python3"
  },
  "language_info": {
   "codemirror_mode": {
    "name": "ipython",
    "version": 3
   },
   "file_extension": ".py",
   "mimetype": "text/x-python",
   "name": "python",
   "nbconvert_exporter": "python",
   "pygments_lexer": "ipython3",
   "version": "3.10.9"
  }
 },
 "nbformat": 4,
 "nbformat_minor": 5
}
