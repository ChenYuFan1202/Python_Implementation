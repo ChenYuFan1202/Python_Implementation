{
 "cells": [
  {
   "cell_type": "code",
   "execution_count": 1,
   "id": "2163a5cd",
   "metadata": {},
   "outputs": [],
   "source": [
    "import pandas as pd\n",
    "import requests\n",
    "\n",
    "def get_price(url):\n",
    "    data = requests.get(url)\n",
    "    data_prices = data.json()[\"prices\"]\n",
    "    df = pd.DataFrame(data_prices)\n",
    "    df.columns = [\"datetime\", \"twd\"]\n",
    "    df[\"datetime\"] = pd.to_datetime(df[\"datetime\"], unit = \"ms\")\n",
    "    df.index = df[\"datetime\"]\n",
    "    return df"
   ]
  }
 ],
 "metadata": {
  "kernelspec": {
   "display_name": "Python 3 (ipykernel)",
   "language": "python",
   "name": "python3"
  },
  "language_info": {
   "codemirror_mode": {
    "name": "ipython",
    "version": 3
   },
   "file_extension": ".py",
   "mimetype": "text/x-python",
   "name": "python",
   "nbconvert_exporter": "python",
   "pygments_lexer": "ipython3",
   "version": "3.9.7"
  }
 },
 "nbformat": 4,
 "nbformat_minor": 5
}
