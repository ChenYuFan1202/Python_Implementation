{
 "cells": [
  {
   "cell_type": "code",
   "execution_count": 1,
   "id": "97b7aa83",
   "metadata": {
    "scrolled": true
   },
   "outputs": [
    {
     "name": "stdout",
     "output_type": "stream",
     "text": [
      "pygame 2.5.2 (SDL 2.28.3, Python 3.11.5)\n",
      "Hello from the pygame community. https://www.pygame.org/contribute.html\n"
     ]
    }
   ],
   "source": [
    "#  1-2-2  機器人的耳朵函式\n",
    "import speech_recognition as sr\n",
    "\n",
    "def bot_listen():\n",
    "    recong = sr.Recognizer()\n",
    "    with sr.Microphone() as source:\n",
    "        audioData = recong.listen(source)\n",
    "    try:\n",
    "        text = recong.recognize_google(audioData, language = \"zh-tw\")\n",
    "        return text\n",
    "    except:\n",
    "        return \"聽不懂\"\n",
    "    \n",
    "# 1-4-3 機器人的說話函式\n",
    "from gtts import gTTS\n",
    "from pygame import mixer\n",
    "import os\n",
    "\n",
    "mixer.init()\n",
    "if not os.path.isfile(\"tmp.mp3\"):\n",
    "    tts = gTTS(text = \"不重要的語音檔\", lang = \"zh-tw\")\n",
    "    tts.save(\"tmp.mp3\")\n",
    "    print(\"已產生不重要的語音檔 tmp.mp3\")\n",
    "#-----------------#\n",
    "def bot_speak(text, lang):\n",
    "    try:\n",
    "        mixer.music.load(\"tmp.mp3\")\n",
    "        tts = gTTS(text = text, lang = lang)\n",
    "        tts.save(\"speak.mp3\")\n",
    "        mixer.music.load(\"speak.mp3\")\n",
    "        mixer.music.play()\n",
    "        while (mixer.music.get_busy()):\n",
    "            continue\n",
    "    except:\n",
    "        print(\"播放音效失敗\")\n",
    "# \t1-6-3  抓取維基百科愛因斯坦網頁內的文章第一段\n",
    "\n",
    "from bs4 import BeautifulSoup as bs\n",
    "import requests\n",
    "\n",
    "def bot_get_wiki(keyword):\n",
    "    response = requests.get(\"https://zh.wikipedia.org/zh-tw/\" + keyword)\n",
    "    soup = bs(response.text, features = \"lxml\")\n",
    "    p_list = soup.find_all(\"p\")\n",
    "    for p in p_list:\n",
    "        if keyword in p.text[0: 10]:\n",
    "            return p.text\n",
    "            \n",
    "# 1-7-3 唸出常規表達式處理後的字串\n",
    "import re\n",
    "\n",
    "def bot_speak_re(sentence):\n",
    "    s1 = re.sub(r\"\\[[^\\]]*\\]\", \"\", sentence)\n",
    "    s1 = re.sub(r\"／.*?ⓘ\", \"\", s1)\n",
    "    print(s1)\n",
    "    en_list = re.findall(r\"[a-zA-Z ]+\", s1)\n",
    "    s2 = re.sub(r\"[a-zA-Z \\-]+\", \"@English@\", s1)\n",
    "    all_list = s2.split(\"@\")\n",
    "    index = 0\n",
    "    for text in all_list:\n",
    "        if text != \"English\":\n",
    "            bot_speak(text, \"zh-tw\")\n",
    "        else:\n",
    "            bot_speak(en_list[index], \"en\")\n",
    "            index += 1\n",
    "            \n",
    "# 1-8-3 對 Google 搜尋結果進行網路爬蟲\n",
    "from hanziconv import HanziConv\n",
    "\n",
    "def bot_get_google(question):\n",
    "    url = f\"https://www.google.com/search?q={question}+維基百科\"\n",
    "    headers = {\"User-Agent\": \"Mozilla/5.0 (Windows NT 10.0; Win64; x64) AppleWebKit/537.36 (KHTML, like Gecko) Chrome/122.0.0.0 Safari/537.36\"}\n",
    "    response = requests.get(url, headers = headers)\n",
    "    if response.status_code == 200:\n",
    "        soup = bs(response.text, features = \"lxml\")\n",
    "        wiki_url = bs.find(\"cite\")\n",
    "        kwd = wiki_url.text.split(\"›\")[-1].strip() # .replace(\" \",\"\")也可以\n",
    "        kwd_tra = HanziConv.toTraditional(kwd)\n",
    "        return kwd_tra\n",
    "    else:\n",
    "        print(\"請求失敗\")"
   ]
  }
 ],
 "metadata": {
  "kernelspec": {
   "display_name": "Python 3 (ipykernel)",
   "language": "python",
   "name": "python3"
  },
  "language_info": {
   "codemirror_mode": {
    "name": "ipython",
    "version": 3
   },
   "file_extension": ".py",
   "mimetype": "text/x-python",
   "name": "python",
   "nbconvert_exporter": "python",
   "pygments_lexer": "ipython3",
   "version": "undefined.undefined.undefined"
  }
 },
 "nbformat": 4,
 "nbformat_minor": 5
}
