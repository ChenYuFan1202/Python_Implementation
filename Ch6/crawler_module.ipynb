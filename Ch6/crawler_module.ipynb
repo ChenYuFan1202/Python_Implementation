{
 "cells": [
  {
   "cell_type": "code",
   "execution_count": 1,
   "id": "dcba545d",
   "metadata": {},
   "outputs": [],
   "source": [
    "import requests\n",
    "import pandas as pd\n",
    "from io import StringIO\n",
    "import datetime\n",
    "\n",
    "def get_setting():\n",
    "    res = []\n",
    "    try:\n",
    "        with open(\"stock.txt\") as f:\n",
    "            slist = f.readlines()\n",
    "            print(\"讀入: \", slist)\n",
    "            a, b, c = slist[0].split(\",\")\n",
    "            res = [a, b, c]\n",
    "    except:\n",
    "        print(\"stock.txt 讀取錯誤\")\n",
    "    return res\n",
    "\n",
    "def get_data():\n",
    "    data = get_setting()\n",
    "    dates = []\n",
    "    start_date = datetime.datetime.strptime(data[1], \"%Y%m%d\")\n",
    "    end_date = datetime.datetime.strptime(data[2], \"%Y%m%d\")\n",
    "    for daynumber in range((end_date - start_date).days + 1):\n",
    "        date = (start_date + datetime.timedelta(days = daynumber))\n",
    "        if date.weekday() < 6:\n",
    "            dates.append(date.strftime(\"%Y%m%d\"))\n",
    "    return data[0], dates\n",
    "\n",
    "def crawl_data(date, symbol):\n",
    "    r = requests.get(\"https://www.twse.com.tw/exchangeReport/MI_INDEX?response=csv&date=\" + date + \"&type=ALL\")\n",
    "    r_text = [i for i in r.text.split(\"\\n\") if len(i.split('\",')) == 17 and i[0] != \"=\"]\n",
    "    df = pd.read_csv(StringIO(\"\\n\".join(r_text)), header = 0)\n",
    "    \n",
    "    df = df.drop(columns = \"Unnamed: 16\")\n",
    "    filter_df = df[df[\"證券代號\"] == symbol]\n",
    "    filter_df.insert(0, \"日期\", date)\n",
    "    df_columns = filter_df.columns\n",
    "    return list(filter_df.iloc[0]), filter_df.columns"
   ]
  }
 ],
 "metadata": {
  "kernelspec": {
   "display_name": "Python 3 (ipykernel)",
   "language": "python",
   "name": "python3"
  },
  "language_info": {
   "codemirror_mode": {
    "name": "ipython",
    "version": 3
   },
   "file_extension": ".py",
   "mimetype": "text/x-python",
   "name": "python",
   "nbconvert_exporter": "python",
   "pygments_lexer": "ipython3",
   "version": "3.9.7"
  }
 },
 "nbformat": 4,
 "nbformat_minor": 5
}
