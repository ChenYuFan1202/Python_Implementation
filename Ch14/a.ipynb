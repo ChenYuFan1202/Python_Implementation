{
 "cells": [
  {
   "cell_type": "markdown",
   "metadata": {},
   "source": [
    "# 14-1 Flask框架"
   ]
  },
  {
   "cell_type": "code",
   "execution_count": 1,
   "metadata": {},
   "outputs": [],
   "source": [
    "from flask import Flask\n",
    "\n",
    "app = Flask(__name__)\n",
    "\n",
    "@app.route(\"/\")\n",
    "def hello():\n",
    "    return \"Hello World!\""
   ]
  },
  {
   "cell_type": "code",
   "execution_count": 1,
   "metadata": {},
   "outputs": [
    {
     "name": "stdout",
     "output_type": "stream",
     "text": [
      " * Serving Flask app \"__main__\" (lazy loading)\n",
      " * Environment: production\n",
      "\u001b[31m   WARNING: This is a development server. Do not use it in a production deployment.\u001b[0m\n",
      "\u001b[2m   Use a production WSGI server instead.\u001b[0m\n",
      " * Debug mode: off\n"
     ]
    },
    {
     "name": "stderr",
     "output_type": "stream",
     "text": [
      " * Running on http://127.0.0.1:5000/ (Press CTRL+C to quit)\n",
      "127.0.0.1 - - [16/Jan/2024 14:38:26] \"GET / HTTP/1.1\" 200 -\n"
     ]
    },
    {
     "name": "stdout",
     "output_type": "stream",
     "text": [
      "網站已結束\n"
     ]
    }
   ],
   "source": [
    "from flask import Flask\n",
    "\n",
    "app = Flask(__name__)\n",
    "\n",
    "@app.route(\"/\")\n",
    "def hello():\n",
    "    return \"Hello Falsk!\"\n",
    "\n",
    "if __name__ == \"__main__\":\n",
    "    app.run()\n",
    "    print(\"網站已結束\")"
   ]
  },
  {
   "cell_type": "code",
   "execution_count": 8,
   "metadata": {},
   "outputs": [
    {
     "name": "stdout",
     "output_type": "stream",
     "text": [
      " * Serving Flask app \"__main__\" (lazy loading)\n",
      " * Environment: production\n",
      "\u001b[31m   WARNING: This is a development server. Do not use it in a production deployment.\u001b[0m\n",
      "\u001b[2m   Use a production WSGI server instead.\u001b[0m\n",
      " * Debug mode: off\n"
     ]
    },
    {
     "name": "stderr",
     "output_type": "stream",
     "text": [
      " * Running on http://127.0.0.1:5000/ (Press CTRL+C to quit)\n",
      "127.0.0.1 - - [15/Jan/2024 08:05:20] \"GET / HTTP/1.1\" 200 -\n",
      "127.0.0.1 - - [15/Jan/2024 08:05:25] \"GET /new HTTP/1.1\" 200 -\n"
     ]
    }
   ],
   "source": [
    "from flask import Flask\n",
    "\n",
    "app = Flask(__name__)\n",
    "@app.route(\"/\")\n",
    "def hello():\n",
    "    return \"Hello Flask!\"\n",
    "\n",
    "@app.route(\"/new\", methods = [\"GET\"])\n",
    "def name():\n",
    "    return \"Mary\"\n",
    "\n",
    "if __name__ == \"__main__\":\n",
    "    app.run()"
   ]
  },
  {
   "cell_type": "markdown",
   "metadata": {},
   "source": [
    "# 14-2 網頁模板（Template）"
   ]
  },
  {
   "cell_type": "code",
   "execution_count": 2,
   "metadata": {},
   "outputs": [
    {
     "name": "stdout",
     "output_type": "stream",
     "text": [
      " * Serving Flask app \"__main__\" (lazy loading)\n",
      " * Environment: production\n",
      "\u001b[31m   WARNING: This is a development server. Do not use it in a production deployment.\u001b[0m\n",
      "\u001b[2m   Use a production WSGI server instead.\u001b[0m\n",
      " * Debug mode: off\n"
     ]
    },
    {
     "name": "stderr",
     "output_type": "stream",
     "text": [
      " * Running on http://127.0.0.1:5000/ (Press CTRL+C to quit)\n",
      "127.0.0.1 - - [20/Jan/2024 17:28:49] \"GET / HTTP/1.1\" 200 -\n"
     ]
    }
   ],
   "source": [
    "from flask import Flask\n",
    "from flask import render_template\n",
    "\n",
    "app = Flask(__name__)\n",
    "\n",
    "@app.route(\"/\")\n",
    "def index():\n",
    "    return render_template(\"index.html\")\n",
    "\n",
    "if __name__ == \"__main__\":\n",
    "    app.run()"
   ]
  },
  {
   "cell_type": "code",
   "execution_count": 1,
   "metadata": {},
   "outputs": [
    {
     "name": "stdout",
     "output_type": "stream",
     "text": [
      " * Serving Flask app \"__main__\" (lazy loading)\n",
      " * Environment: production\n",
      "\u001b[31m   WARNING: This is a development server. Do not use it in a production deployment.\u001b[0m\n",
      "\u001b[2m   Use a production WSGI server instead.\u001b[0m\n",
      " * Debug mode: off\n"
     ]
    },
    {
     "name": "stderr",
     "output_type": "stream",
     "text": [
      " * Running on http://127.0.0.1:5000/ (Press CTRL+C to quit)\n"
     ]
    }
   ],
   "source": [
    "from flask import Flask\n",
    "from flask import render_template\n",
    "\n",
    "app = Flask(__name__)\n",
    "\n",
    "# name = \"范振宇\"\n",
    "\n",
    "@app.route(\"/\")\n",
    "def index():\n",
    "    return render_template(\"index2.html\", Name = \"旗標科技\") # 用name也可以\n",
    "\n",
    "if __name__ == \"__main__\":\n",
    "    app.run(debug = False)"
   ]
  },
  {
   "cell_type": "code",
   "execution_count": 3,
   "metadata": {},
   "outputs": [
    {
     "name": "stdout",
     "output_type": "stream",
     "text": [
      " * Serving Flask app \"__main__\" (lazy loading)\n",
      " * Environment: production\n",
      "\u001b[31m   WARNING: This is a development server. Do not use it in a production deployment.\u001b[0m\n",
      "\u001b[2m   Use a production WSGI server instead.\u001b[0m\n",
      " * Debug mode: off\n"
     ]
    },
    {
     "name": "stderr",
     "output_type": "stream",
     "text": [
      " * Running on http://127.0.0.1:5000/ (Press CTRL+C to quit)\n",
      "127.0.0.1 - - [21/Jan/2024 17:05:40] \"GET / HTTP/1.1\" 200 -\n"
     ]
    }
   ],
   "source": [
    "from flask import Flask, render_template\n",
    "\n",
    "app = Flask(__name__)\n",
    "\n",
    "@app.route(\"/\")\n",
    "def index():\n",
    "    text = [0, 1, 2, 3]\n",
    "    return render_template(\"index3.html\", text = text)\n",
    "\n",
    "if __name__ == \"__main__\":\n",
    "    app.run()"
   ]
  },
  {
   "cell_type": "code",
   "execution_count": 5,
   "metadata": {},
   "outputs": [
    {
     "name": "stdout",
     "output_type": "stream",
     "text": [
      " * Serving Flask app \"__main__\" (lazy loading)\n",
      " * Environment: production\n",
      "\u001b[31m   WARNING: This is a development server. Do not use it in a production deployment.\u001b[0m\n",
      "\u001b[2m   Use a production WSGI server instead.\u001b[0m\n",
      " * Debug mode: off\n"
     ]
    },
    {
     "name": "stderr",
     "output_type": "stream",
     "text": [
      " * Running on http://127.0.0.1:5000/ (Press CTRL+C to quit)\n",
      "127.0.0.1 - - [21/Jan/2024 17:09:27] \"GET / HTTP/1.1\" 200 -\n"
     ]
    }
   ],
   "source": [
    "from flask import Flask, render_template\n",
    "\n",
    "app = Flask(__name__)\n",
    "\n",
    "@app.route(\"/\")\n",
    "def index():\n",
    "    introduction = [\"旗標科技\", \"台北市中正區 杭州南路一段15-1號19樓\", \"service@flag.com.tw\"]\n",
    "    return render_template(\"index4.html\", introduction = introduction)\n",
    "\n",
    "if __name__ == \"__main__\":\n",
    "    app.run()"
   ]
  },
  {
   "cell_type": "markdown",
   "metadata": {},
   "source": [
    "# 14-3 WTForms表單框架"
   ]
  },
  {
   "cell_type": "code",
   "execution_count": 1,
   "metadata": {},
   "outputs": [
    {
     "name": "stdout",
     "output_type": "stream",
     "text": [
      " * Serving Flask app \"__main__\" (lazy loading)\n",
      " * Environment: production\n",
      "\u001b[31m   WARNING: This is a development server. Do not use it in a production deployment.\u001b[0m\n",
      "\u001b[2m   Use a production WSGI server instead.\u001b[0m\n",
      " * Debug mode: off\n"
     ]
    },
    {
     "name": "stderr",
     "output_type": "stream",
     "text": [
      " * Running on http://127.0.0.1:5000/ (Press CTRL+C to quit)\n",
      "127.0.0.1 - - [22/Jan/2024 23:18:42] \"GET / HTTP/1.1\" 200 -\n",
      "127.0.0.1 - - [22/Jan/2024 23:18:42] \"GET /favicon.ico HTTP/1.1\" 404 -\n"
     ]
    }
   ],
   "source": [
    "from flask import Flask, render_template, request\n",
    "from wtforms import Form, StringField, validators\n",
    "\n",
    "app = Flask(__name__)\n",
    "\n",
    "class ReviewForm(Form):\n",
    "    name = StringField(\"請輸入名字: \", validators = [validators.DataRequired()])\n",
    "\n",
    "@app.route(\"/\")\n",
    "def index():\n",
    "    form = ReviewForm()\n",
    "    return render_template(\"index5.html\", form = form)\n",
    "\n",
    "@app.route(\"/results\", methods = [\"POST\"])\n",
    "def results():\n",
    "    form = ReviewForm(request.form)\n",
    "    if request.method == \"POST\" and form.validate():\n",
    "        name = request.form[\"name\"]\n",
    "        return render_template(\"results.html\", name = name)\n",
    "    return render_template(\"index5.html\", form = form) # 好像沒影響?\n",
    "\n",
    "if __name__ == \"__main__\":\n",
    "    app.run()"
   ]
  },
  {
   "cell_type": "markdown",
   "metadata": {},
   "source": [
    "# 14-4 SQLite資料庫"
   ]
  },
  {
   "cell_type": "code",
   "execution_count": 8,
   "metadata": {},
   "outputs": [
    {
     "data": {
      "text/plain": [
       "<sqlite3.Cursor at 0x24190d1f880>"
      ]
     },
     "execution_count": 8,
     "metadata": {},
     "output_type": "execute_result"
    }
   ],
   "source": [
    "import sqlite3\n",
    "\n",
    "connect = sqlite3.connect(\"database.sqlite\")\n",
    "\n",
    "create_sql = \"\"\"create table if not exists message_board(\n",
    "'title' TEXT ,'username' TEXT, \"email\" TEXT, \"message_text\" TEXT, \"date\" TEXT\n",
    ")\"\"\"\n",
    "connect.execute(create_sql)"
   ]
  },
  {
   "cell_type": "code",
   "execution_count": 12,
   "metadata": {},
   "outputs": [],
   "source": [
    "import sqlite3\n",
    "\n",
    "connect = sqlite3.connect(\"database.sqlite\")\n",
    "connect.execute(\"\"\"INSERT INTO message_board(\n",
    "                 title, username, email, message_text, date) VALUES(\n",
    "                ?, ?, ?, ?, DATETIME('now'))\"\"\", \n",
    "                (\"我\", \"真\", \"的\", \"不知道\")) # 這行為要填入的值\n",
    "connect.commit()\n",
    "connect.close()"
   ]
  },
  {
   "cell_type": "markdown",
   "metadata": {},
   "source": [
    "# 14-5 實戰：使用Flask框架建立網頁留言板"
   ]
  },
  {
   "cell_type": "code",
   "execution_count": 87,
   "metadata": {},
   "outputs": [],
   "source": [
    "from wtforms import Form, StringField, TextAreaField, validators\n",
    "from wtforms.fields import EmailField\n",
    "import sqlite3\n",
    "\n",
    "def sqlite_insert(title, username, email, message_text):\n",
    "    connect = sqlite3.connect(\"database.sqlite\")\n",
    "    connect.execute(\"\"\"INSERT INTO message_board(title, username, \n",
    "                    email, message_text, date) VALUES(\n",
    "                    ?, ?, ?, ?, DATETIME('now'))\"\"\", \n",
    "                    (title, username, email, message_text))\n",
    "    connect.commit()\n",
    "    connect.close()\n",
    "\n",
    "def sqlite_read():\n",
    "    conn = sqlite3.connect(\"database.sqlite\")\n",
    "    create_sql = \"\"\"create table if not exists message_board(\n",
    "                    'title' TEXT, 'username' TEXT, 'email' TEXT, \n",
    "                    'message_text' TEXT, 'date' TEXT)\"\"\"\n",
    "    conn.execute(create_sql)\n",
    "    read_sql = \"select * from message_board\"\n",
    "    read_data = conn.execute(read_sql)\n",
    "    dataset = read_data.fetchall()\n",
    "    conn.close()\n",
    "    return list(dataset)\n",
    "\n",
    "class ReviewForm(Form):\n",
    "    title = StringField(\"標題:\", validators = [validators.DataRequired()])\n",
    "    username = StringField(\"作者:\", validators = [validators.DataRequired()])\n",
    "    email = EmailField(\"email:\", validators = [validators.DataRequired()])\n",
    "    message_text = TextAreaField(\"留言:\", validators = [validators.DataRequired()])\n",
    "    \n"
   ]
  },
  {
   "cell_type": "code",
   "execution_count": 89,
   "metadata": {},
   "outputs": [
    {
     "name": "stdout",
     "output_type": "stream",
     "text": [
      " * Serving Flask app \"__main__\" (lazy loading)\n",
      " * Environment: production\n",
      "\u001b[31m   WARNING: This is a development server. Do not use it in a production deployment.\u001b[0m\n",
      "\u001b[2m   Use a production WSGI server instead.\u001b[0m\n",
      " * Debug mode: off\n"
     ]
    },
    {
     "name": "stderr",
     "output_type": "stream",
     "text": [
      " * Running on http://127.0.0.1:5000/ (Press CTRL+C to quit)\n",
      "127.0.0.1 - - [24/Feb/2024 20:38:32] \"GET / HTTP/1.1\" 200 -\n",
      "127.0.0.1 - - [24/Feb/2024 20:38:32] \"GET /favicon.ico HTTP/1.1\" 404 -\n",
      "127.0.0.1 - - [24/Feb/2024 20:38:57] \"POST / HTTP/1.1\" 302 -\n",
      "127.0.0.1 - - [24/Feb/2024 20:38:57] \"GET / HTTP/1.1\" 200 -\n"
     ]
    }
   ],
   "source": [
    "from flask import Flask, render_template, request, url_for, redirect\n",
    "from wtforms import Form, StringField, TextAreaField, validators\n",
    "from wtforms.fields import EmailField\n",
    "import sqlite3\n",
    "\n",
    "def sqlite_insert(title, username, email, message_text):\n",
    "    connect = sqlite3.connect(\"database.sqlite\")\n",
    "    connect.execute(\"INSERT INTO message_board(title, username, email, message_text, date) VALUES(?, ?, ?, ?, DATETIME('now'))\", \n",
    "                    (title, username, email, message_text))\n",
    "    connect.commit()\n",
    "    connect.close()\n",
    "\n",
    "def sqlite_read():\n",
    "    conn = sqlite3.connect(\"database.sqlite\")\n",
    "    create_sql = \"\"\"create table if not exists message_board(\n",
    "                    'title' TEXT, 'username' TEXT, 'email' TEXT, \n",
    "                    'message_text' TEXT, 'date' TEXT)\"\"\"\n",
    "    conn.execute(create_sql)\n",
    "    read_sql = \"select * from message_board\"\n",
    "    read_data = conn.execute(read_sql)\n",
    "    dataset = read_data.fetchall()\n",
    "    conn.close()\n",
    "    return list(dataset)\n",
    "\n",
    "class ReviewForm(Form):\n",
    "    title = StringField(\"標題:\", validators = [validators.DataRequired()])\n",
    "    username = StringField(\"作者:\", validators = [validators.DataRequired()])\n",
    "    email = EmailField(\"email:\", validators = [validators.DataRequired()])\n",
    "    message_text = TextAreaField(\"留言:\", validators = [validators.DataRequired()])\n",
    "\n",
    "app = Flask(__name__)\n",
    "\n",
    "@app.route(\"/\", methods = [\"GET\", \"POST\"])\n",
    "def index():\n",
    "    if request.method == \"GET\":\n",
    "        form = ReviewForm()\n",
    "        says = sqlite_read()\n",
    "        return render_template(\"index6.html\", says = says, form = form)\n",
    "    else:\n",
    "        form = ReviewForm(request.form)\n",
    "        if request.method == \"POST\" and form.validate():\n",
    "            title = request.form[\"title\"]\n",
    "            username = request.form[\"username\"]\n",
    "            email = request.form[\"email\"]\n",
    "            message_text = request.form[\"message_text\"]\n",
    "            sqlite_insert(title, username, email, message_text)\n",
    "        return redirect(url_for(\"index\"))\n",
    "\n",
    "if __name__ == \"__main__\":\n",
    "    app.run()"
   ]
  },
  {
   "cell_type": "markdown",
   "metadata": {},
   "source": [
    "# 14-6 實戰：使用Flask框架建立假新聞識別服務"
   ]
  },
  {
   "cell_type": "code",
   "execution_count": 1,
   "metadata": {},
   "outputs": [
    {
     "name": "stderr",
     "output_type": "stream",
     "text": [
      "c:\\Users\\Vick\\anaconda3\\lib\\site-packages\\scipy\\__init__.py:146: UserWarning: A NumPy version >=1.16.5 and <1.23.0 is required for this version of SciPy (detected version 1.26.2\n",
      "  warnings.warn(f\"A NumPy version >={np_minversion} and <{np_maxversion}\"\n"
     ]
    },
    {
     "name": "stdout",
     "output_type": "stream",
     "text": [
      " * Serving Flask app \"__main__\" (lazy loading)\n",
      " * Environment: production\n",
      "\u001b[31m   WARNING: This is a development server. Do not use it in a production deployment.\u001b[0m\n",
      "\u001b[2m   Use a production WSGI server instead.\u001b[0m\n",
      " * Debug mode: off\n"
     ]
    },
    {
     "name": "stderr",
     "output_type": "stream",
     "text": [
      " * Running on http://127.0.0.1:5000/ (Press CTRL+C to quit)\n",
      "127.0.0.1 - - [26/Feb/2024 19:57:21] \"GET / HTTP/1.1\" 200 -\n",
      "127.0.0.1 - - [26/Feb/2024 19:57:26] \"POST /results HTTP/1.1\" 200 -\n"
     ]
    },
    {
     "name": "stdout",
     "output_type": "stream",
     "text": [
      "[[0.02962477 0.97037523]]\n"
     ]
    }
   ],
   "source": [
    "from flask import Flask, render_template, request\n",
    "from wtforms import Form, TextAreaField, validators\n",
    "from sklearn.feature_extraction.text import CountVectorizer\n",
    "import os\n",
    "import joblib\n",
    "\n",
    "cur_dir = os.path.dirname(\"__file__\") # 要\"\"\n",
    "count_vectorizer = joblib.load(open(os.path.join(cur_dir, \"count_vectorizer.pkl\"), \"rb\"))\n",
    "# count_vectorizer\n",
    "classifier = joblib.load(open(os.path.join(cur_dir, \"classifier.pkl\"), \"rb\"))\n",
    "# classifier\n",
    "\n",
    "def classify(document):\n",
    "    label = {0: \"reliable\", 1: \"unreliable\"}\n",
    "    document_text = count_vectorizer.transform([document])\n",
    "    y = classifier.predict(document_text)[0]\n",
    "    # print(classifier.predict_proba(document_text)) # 會出現兩個數值，左邊是reliable，右邊是unreliable\n",
    "    proba = classifier.predict_proba(document_text).max()\n",
    "    return label[y], proba\n",
    "\n",
    "app = Flask(__name__)\n",
    "\n",
    "class ReviewForm(Form):\n",
    "    review = TextAreaField(\"\", [validators.DataRequired(), validators.length(min = 15)])\n",
    "\n",
    "@app.route(\"/\")\n",
    "def index():\n",
    "    form = ReviewForm()\n",
    "    return render_template(\"reviewform.html\", form = form)\n",
    "\n",
    "@app.route(\"/results\", methods = [\"POST\"])\n",
    "def results():\n",
    "    form = ReviewForm(request.form)\n",
    "    if request.method == \"POST\" and form.validate():\n",
    "        review = request.form[\"review\"]\n",
    "        label, proba = classify(review)\n",
    "        return render_template(\"news_results.html\", content = review, \n",
    "                               prediction = label, probability = round(proba * 100, 2))\n",
    "    return render_template(\"reviewform.html\", form = form)\n",
    "\n",
    "if __name__ == \"__main__\":\n",
    "    app.run()"
   ]
  },
  {
   "cell_type": "markdown",
   "metadata": {},
   "source": [
    "## 多益題目，先試試看"
   ]
  },
  {
   "cell_type": "code",
   "execution_count": 88,
   "metadata": {},
   "outputs": [
    {
     "name": "stdout",
     "output_type": "stream",
     "text": [
      "Part1: [2, 5, 6]\n",
      "Part2: [8, 10, 11, 22, 31]\n",
      "Part3: [53]\n",
      "Part4: [77]\n",
      "Part5: [117, 119, 123, 125, 129]\n",
      "Part6: [131]\n",
      "Part7: [[162], [181], [186]]\n"
     ]
    }
   ],
   "source": [
    "# from random import randint\n",
    "from random import sample # sample會回傳list\n",
    "\n",
    "Questions = [[] for _ in range(7)]\n",
    "# Questions\n",
    "\n",
    "for i in range(len(Questions)):\n",
    "    # print(Questions[i])\n",
    "    if i == 0:\n",
    "        Questions[i].append(sample(range(1, 7), 3))\n",
    "        Questions[i][0].sort()\n",
    "    if i == 1:\n",
    "        Questions[i].append(sample(range(7, 32), 5))\n",
    "        Questions[i][0].sort()\n",
    "    if i == 2:\n",
    "        Questions[i].append(sample(range(32, 71, 3), 1))\n",
    "        Questions[i][0].sort()\n",
    "    if i == 3:\n",
    "        Questions[i].append(sample(range(71, 101, 3), 1))\n",
    "        Questions[i][0].sort()\n",
    "    if i == 4:\n",
    "        Questions[i].append(sample(range(101, 131), 5))\n",
    "        Questions[i][0].sort()\n",
    "    if i == 5:\n",
    "        Questions[i].append(sample(range(131, 147, 4), 1))\n",
    "        Questions[i][0].sort()\n",
    "    if i == 6:\n",
    "        Questions[i].append(sample(range(147, 176), 1))\n",
    "        Questions[i].append(sample(range(176, 186, 5), 1))\n",
    "        Questions[i].append(sample(range(186, 201, 5), 1))\n",
    "        Questions[i][0].sort()\n",
    "\n",
    "for index in range(len(Questions)):\n",
    "    if index == 6:\n",
    "        print(\"Part{}: {}\".format(index + 1, Questions[index]))\n",
    "    else:\n",
    "        print(\"Part{}: {}\".format(index + 1, Questions[index][0]))"
   ]
  },
  {
   "cell_type": "code",
   "execution_count": 5,
   "metadata": {},
   "outputs": [
    {
     "data": {
      "text/plain": [
       "'<h1>hello world</h1>'"
      ]
     },
     "execution_count": 5,
     "metadata": {},
     "output_type": "execute_result"
    }
   ],
   "source": [
    "import requests\n",
    "\n",
    "response = requests.post(\"http://127.0.0.1:5000/\")\n",
    "response.text"
   ]
  },
  {
   "cell_type": "code",
   "execution_count": 7,
   "metadata": {},
   "outputs": [
    {
     "name": "stdout",
     "output_type": "stream",
     "text": [
      "<h1>hello world</h1>\n"
     ]
    }
   ],
   "source": [
    "import requests\n",
    "\n",
    "data = {\"name\": \"vick\", \"age\": 21}\n",
    "response = requests.post(\"http://127.0.0.1:5000/\", data = data)\n",
    "print(response.text)"
   ]
  }
 ],
 "metadata": {
  "kernelspec": {
   "display_name": "base",
   "language": "python",
   "name": "python3"
  },
  "language_info": {
   "codemirror_mode": {
    "name": "ipython",
    "version": 3
   },
   "file_extension": ".py",
   "mimetype": "text/x-python",
   "name": "python",
   "nbconvert_exporter": "python",
   "pygments_lexer": "ipython3",
   "version": "3.9.7"
  }
 },
 "nbformat": 4,
 "nbformat_minor": 2
}
