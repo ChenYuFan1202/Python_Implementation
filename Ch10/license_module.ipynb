{
 "cells": [
  {
   "cell_type": "code",
   "execution_count": 1,
   "id": "28d3fa1a",
   "metadata": {},
   "outputs": [
    {
     "name": "stdout",
     "output_type": "stream",
     "text": [
      "status: Start\n",
      "status:  succeeded\n",
      "車牌:　 9C-9508\n"
     ]
    }
   ],
   "source": [
    "import requests\n",
    "import cv2\n",
    "import time\n",
    "import re\n",
    "\n",
    "recog_url = \"https://vike.cognitiveservices.azure.com/vision/v3.2/read/analyze\"\n",
    "key = \"4f4167ec50fe45b2a4636f903def1a40\"\n",
    "headers = {\"Ocp-Apim-Subscription-Key\" : key}\n",
    "headers_stream = {\"Ocp-Apim-Subscription-Key\" : key, \"Content-Type\" : \"application/octet-stream\"}\n",
    "\n",
    "def get_license(img):\n",
    "    img_encode = cv2.imencode(\".jpg\", img)[1]\n",
    "    img_bytes = img_encode.tobytes()\n",
    "    r1 = requests.post(recog_url, headers = headers_stream, data = img_bytes)\n",
    "    if r1.status_code != 202:\n",
    "        print(r1.json())\n",
    "        return \"請求失敗\"\n",
    "    result_url = r1.headers[\"Operation-Location\"]\n",
    "    r2 = requests.get(result_url, headers = headers)\n",
    "    while r2.status_code == 200 and r2.json()[\"status\"] != \"succeeded\":\n",
    "        r2 = requests.get(result_url, headers = headers)\n",
    "        time.sleep(0.5)\n",
    "        print(\"status: \", r2.json()[\"status\"])\n",
    "    carcard = \"\"\n",
    "    lines = r2.json()[\"analyzeResult\"][\"readResults\"][0][\"lines\"]\n",
    "    for i in range(len(lines)):\n",
    "        text = lines[i][\"text\"]\n",
    "        m = re.match(r\"^[\\w]{2,4}[-. ][\\w]{2,4}$\", text)\n",
    "        if m != None:\n",
    "            carcard = m.group()\n",
    "            return carcard\n",
    "    if carcard == \"\":\n",
    "        return \"找不到車牌\"\n",
    "    \n",
    "def main():\n",
    "    try:\n",
    "        img = cv2.imread(\"car.jpg\")\n",
    "        print(\"status: Start\")\n",
    "        text = get_license(img)\n",
    "        print(\"車牌:　\", text)\n",
    "        cv2.imshow(\"Frame\", img)\n",
    "        cv2.waitKey(0)\n",
    "        cv2.destroyAllWindows()\n",
    "    except:\n",
    "        print(\"讀取圖片失敗\")\n",
    "        \n",
    "if __name__ == \"__main__\":\n",
    "    main()"
   ]
  }
 ],
 "metadata": {
  "kernelspec": {
   "display_name": "Python 3 (ipykernel)",
   "language": "python",
   "name": "python3"
  },
  "language_info": {
   "codemirror_mode": {
    "name": "ipython",
    "version": 3
   },
   "file_extension": ".py",
   "mimetype": "text/x-python",
   "name": "python",
   "nbconvert_exporter": "python",
   "pygments_lexer": "ipython3",
   "version": "3.9.7"
  }
 },
 "nbformat": 4,
 "nbformat_minor": 5
}
