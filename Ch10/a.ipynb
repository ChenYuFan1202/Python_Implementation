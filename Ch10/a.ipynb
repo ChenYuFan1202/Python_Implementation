{
 "cells": [
  {
   "cell_type": "markdown",
   "id": "a93d5f86",
   "metadata": {},
   "source": [
    "# 10-1OpenCV套件：操作影像"
   ]
  },
  {
   "cell_type": "code",
   "execution_count": 1,
   "id": "11a0a9eb",
   "metadata": {},
   "outputs": [],
   "source": [
    "import cv2\n",
    "\n",
    "cv2.namedWindow(\"Frame\", cv2.WINDOW_FULLSCREEN)\n",
    "cv2.destroyWindow(\"Frame\")"
   ]
  },
  {
   "cell_type": "code",
   "execution_count": 2,
   "id": "0c89d995",
   "metadata": {},
   "outputs": [
    {
     "name": "stdout",
     "output_type": "stream",
     "text": [
      "97\n",
      "saved\n"
     ]
    }
   ],
   "source": [
    "import cv2\n",
    "\n",
    "try:\n",
    "    img = cv2.imread(\"car.jpg\")\n",
    "    img_small = cv2.resize(img, (300, 100))\n",
    "    cv2.imshow(\"Frame1\", img)\n",
    "    cv2.imshow(\"Frmae2\", img_small)\n",
    "    k = cv2.waitKey(0)#會將程式暫停\n",
    "    print(k)\n",
    "    cv2.destroyAllWindows()\n",
    "    try:\n",
    "        cv2.imwrite(\"small.jpg\", img_small)#print可以回傳bool\n",
    "        print(\"saved\")\n",
    "    except:\n",
    "        print(\"Error: write\")\n",
    "except:\n",
    "    print(\"Error: read\")"
   ]
  },
  {
   "cell_type": "code",
   "execution_count": 11,
   "id": "cb8da73d",
   "metadata": {},
   "outputs": [
    {
     "name": "stdout",
     "output_type": "stream",
     "text": [
      "113\n"
     ]
    }
   ],
   "source": [
    "print(ord(\"q\"))"
   ]
  },
  {
   "cell_type": "code",
   "execution_count": 5,
   "id": "47bb9c5d",
   "metadata": {},
   "outputs": [
    {
     "name": "stdout",
     "output_type": "stream",
     "text": [
      "-1\n"
     ]
    }
   ],
   "source": [
    "#要有Frame才能有值\n",
    "k = cv2.waitKey(5000)\n",
    "print(k)"
   ]
  },
  {
   "cell_type": "code",
   "execution_count": 7,
   "id": "5ac12b1d",
   "metadata": {},
   "outputs": [],
   "source": [
    "#用0的話要destroy，不然會掛掉\n",
    "import cv2\n",
    "cv2.namedWindow(\"Frame\", cv2.WINDOW_FULLSCREEN)\n",
    "cv2.waitKey(0)\n",
    "cv2.destroyWindow(\"Frame\")"
   ]
  },
  {
   "cell_type": "code",
   "execution_count": 1,
   "id": "9df0a66d",
   "metadata": {},
   "outputs": [
    {
     "name": "stdout",
     "output_type": "stream",
     "text": [
      "exit\n"
     ]
    }
   ],
   "source": [
    "import cv2\n",
    "\n",
    "capture = cv2.VideoCapture(0)\n",
    "if capture.isOpened():\n",
    "    while True:\n",
    "        success, img = capture.read()\n",
    "        if success:\n",
    "            cv2.imshow(\"Frame\", img)\n",
    "        k = cv2.waitKey(100)\n",
    "        if k == ord(\"s\") or k == ord(\"S\"):\n",
    "            cv2.imwrite(\"shot1.jpg\", img)\n",
    "            print(\"稍後在此加入車牌辨識功能\")\n",
    "        \n",
    "        if k == ord(\"q\") or k == ord(\"Q\"):\n",
    "            print(\"exit\")\n",
    "            cv2.destroyAllWindows()\n",
    "            capture.release()\n",
    "            break\n",
    "else:\n",
    "    print(\"開啟攝影機失敗\")"
   ]
  },
  {
   "cell_type": "markdown",
   "id": "81c74f9e",
   "metadata": {},
   "source": [
    "# 10-2 Azure 電腦視覺API\n",
    "\n",
    "## 金鑰1：4f4167ec50fe45b2a4636f903def1a40\n",
    "## 金鑰2：6cb013363e234978916482925f6ef47e"
   ]
  },
  {
   "cell_type": "code",
   "execution_count": 1,
   "id": "44c8921c",
   "metadata": {},
   "outputs": [
    {
     "name": "stdout",
     "output_type": "stream",
     "text": [
      "Sleep...\n",
      "Sleep...\n",
      "Sleep...\n",
      "Wake Up!\n"
     ]
    }
   ],
   "source": [
    "import time\n",
    "for _ in range(0, 3):\n",
    "    print(\"Sleep...\")\n",
    "    time.sleep(1)\n",
    "print(\"Wake Up!\")"
   ]
  },
  {
   "cell_type": "code",
   "execution_count": 37,
   "id": "e4ff2164",
   "metadata": {},
   "outputs": [
    {
     "name": "stdout",
     "output_type": "stream",
     "text": [
      "['Cefi', 'ro', '9C', '9508']\n",
      "<re.Match object; span=(0, 4), match='Cefi'>\n",
      "Cefi\n"
     ]
    }
   ],
   "source": [
    "import re\n",
    "string = \"Cefiro 9C-9508\"\n",
    "result = re.search(\"[\\w]{2,4}\", string)\n",
    "print(re.findall(r\"[\\w]{2,4}\", string))\n",
    "print(result)\n",
    "print(result.group())"
   ]
  },
  {
   "cell_type": "code",
   "execution_count": 45,
   "id": "51c321f0",
   "metadata": {},
   "outputs": [
    {
     "name": "stdout",
     "output_type": "stream",
     "text": [
      "status:  succeeded\n",
      "9C-9508\n"
     ]
    }
   ],
   "source": [
    "import requests\n",
    "import cv2\n",
    "import re\n",
    "import time\n",
    "\n",
    "base = \"https://vike.cognitiveservices.azure.com/vision/v3.2/read/analyze\"#com//也可以\n",
    "recog_url = base#/recognizeText?mode=Printed\"\n",
    "#print(recog_url)\n",
    "key = \"4f4167ec50fe45b2a4636f903def1a40\"\n",
    "headers = {\"Ocp-Apim-Subscription-Key\" : key}\n",
    "headers_stream = {\"Ocp-Apim-Subscription-Key\" : key, \"Content-Type\" : \"application/octet-stream\"}\n",
    "\n",
    "img = cv2.imread(\"car.jpg\")\n",
    "# cv2.imshow(\"Frame\", img)\n",
    "# cv2.waitKey(0)\n",
    "# cv2.destroyAllWindows()\n",
    "img_encode = cv2.imencode(\".jpg\", img)[1]\n",
    "# print(img_encode)\n",
    "img_bytes = img_encode.tobytes()\n",
    "# print(img_bytes)\n",
    "\n",
    "r1 = requests.post(recog_url, headers = headers_stream, data = img_bytes)\n",
    "# r1.headers\n",
    "#r1.status_code\n",
    "\n",
    "# if r1.status_code != 202:\n",
    "#     print(r1.json())\n",
    "#     return \"請求失敗\"\n",
    "\n",
    "result_url = r1.headers[\"Operation-Location\"]\n",
    "r2 = requests.get(result_url, headers = headers)\n",
    "\n",
    "while r2.status_code == 200 and r2.json()[\"status\"] != \"succeeded\":\n",
    "    r2 = requests.get(result_url, headers = headers)\n",
    "    time.sleep(0.5)\n",
    "    print(\"status: \", r2.json()[\"status\"])\n",
    "\n",
    "carcard = \"\"\n",
    "lines = r2.json()[\"analyzeResult\"][\"readResults\"][0][\"lines\"]\n",
    "#lines[0][\"lines\"]\n",
    "# len(lines[0][\"lines\"])\n",
    "for i in range(len(lines)):\n",
    "    text = lines[i][\"text\"]\n",
    "#     print(text)\n",
    "    m = re.match(r\"^[\\w]{2,4}[-. ][\\w]{2,4}$\", text)\n",
    "#     print(m)\n",
    "    if m != None:\n",
    "        carcard = m.group()\n",
    "    \n",
    "if carcard == \"\":\n",
    "    print(\"找不到車牌\")\n",
    "else:\n",
    "    print(carcard)"
   ]
  },
  {
   "cell_type": "code",
   "execution_count": 7,
   "id": "4d11ff14",
   "metadata": {},
   "outputs": [
    {
     "name": "stdout",
     "output_type": "stream",
     "text": [
      "status: Start\n",
      "status:  running\n",
      "status:  succeeded\n",
      "車牌:　 9C-9508\n"
     ]
    }
   ],
   "source": [
    "import requests\n",
    "import cv2\n",
    "import time\n",
    "import re\n",
    "\n",
    "recog_url = \"https://vike.cognitiveservices.azure.com/vision/v3.2/read/analyze\"\n",
    "key = \"4f4167ec50fe45b2a4636f903def1a40\"\n",
    "headers = {\"Ocp-Apim-Subscription-Key\" : key}\n",
    "headers_stream = {\"Ocp-Apim-Subscription-Key\" : key, \"Content-Type\" : \"application/octet-stream\"}\n",
    "\n",
    "def get_license(img):\n",
    "    img_encode = cv2.imencode(\".jpg\", img)[1]\n",
    "    img_bytes = img_encode.tobytes()\n",
    "    r1 = requests.post(recog_url, headers = headers_stream, data = img_bytes)\n",
    "    if r1.status_code != 202:\n",
    "        print(r1.json())\n",
    "        return \"請求失敗\"\n",
    "    result_url = r1.headers[\"Operation-Location\"]\n",
    "    r2 = requests.get(result_url, headers = headers)\n",
    "    while r2.status_code == 200 and r2.json()[\"status\"] != \"succeeded\":\n",
    "        r2 = requests.get(result_url, headers = headers)\n",
    "        time.sleep(0.5)\n",
    "        print(\"status: \", r2.json()[\"status\"])\n",
    "    carcard = \"\"\n",
    "    lines = r2.json()[\"analyzeResult\"][\"readResults\"][0][\"lines\"]\n",
    "    for i in range(len(lines)):\n",
    "        text = lines[i][\"text\"]\n",
    "        m = re.match(r\"^[\\w]{2,4}[-. ][\\w]{2,4}$\", text)\n",
    "        if m != None:\n",
    "            carcard = m.group()\n",
    "            return carcard\n",
    "    if carcard == \"\":\n",
    "        return \"找不到車牌\"\n",
    "    \n",
    "try:\n",
    "    img = cv2.imread(\"car.jpg\")\n",
    "    print(\"status: Start\")\n",
    "    text = get_license(img)\n",
    "    print(\"車牌:　\", text)\n",
    "    cv2.imshow(\"Frame\", img)\n",
    "    cv2.waitKey(0)\n",
    "    cv2.destroyAllWindows()\n",
    "except:\n",
    "    print(\"讀取圖片失敗\")"
   ]
  },
  {
   "cell_type": "markdown",
   "id": "4ef1acc7",
   "metadata": {},
   "source": [
    "# 10-3實戰：車牌辨識系統"
   ]
  },
  {
   "cell_type": "code",
   "execution_count": null,
   "id": "ef1ccf3e",
   "metadata": {},
   "outputs": [
    {
     "name": "stdout",
     "output_type": "stream",
     "text": [
      "status:  running\n",
      "status:  succeeded\n",
      "車牌:  找不到車牌\n",
      "status:  running\n",
      "status:  succeeded\n",
      "車牌:  找不到車牌\n",
      "status:  running\n",
      "status:  succeeded\n",
      "車牌:  找不到車牌\n",
      "status:  running\n",
      "status:  succeeded\n",
      "車牌:  找不到車牌\n",
      "status:  succeeded\n",
      "車牌:  找不到車牌\n",
      "status:  running\n",
      "status:  succeeded\n",
      "車牌:  找不到車牌\n"
     ]
    }
   ],
   "source": [
    "import license_module as m\n",
    "import cv2\n",
    "\n",
    "capture = cv2.VideoCapture(0)\n",
    "if capture.isOpened():\n",
    "    while True:\n",
    "        success, img = capture.read()\n",
    "        if success:\n",
    "            cv2.imshow(\"Frame\", img)\n",
    "        k = cv2.waitKey(100)\n",
    "        if k == ord(\"s\") or k == ord(\"S\"):\n",
    "            cv2.imwrite(\"car4.jpg\", img)\n",
    "            text = m.get_license(img)\n",
    "            print(\"車牌: \", text)\n",
    "        \n",
    "        if k == ord(\"q\") or k == ord(\"Q\"):\n",
    "            print(\"exit\")\n",
    "            cv2.destroyAllWindows()\n",
    "            capture.release()\n",
    "            break\n",
    "else:\n",
    "    print(\"開啟攝影機失敗\")"
   ]
  }
 ],
 "metadata": {
  "kernelspec": {
   "display_name": "Python 3 (ipykernel)",
   "language": "python",
   "name": "python3"
  },
  "language_info": {
   "codemirror_mode": {
    "name": "ipython",
    "version": 3
   },
   "file_extension": ".py",
   "mimetype": "text/x-python",
   "name": "python",
   "nbconvert_exporter": "python",
   "pygments_lexer": "ipython3",
   "version": "3.9.7"
  }
 },
 "nbformat": 4,
 "nbformat_minor": 5
}
