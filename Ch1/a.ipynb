{
 "cells": [
  {
   "cell_type": "markdown",
   "id": "c5bf226a",
   "metadata": {},
   "source": [
    "# 1-0資料的種類:型別"
   ]
  },
  {
   "cell_type": "code",
   "execution_count": 1,
   "id": "dc163638",
   "metadata": {},
   "outputs": [
    {
     "data": {
      "text/plain": [
       "36"
      ]
     },
     "execution_count": 1,
     "metadata": {},
     "output_type": "execute_result"
    }
   ],
   "source": [
    "12 + 24"
   ]
  },
  {
   "cell_type": "code",
   "execution_count": 2,
   "id": "69b07fdb",
   "metadata": {},
   "outputs": [
    {
     "data": {
      "text/plain": [
       "'1234'"
      ]
     },
     "execution_count": 2,
     "metadata": {},
     "output_type": "execute_result"
    }
   ],
   "source": [
    "\"12\" + \"34\""
   ]
  },
  {
   "cell_type": "code",
   "execution_count": 1,
   "id": "14190eb7",
   "metadata": {},
   "outputs": [
    {
     "data": {
      "text/plain": [
       "12300000000.0"
      ]
     },
     "execution_count": 1,
     "metadata": {},
     "output_type": "execute_result"
    }
   ],
   "source": [
    "1.23E10"
   ]
  },
  {
   "cell_type": "code",
   "execution_count": 4,
   "id": "baa178be",
   "metadata": {},
   "outputs": [
    {
     "data": {
      "text/plain": [
       "0.000123"
      ]
     },
     "execution_count": 4,
     "metadata": {},
     "output_type": "execute_result"
    }
   ],
   "source": [
    "1.23e-4"
   ]
  },
  {
   "cell_type": "code",
   "execution_count": 5,
   "id": "4673183c",
   "metadata": {},
   "outputs": [
    {
     "data": {
      "text/plain": [
       "1.23e-05"
      ]
     },
     "execution_count": 5,
     "metadata": {},
     "output_type": "execute_result"
    }
   ],
   "source": [
    "1.23e-5"
   ]
  },
  {
   "cell_type": "code",
   "execution_count": 6,
   "id": "d242d401",
   "metadata": {},
   "outputs": [
    {
     "data": {
      "text/plain": [
       "2"
      ]
     },
     "execution_count": 6,
     "metadata": {},
     "output_type": "execute_result"
    }
   ],
   "source": [
    "True + 1"
   ]
  },
  {
   "cell_type": "code",
   "execution_count": 7,
   "id": "f1d5cab5",
   "metadata": {},
   "outputs": [
    {
     "data": {
      "text/plain": [
       "3.1"
      ]
     },
     "execution_count": 7,
     "metadata": {},
     "output_type": "execute_result"
    }
   ],
   "source": [
    "1 + 2.1"
   ]
  },
  {
   "cell_type": "code",
   "execution_count": 8,
   "id": "e4afe632",
   "metadata": {},
   "outputs": [
    {
     "data": {
      "text/plain": [
       "3.0"
      ]
     },
     "execution_count": 8,
     "metadata": {},
     "output_type": "execute_result"
    }
   ],
   "source": [
    "1 + float(2)"
   ]
  },
  {
   "cell_type": "code",
   "execution_count": 9,
   "id": "510b2e8b",
   "metadata": {},
   "outputs": [
    {
     "data": {
      "text/plain": [
       "'1.02'"
      ]
     },
     "execution_count": 9,
     "metadata": {},
     "output_type": "execute_result"
    }
   ],
   "source": [
    "str(1.0) + \"2\""
   ]
  },
  {
   "cell_type": "code",
   "execution_count": 10,
   "id": "392fad58",
   "metadata": {},
   "outputs": [
    {
     "data": {
      "text/plain": [
       "3"
      ]
     },
     "execution_count": 10,
     "metadata": {},
     "output_type": "execute_result"
    }
   ],
   "source": [
    "2 + int(True)"
   ]
  },
  {
   "cell_type": "code",
   "execution_count": 11,
   "id": "1369168a",
   "metadata": {},
   "outputs": [
    {
     "data": {
      "text/plain": [
       "True"
      ]
     },
     "execution_count": 11,
     "metadata": {},
     "output_type": "execute_result"
    }
   ],
   "source": [
    "bool(\" \")"
   ]
  },
  {
   "cell_type": "markdown",
   "id": "aaa91195",
   "metadata": {},
   "source": [
    "# 1-1資料的名牌:變數"
   ]
  },
  {
   "cell_type": "code",
   "execution_count": 3,
   "id": "a1b2f608",
   "metadata": {},
   "outputs": [
    {
     "name": "stdout",
     "output_type": "stream",
     "text": [
      "18\n"
     ]
    },
    {
     "data": {
      "text/plain": [
       "18"
      ]
     },
     "execution_count": 3,
     "metadata": {},
     "output_type": "execute_result"
    }
   ],
   "source": [
    "age = 18\n",
    "old = 18\n",
    "print(old)\n",
    "age = 20\n",
    "old"
   ]
  },
  {
   "cell_type": "code",
   "execution_count": 5,
   "id": "9b22bbcc",
   "metadata": {},
   "outputs": [
    {
     "name": "stdout",
     "output_type": "stream",
     "text": [
      "18\n"
     ]
    },
    {
     "ename": "NameError",
     "evalue": "name 'age' is not defined",
     "output_type": "error",
     "traceback": [
      "\u001b[1;31m---------------------------------------------------------------------------\u001b[0m",
      "\u001b[1;31mNameError\u001b[0m                                 Traceback (most recent call last)",
      "\u001b[1;32m~\\AppData\\Local\\Temp/ipykernel_15528/2831112745.py\u001b[0m in \u001b[0;36m<module>\u001b[1;34m\u001b[0m\n\u001b[0;32m      2\u001b[0m \u001b[0mprint\u001b[0m\u001b[1;33m(\u001b[0m\u001b[0mage\u001b[0m\u001b[1;33m)\u001b[0m\u001b[1;33m\u001b[0m\u001b[1;33m\u001b[0m\u001b[0m\n\u001b[0;32m      3\u001b[0m \u001b[1;32mdel\u001b[0m \u001b[0mage\u001b[0m\u001b[1;33m\u001b[0m\u001b[1;33m\u001b[0m\u001b[0m\n\u001b[1;32m----> 4\u001b[1;33m \u001b[0mage\u001b[0m\u001b[1;33m\u001b[0m\u001b[1;33m\u001b[0m\u001b[0m\n\u001b[0m",
      "\u001b[1;31mNameError\u001b[0m: name 'age' is not defined"
     ]
    }
   ],
   "source": [
    "age = 18\n",
    "print(age)\n",
    "del age\n",
    "age"
   ]
  },
  {
   "cell_type": "code",
   "execution_count": 4,
   "id": "9d953bc8",
   "metadata": {},
   "outputs": [
    {
     "name": "stdout",
     "output_type": "stream",
     "text": [
      "1935668701616 1935668701616 1935668701616\n",
      "1935668701616 1935668701648\n"
     ]
    },
    {
     "data": {
      "text/plain": [
       "(1935749559024, 1935668701616)"
      ]
     },
     "execution_count": 4,
     "metadata": {},
     "output_type": "execute_result"
    }
   ],
   "source": [
    "a = b = 5\n",
    "print(id(a),id(b),id(5))\n",
    "c = 5;d = 6\n",
    "print(id(c),id(d))\n",
    "c = \"abcd\"\n",
    "id(c),id(a)"
   ]
  },
  {
   "cell_type": "code",
   "execution_count": 8,
   "id": "f290a78f",
   "metadata": {},
   "outputs": [
    {
     "data": {
      "text/plain": [
       "(1935668701616, 1935668701648)"
      ]
     },
     "execution_count": 8,
     "metadata": {},
     "output_type": "execute_result"
    }
   ],
   "source": [
    "c,d = 5,6\n",
    "id(c),id(d)"
   ]
  },
  {
   "cell_type": "markdown",
   "id": "6cc1dfc6",
   "metadata": {},
   "source": [
    "# 1-3運算式與算符"
   ]
  },
  {
   "cell_type": "code",
   "execution_count": 7,
   "id": "0170898e",
   "metadata": {},
   "outputs": [
    {
     "data": {
      "text/plain": [
       "(2, 1)"
      ]
     },
     "execution_count": 7,
     "metadata": {},
     "output_type": "execute_result"
    }
   ],
   "source": [
    "a = b = 1\n",
    "a = a + 1\n",
    "a,b"
   ]
  },
  {
   "cell_type": "code",
   "execution_count": 20,
   "id": "09ef2132",
   "metadata": {},
   "outputs": [
    {
     "name": "stdout",
     "output_type": "stream",
     "text": [
      "6.0\n",
      "2.0 2.5\n",
      "2 1\n",
      "2.0 1.4\n",
      "1 0.5\n",
      "2.0 2.0\n"
     ]
    }
   ],
   "source": [
    "print(2 * 3.0)\n",
    "print(4/2,5/2)\n",
    "print(5//2,5%2)\n",
    "print(4.4//2,3.4%2)\n",
    "print(False + 1,True / 2)\n",
    "print(4 ** 0.5,8 ** (1/3))"
   ]
  },
  {
   "cell_type": "code",
   "execution_count": 4,
   "id": "9086a6ee",
   "metadata": {},
   "outputs": [
    {
     "name": "stdout",
     "output_type": "stream",
     "text": [
      "1.5\n"
     ]
    },
    {
     "data": {
      "text/plain": [
       "2"
      ]
     },
     "execution_count": 4,
     "metadata": {},
     "output_type": "execute_result"
    }
   ],
   "source": [
    "print(3 / 2)\n",
    "round(3 / 2)"
   ]
  },
  {
   "cell_type": "code",
   "execution_count": 22,
   "id": "00721462",
   "metadata": {},
   "outputs": [
    {
     "name": "stdout",
     "output_type": "stream",
     "text": [
      "Ab123\n",
      "AbAbAb\n"
     ]
    }
   ],
   "source": [
    "print(\"Ab\" + \"12\" + \"3\")\n",
    "print(\"Ab\" * 3)"
   ]
  },
  {
   "cell_type": "code",
   "execution_count": 28,
   "id": "ceea9c9b",
   "metadata": {},
   "outputs": [
    {
     "name": "stdout",
     "output_type": "stream",
     "text": [
      "True\n",
      "True\n"
     ]
    },
    {
     "data": {
      "text/plain": [
       "True"
      ]
     },
     "execution_count": 28,
     "metadata": {},
     "output_type": "execute_result"
    }
   ],
   "source": [
    "print(\"abc\" > \"Abc\")\n",
    "print(\"abc\" < \"abcd\")\n",
    "\"Eng\" < \"中文\""
   ]
  },
  {
   "cell_type": "code",
   "execution_count": 30,
   "id": "4155d0be",
   "metadata": {},
   "outputs": [
    {
     "data": {
      "text/plain": [
       "False"
      ]
     },
     "execution_count": 30,
     "metadata": {},
     "output_type": "execute_result"
    }
   ],
   "source": [
    "(5 > 4 and 4 < 3\n",
    "    )"
   ]
  },
  {
   "cell_type": "code",
   "execution_count": 34,
   "id": "9939a1b9",
   "metadata": {},
   "outputs": [
    {
     "name": "stdout",
     "output_type": "stream",
     "text": [
      "3\n",
      "2\n",
      "0\n",
      "2\n"
     ]
    }
   ],
   "source": [
    "print(3 or 2)\n",
    "print(1 and 2)\n",
    "print(0 and 2)\n",
    "print(0 or 2)"
   ]
  },
  {
   "cell_type": "code",
   "execution_count": 37,
   "id": "7a6291ed",
   "metadata": {},
   "outputs": [
    {
     "name": "stdout",
     "output_type": "stream",
     "text": [
      "True\n",
      "True\n"
     ]
    }
   ],
   "source": [
    "a = 4\n",
    "print(3 < a < 6 > (a + 1))\n",
    "print(3 < a and a < 6 and 6 > (a + 1))"
   ]
  },
  {
   "cell_type": "markdown",
   "id": "36674be3",
   "metadata": {},
   "source": [
    "# 1-5Python的內建函式"
   ]
  },
  {
   "cell_type": "code",
   "execution_count": 43,
   "id": "942b6f18",
   "metadata": {},
   "outputs": [
    {
     "name": "stdout",
     "output_type": "stream",
     "text": [
      "8\n",
      "3\n",
      "1.4\n",
      "1\n"
     ]
    }
   ],
   "source": [
    "print(pow(2,3))\n",
    "print(pow(2,3,5))\n",
    "print(round(1.35,1))\n",
    "print(round(1.35))"
   ]
  },
  {
   "cell_type": "code",
   "execution_count": 8,
   "id": "a081fb60",
   "metadata": {},
   "outputs": [
    {
     "name": "stdout",
     "output_type": "stream",
     "text": [
      "2\n",
      "2\n",
      "0.30000000000000004\n",
      "2.21\n"
     ]
    }
   ],
   "source": [
    "print(round(1.5))\n",
    "print(round(2.5))\n",
    "print(0.1 * 3)\n",
    "print(round(2.215,2))"
   ]
  },
  {
   "cell_type": "markdown",
   "id": "30ed1fdd",
   "metadata": {},
   "source": [
    "# 補充學習"
   ]
  },
  {
   "cell_type": "code",
   "execution_count": 57,
   "id": "38cf786c",
   "metadata": {},
   "outputs": [
    {
     "name": "stdout",
     "output_type": "stream",
     "text": [
      "怎'麼'可能\n",
      "\"會\"這樣\n",
      "怎'麼'可能\\n\\\"會\\\"這樣\n",
      "\\\"\n"
     ]
    }
   ],
   "source": [
    "print(\"怎'麼'可能\\n\\\"會\\\"這樣\")\n",
    "print(r\"怎'麼'可能\\n\\\"會\\\"這樣\")\n",
    "print(r\"\\\"\")\n",
    "# print(r\"\\\")"
   ]
  },
  {
   "cell_type": "code",
   "execution_count": 60,
   "id": "bd0772eb",
   "metadata": {},
   "outputs": [
    {
     "name": "stdout",
     "output_type": "stream",
     "text": [
      "5\n",
      "83\n",
      "298\n"
     ]
    }
   ],
   "source": [
    "print(0b101)\n",
    "print(0o123)\n",
    "print(0x12a)"
   ]
  },
  {
   "cell_type": "code",
   "execution_count": 64,
   "id": "9c24aca2",
   "metadata": {},
   "outputs": [
    {
     "name": "stdout",
     "output_type": "stream",
     "text": [
      "0b1111\n",
      "0o17\n",
      "0xf\n"
     ]
    }
   ],
   "source": [
    "print(bin(15))\n",
    "print(oct(15))\n",
    "print(hex(15))"
   ]
  },
  {
   "cell_type": "code",
   "execution_count": 66,
   "id": "06ec6976",
   "metadata": {},
   "outputs": [
    {
     "name": "stdout",
     "output_type": "stream",
     "text": [
      "1\n",
      "0\n"
     ]
    }
   ],
   "source": [
    "print(0^1)\n",
    "print(0^0)"
   ]
  },
  {
   "cell_type": "code",
   "execution_count": 75,
   "id": "26a4cea0",
   "metadata": {},
   "outputs": [
    {
     "name": "stdout",
     "output_type": "stream",
     "text": [
      "-0b1011\n",
      "-0b1010\n",
      "0b1000\n",
      "0b1110\n",
      "0b110\n"
     ]
    }
   ],
   "source": [
    "print(bin(~0b00001010))\n",
    "print(bin(~0b1001))\n",
    "print(bin(0b1010 & 0b1100))\n",
    "print(bin(0b1010 | 0b1100))\n",
    "print(bin(0b1010 ^ 0b1100))"
   ]
  },
  {
   "cell_type": "code",
   "execution_count": 74,
   "id": "4a55c1e2",
   "metadata": {},
   "outputs": [
    {
     "name": "stdout",
     "output_type": "stream",
     "text": [
      "0b1000\n",
      "0b100\n"
     ]
    }
   ],
   "source": [
    "print(bin(0b00000001 << 3))\n",
    "print(bin(0b00010000 >> 2))"
   ]
  },
  {
   "cell_type": "code",
   "execution_count": 10,
   "id": "5b4f3efc",
   "metadata": {},
   "outputs": [
    {
     "name": "stderr",
     "output_type": "stream",
     "text": [
      "<>:3: SyntaxWarning: \"is\" with a literal. Did you mean \"==\"?\n",
      "<>:3: SyntaxWarning: \"is\" with a literal. Did you mean \"==\"?\n",
      "C:\\Users\\Vick\\AppData\\Local\\Temp/ipykernel_14760/2905489272.py:3: SyntaxWarning: \"is\" with a literal. Did you mean \"==\"?\n",
      "  a is b is 1\n"
     ]
    },
    {
     "data": {
      "text/plain": [
       "True"
      ]
     },
     "execution_count": 10,
     "metadata": {},
     "output_type": "execute_result"
    }
   ],
   "source": [
    "a = 1\n",
    "b = 2 - 1\n",
    "a is b is 1"
   ]
  },
  {
   "cell_type": "code",
   "execution_count": 80,
   "id": "228cb322",
   "metadata": {},
   "outputs": [
    {
     "name": "stdout",
     "output_type": "stream",
     "text": [
      "1935750470144 1935750470144 1935750470080\n",
      "True\n",
      "True\n",
      "True\n"
     ]
    }
   ],
   "source": [
    "s = [1,2]\n",
    "t = s\n",
    "u = s.copy()\n",
    "print(id(s),id(t),id(u))\n",
    "print(s is t)\n",
    "print(s is not u)\n",
    "print(s == u)"
   ]
  }
 ],
 "metadata": {
  "kernelspec": {
   "display_name": "Python 3 (ipykernel)",
   "language": "python",
   "name": "python3"
  },
  "language_info": {
   "codemirror_mode": {
    "name": "ipython",
    "version": 3
   },
   "file_extension": ".py",
   "mimetype": "text/x-python",
   "name": "python",
   "nbconvert_exporter": "python",
   "pygments_lexer": "ipython3",
   "version": "3.9.7"
  }
 },
 "nbformat": 4,
 "nbformat_minor": 5
}
