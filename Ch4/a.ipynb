{
 "cells": [
  {
   "cell_type": "markdown",
   "id": "3b4a9ec1",
   "metadata": {},
   "source": [
    "# 4-1參數的傳遞與傳回值"
   ]
  },
  {
   "cell_type": "code",
   "execution_count": 1,
   "id": "3193be1a",
   "metadata": {},
   "outputs": [
    {
     "name": "stdout",
     "output_type": "stream",
     "text": [
      "Help on built-in function print in module builtins:\n",
      "\n",
      "print(...)\n",
      "    print(value, ..., sep=' ', end='\\n', file=sys.stdout, flush=False)\n",
      "    \n",
      "    Prints the values to a stream, or to sys.stdout by default.\n",
      "    Optional keyword arguments:\n",
      "    file:  a file-like object (stream); defaults to the current sys.stdout.\n",
      "    sep:   string inserted between values, default a space.\n",
      "    end:   string appended after the last value, default a newline.\n",
      "    flush: whether to forcibly flush the stream.\n",
      "\n",
      "Help on built-in function len in module builtins:\n",
      "\n",
      "len(obj, /)\n",
      "    Return the number of items in a container.\n",
      "\n"
     ]
    }
   ],
   "source": [
    "help(print)\n",
    "help(len)"
   ]
  },
  {
   "cell_type": "code",
   "execution_count": 2,
   "id": "e475cf9f",
   "metadata": {},
   "outputs": [
    {
     "name": "stdout",
     "output_type": "stream",
     "text": [
      "12\n",
      "60\n"
     ]
    }
   ],
   "source": [
    "def calc(w, h, d = 1):\n",
    "    return w * h * d\n",
    "\n",
    "print(calc(3, 4))\n",
    "print(calc(3, 4, 5))"
   ]
  },
  {
   "cell_type": "code",
   "execution_count": 3,
   "id": "8625c5b0",
   "metadata": {},
   "outputs": [
    {
     "name": "stdout",
     "output_type": "stream",
     "text": [
      "王小明先生 好久不見\n"
     ]
    }
   ],
   "source": [
    "def sayHi(name, title = \"先生\", hi = \"你好\"):\n",
    "    print(name + title, hi)\n",
    "    \n",
    "sayHi(\"王小明\", hi = \"好久不見\")"
   ]
  },
  {
   "cell_type": "code",
   "execution_count": 7,
   "id": "6fcdc35e",
   "metadata": {},
   "outputs": [
    {
     "name": "stdout",
     "output_type": "stream",
     "text": [
      "12\n",
      "None\n"
     ]
    }
   ],
   "source": [
    "def calc(w, h):\n",
    "    if (w <= 0 or h <= 0):\n",
    "        return\n",
    "    return w * h#沒有打return，只有 w * h也是None\n",
    "\n",
    "print(calc(3, 4))\n",
    "print(calc(3, -4))"
   ]
  },
  {
   "cell_type": "code",
   "execution_count": 8,
   "id": "ff62a810",
   "metadata": {},
   "outputs": [
    {
     "name": "stdout",
     "output_type": "stream",
     "text": [
      "(14, 12)\n"
     ]
    }
   ],
   "source": [
    "def calc(w, h):\n",
    "    return ((w + h) * 2, w * h)\n",
    "\n",
    "print(calc(3, 4))"
   ]
  },
  {
   "cell_type": "code",
   "execution_count": 11,
   "id": "9582e2d9",
   "metadata": {},
   "outputs": [
    {
     "name": "stdout",
     "output_type": "stream",
     "text": [
      "[(18, 20), '長方形']\n",
      "18 20 長方形\n"
     ]
    }
   ],
   "source": [
    "def calc(w, h):\n",
    "    return [((w + h) * 2, w * h), \"正方形\" if w == h else \"長方形\"]\n",
    "\n",
    "a = calc(4, 5)\n",
    "print(a)\n",
    "((a, b), c) = calc(4, 5)\n",
    "print(a, b, c)"
   ]
  },
  {
   "cell_type": "code",
   "execution_count": 12,
   "id": "25960f36",
   "metadata": {},
   "outputs": [
    {
     "name": "stdout",
     "output_type": "stream",
     "text": [
      "6\n"
     ]
    }
   ],
   "source": [
    "def calc(w, h):\n",
    "    return w * h\n",
    "\n",
    "a = calc\n",
    "print(a(2, 3))"
   ]
  },
  {
   "cell_type": "code",
   "execution_count": 14,
   "id": "885cb0e9",
   "metadata": {},
   "outputs": [
    {
     "name": "stdout",
     "output_type": "stream",
     "text": [
      "12 8 15 "
     ]
    }
   ],
   "source": [
    "s = [(3, 4), (2, 4), (5, 3)]\n",
    "def calc(w, h):\n",
    "    return w * h\n",
    "\n",
    "def calcall(conta, func):\n",
    "    for r in conta:\n",
    "        print(func(r[0], r[1]), end = \" \")\n",
    "        \n",
    "calcall(s, calc)"
   ]
  },
  {
   "cell_type": "markdown",
   "id": "1a0dd5db",
   "metadata": {},
   "source": [
    "# 4-2不定數目的參數*args和**kwargs"
   ]
  },
  {
   "cell_type": "code",
   "execution_count": 12,
   "id": "e980d614",
   "metadata": {},
   "outputs": [
    {
     "name": "stdout",
     "output_type": "stream",
     "text": [
      "(1, 2, 3, 4)\n",
      "加總 (1, 2, 3, 4) = 10\n"
     ]
    }
   ],
   "source": [
    "def prnSum(name, *args):\n",
    "    #print(args)\n",
    "    print(name, args, \"=\", sum(args))\n",
    "\n",
    "prnSum(\"加總\", 1, 2, 3, 4)#(1, 2, 3, 4)會被打包成((1, 2, 3, 4),)"
   ]
  },
  {
   "cell_type": "code",
   "execution_count": 19,
   "id": "54ad72e5",
   "metadata": {},
   "outputs": [
    {
     "name": "stdout",
     "output_type": "stream",
     "text": [
      "加總 : (1, 2, 3, 4) = 10 元\n"
     ]
    }
   ],
   "source": [
    "def prnSum(name, pre = \">\", *args, post = \"#\"):\n",
    "    print(name, pre, args, \"=\", sum(args), post)\n",
    "    \n",
    "prnSum(\"加總\", \":\", 1, 2, 3, 4, post = \"元\")"
   ]
  },
  {
   "cell_type": "code",
   "execution_count": 20,
   "id": "11d99f56",
   "metadata": {},
   "outputs": [
    {
     "name": "stdout",
     "output_type": "stream",
     "text": [
      "飲料 {'紅茶': 40, '咖啡': 70, '果汁': 85}\n"
     ]
    }
   ],
   "source": [
    "def prnPrice(name, **kwargs):\n",
    "    print(name, kwargs)\n",
    "    \n",
    "prnPrice(\"飲料\", 紅茶 = 40, 咖啡 = 70, 果汁 = 85)"
   ]
  },
  {
   "cell_type": "code",
   "execution_count": 21,
   "id": "13a76623",
   "metadata": {},
   "outputs": [
    {
     "name": "stdout",
     "output_type": "stream",
     "text": [
      "飲料('早餐8折', '宵夜9折'):{'紅茶': 40, '咖啡': 70, '果汁': 85}\n"
     ]
    }
   ],
   "source": [
    "def prnPrice(name, *args, **kwargs):\n",
    "    print(name, args, \":\", kwargs, sep = \"\")\n",
    "\n",
    "dscnt = (\"早餐8折\", \"宵夜9折\")\n",
    "drink = {\"紅茶\": 40, \"咖啡\": 70, \"果汁\": 85}\n",
    "prnPrice(\"飲料\", *dscnt, **drink)"
   ]
  },
  {
   "cell_type": "markdown",
   "id": "2dd6e747",
   "metadata": {},
   "source": [
    "# 4-3lambda匿名函式"
   ]
  },
  {
   "cell_type": "code",
   "execution_count": null,
   "id": "006b3c54",
   "metadata": {},
   "outputs": [],
   "source": [
    "def calc(w, h):\n",
    "    return w * h\n",
    "\n",
    "lambda w, h: w * h"
   ]
  },
  {
   "cell_type": "code",
   "execution_count": 36,
   "id": "89f68212",
   "metadata": {},
   "outputs": [
    {
     "name": "stdout",
     "output_type": "stream",
     "text": [
      "12 8 15 \n",
      "14 12 16 "
     ]
    }
   ],
   "source": [
    "s = [(3, 4), (2, 4), (5, 3)]\n",
    "def calcAll(rects, func):\n",
    "    for r in rects:\n",
    "        print(func(r[0], r[1]), end = \" \")\n",
    "        \n",
    "calcAll(s, lambda w, h: w * h)\n",
    "print()\n",
    "calcAll(s, lambda w, h: (w + h) * 2)"
   ]
  },
  {
   "cell_type": "code",
   "execution_count": 29,
   "id": "c70b60c5",
   "metadata": {},
   "outputs": [
    {
     "name": "stdout",
     "output_type": "stream",
     "text": [
      "12\n"
     ]
    }
   ],
   "source": [
    "calc = lambda w, h: w * h\n",
    "print(calc(3, 4))"
   ]
  },
  {
   "cell_type": "code",
   "execution_count": 34,
   "id": "0aac8c75",
   "metadata": {},
   "outputs": [
    {
     "name": "stdout",
     "output_type": "stream",
     "text": [
      "12\n"
     ]
    }
   ],
   "source": [
    "calc = lambda : 3 * 4\n",
    "print(calc())"
   ]
  },
  {
   "cell_type": "code",
   "execution_count": 38,
   "id": "4b3c99ab",
   "metadata": {},
   "outputs": [
    {
     "name": "stdout",
     "output_type": "stream",
     "text": [
      "[(2, 2), (5, 3), (3, 4)]\n",
      "[(3, 4), (2, 2), (5, 3)]\n"
     ]
    }
   ],
   "source": [
    "s = [(3, 4), (2, 2), (5, 3)]\n",
    "print(sorted(s, key = lambda e: e[1]))\n",
    "print(s)"
   ]
  },
  {
   "cell_type": "code",
   "execution_count": 39,
   "id": "ef3afc08",
   "metadata": {},
   "outputs": [
    {
     "data": {
      "text/plain": [
       "[(2, 2), (5, 3), (3, 4)]"
      ]
     },
     "execution_count": 39,
     "metadata": {},
     "output_type": "execute_result"
    }
   ],
   "source": [
    "s = [(3, 4), (2, 2), (5, 3)]\n",
    "s.sort(key = lambda e: e[1])\n",
    "s"
   ]
  },
  {
   "cell_type": "markdown",
   "id": "751bdcbd",
   "metadata": {},
   "source": [
    "# 4-4變數的有效範圍Scope Rule"
   ]
  },
  {
   "cell_type": "code",
   "execution_count": 20,
   "id": "68e44b3c",
   "metadata": {},
   "outputs": [
    {
     "name": "stdout",
     "output_type": "stream",
     "text": [
      "2 3 1\n",
      "1 1 1\n"
     ]
    }
   ],
   "source": [
    "a = b = c = 1\n",
    "\n",
    "def test(b):\n",
    "    a = 2\n",
    "    print(a, b, c)\n",
    "    \n",
    "test(3)\n",
    "print(a, b, c)"
   ]
  },
  {
   "cell_type": "code",
   "execution_count": 4,
   "id": "a896f4b2",
   "metadata": {},
   "outputs": [
    {
     "name": "stdout",
     "output_type": "stream",
     "text": [
      "2 3 33\n",
      "1 1 33\n"
     ]
    }
   ],
   "source": [
    "a = b = c = 1\n",
    "\n",
    "def test(b):\n",
    "    global c\n",
    "    a = 2\n",
    "    c = 33\n",
    "    \n",
    "    print(a, b, c)\n",
    "    \n",
    "test(3)\n",
    "print(a, b, c)"
   ]
  },
  {
   "cell_type": "code",
   "execution_count": 3,
   "id": "56378a6b",
   "metadata": {},
   "outputs": [
    {
     "name": "stdout",
     "output_type": "stream",
     "text": [
      "['sss', 8, 9] ['aaa', 2, 3] ['ttt', 5, 6]\n",
      "['aaa', 2, 3] ['ttt', 5, 6]\n"
     ]
    }
   ],
   "source": [
    "s = [1, 2, 3]\n",
    "t = [4, 5, 6]\n",
    "\n",
    "def test(a):\n",
    "    a[0] = \"aaa\"\n",
    "    t[0] = \"ttt\"\n",
    "    #print(s)會出錯\n",
    "    s = [7, 8, 9]\n",
    "    s[0] = \"sss\"\n",
    "    print(s, a, t)\n",
    "    \n",
    "test(s)\n",
    "print(s, t)"
   ]
  },
  {
   "cell_type": "markdown",
   "id": "643eee4b",
   "metadata": {},
   "source": [
    "# 補充學習"
   ]
  },
  {
   "cell_type": "code",
   "execution_count": 25,
   "id": "41843075",
   "metadata": {},
   "outputs": [
    {
     "name": "stdout",
     "output_type": "stream",
     "text": [
      "Help on function calc in module __main__:\n",
      "\n",
      "calc(w, h, d=1)\n",
      "    計算體積， 若d省略則可計算面積\n",
      "\n",
      "None\n",
      "計算體積， 若d省略則可計算面積\n"
     ]
    }
   ],
   "source": [
    "def calc(w, h, d = 1):\n",
    "    \"\"\"計算體積， 若d省略則可計算面積\"\"\"\n",
    "    return w * h * d\n",
    "\n",
    "print(help(calc))\n",
    "print(calc.__doc__)"
   ]
  },
  {
   "cell_type": "code",
   "execution_count": 27,
   "id": "65acb2c0",
   "metadata": {},
   "outputs": [],
   "source": [
    "from keras.datasets import mnist\n",
    "\n",
    "(train_images, train_labels), (test_images, test_labels) = mnist.load_data()\n",
    "print(type(train_images))\n",
    "print(train_images)"
   ]
  }
 ],
 "metadata": {
  "kernelspec": {
   "display_name": "Python 3 (ipykernel)",
   "language": "python",
   "name": "python3"
  },
  "language_info": {
   "codemirror_mode": {
    "name": "ipython",
    "version": 3
   },
   "file_extension": ".py",
   "mimetype": "text/x-python",
   "name": "python",
   "nbconvert_exporter": "python",
   "pygments_lexer": "ipython3",
   "version": "3.10.9"
  }
 },
 "nbformat": 4,
 "nbformat_minor": 5
}
